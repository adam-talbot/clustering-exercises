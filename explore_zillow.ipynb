{
 "cells": [
  {
   "cell_type": "markdown",
   "id": "422e26ec-c4ce-4474-87e9-160bdf61beee",
   "metadata": {},
   "source": [
    "# Explore Zillow"
   ]
  },
  {
   "cell_type": "code",
   "execution_count": 1,
   "id": "7ca4dfca-367d-4c32-a80d-3b71ad33b490",
   "metadata": {},
   "outputs": [],
   "source": [
    "# standard imports\n",
    "import pandas as pd\n",
    "import numpy as np\n",
    "import seaborn as sns\n",
    "import matplotlib.pyplot as plt\n",
    "\n",
    "# ignore warnings\n",
    "import warnings\n",
    "warnings.filterwarnings(\"ignore\")\n",
    "\n",
    "# custom imports\n",
    "import wrangle_zillow as w"
   ]
  },
  {
   "cell_type": "code",
   "execution_count": 2,
   "id": "b9766745-17f0-418a-b739-6f5438f53701",
   "metadata": {},
   "outputs": [],
   "source": [
    "df = w.get_zillow_data()"
   ]
  },
  {
   "cell_type": "code",
   "execution_count": 3,
   "id": "e12d482c-a2a8-4d82-a65d-0343f2560e29",
   "metadata": {},
   "outputs": [
    {
     "data": {
      "text/plain": [
       "(77381, 69)"
      ]
     },
     "execution_count": 3,
     "metadata": {},
     "output_type": "execute_result"
    }
   ],
   "source": [
    "df.shape"
   ]
  },
  {
   "cell_type": "code",
   "execution_count": 4,
   "id": "f0531b99-1a49-4504-b867-ccb8dd033923",
   "metadata": {},
   "outputs": [],
   "source": [
    "df = w.clean_zillow(df)"
   ]
  },
  {
   "cell_type": "code",
   "execution_count": 5,
   "id": "c9076cd7-087e-4130-a6d3-5ec9502f000a",
   "metadata": {},
   "outputs": [
    {
     "data": {
      "text/plain": [
       "(41062, 18)"
      ]
     },
     "execution_count": 5,
     "metadata": {},
     "output_type": "execute_result"
    }
   ],
   "source": [
    "df.shape"
   ]
  },
  {
   "cell_type": "code",
   "execution_count": 7,
   "id": "dfdc5697-c63f-45ff-81ca-6888b22927c5",
   "metadata": {},
   "outputs": [
    {
     "data": {
      "text/html": [
       "<div>\n",
       "<style scoped>\n",
       "    .dataframe tbody tr th:only-of-type {\n",
       "        vertical-align: middle;\n",
       "    }\n",
       "\n",
       "    .dataframe tbody tr th {\n",
       "        vertical-align: top;\n",
       "    }\n",
       "\n",
       "    .dataframe thead th {\n",
       "        text-align: right;\n",
       "    }\n",
       "</style>\n",
       "<table border=\"1\" class=\"dataframe\">\n",
       "  <thead>\n",
       "    <tr style=\"text-align: right;\">\n",
       "      <th></th>\n",
       "      <th>bath_cnt</th>\n",
       "      <th>bed_cnt</th>\n",
       "      <th>sqft</th>\n",
       "      <th>latitude</th>\n",
       "      <th>longitude</th>\n",
       "      <th>lot_sqft</th>\n",
       "      <th>total_rooms</th>\n",
       "      <th>year_built</th>\n",
       "      <th>assessed_value</th>\n",
       "      <th>log_error</th>\n",
       "    </tr>\n",
       "  </thead>\n",
       "  <tbody>\n",
       "    <tr>\n",
       "      <th>count</th>\n",
       "      <td>41062.000000</td>\n",
       "      <td>41062.000000</td>\n",
       "      <td>41062.000000</td>\n",
       "      <td>4.106200e+04</td>\n",
       "      <td>4.106200e+04</td>\n",
       "      <td>41062.000000</td>\n",
       "      <td>41062.000000</td>\n",
       "      <td>41062.000000</td>\n",
       "      <td>4.106200e+04</td>\n",
       "      <td>41062.000000</td>\n",
       "    </tr>\n",
       "    <tr>\n",
       "      <th>mean</th>\n",
       "      <td>2.067191</td>\n",
       "      <td>3.194973</td>\n",
       "      <td>1657.989309</td>\n",
       "      <td>3.401962e+07</td>\n",
       "      <td>-1.181857e+08</td>\n",
       "      <td>6618.087185</td>\n",
       "      <td>6.155935</td>\n",
       "      <td>1961.603672</td>\n",
       "      <td>3.625712e+05</td>\n",
       "      <td>0.016138</td>\n",
       "    </tr>\n",
       "    <tr>\n",
       "      <th>std</th>\n",
       "      <td>0.713921</td>\n",
       "      <td>0.783544</td>\n",
       "      <td>582.561136</td>\n",
       "      <td>2.709749e+05</td>\n",
       "      <td>3.509184e+05</td>\n",
       "      <td>2036.753498</td>\n",
       "      <td>1.610426</td>\n",
       "      <td>21.879122</td>\n",
       "      <td>2.345757e+05</td>\n",
       "      <td>0.161264</td>\n",
       "    </tr>\n",
       "    <tr>\n",
       "      <th>min</th>\n",
       "      <td>1.000000</td>\n",
       "      <td>2.000000</td>\n",
       "      <td>152.000000</td>\n",
       "      <td>3.334062e+07</td>\n",
       "      <td>-1.194753e+08</td>\n",
       "      <td>1313.000000</td>\n",
       "      <td>3.000000</td>\n",
       "      <td>1878.000000</td>\n",
       "      <td>3.254000e+03</td>\n",
       "      <td>-4.655420</td>\n",
       "    </tr>\n",
       "    <tr>\n",
       "      <th>25%</th>\n",
       "      <td>2.000000</td>\n",
       "      <td>3.000000</td>\n",
       "      <td>1227.000000</td>\n",
       "      <td>3.382775e+07</td>\n",
       "      <td>-1.183764e+08</td>\n",
       "      <td>5400.000000</td>\n",
       "      <td>5.000000</td>\n",
       "      <td>1950.000000</td>\n",
       "      <td>1.711905e+05</td>\n",
       "      <td>-0.024234</td>\n",
       "    </tr>\n",
       "    <tr>\n",
       "      <th>50%</th>\n",
       "      <td>2.000000</td>\n",
       "      <td>3.000000</td>\n",
       "      <td>1540.000000</td>\n",
       "      <td>3.399876e+07</td>\n",
       "      <td>-1.181383e+08</td>\n",
       "      <td>6500.000000</td>\n",
       "      <td>6.000000</td>\n",
       "      <td>1959.000000</td>\n",
       "      <td>3.307080e+05</td>\n",
       "      <td>0.005653</td>\n",
       "    </tr>\n",
       "    <tr>\n",
       "      <th>75%</th>\n",
       "      <td>2.500000</td>\n",
       "      <td>4.000000</td>\n",
       "      <td>1991.000000</td>\n",
       "      <td>3.418785e+07</td>\n",
       "      <td>-1.179378e+08</td>\n",
       "      <td>7659.000000</td>\n",
       "      <td>7.000000</td>\n",
       "      <td>1976.000000</td>\n",
       "      <td>5.074972e+05</td>\n",
       "      <td>0.035796</td>\n",
       "    </tr>\n",
       "    <tr>\n",
       "      <th>max</th>\n",
       "      <td>4.000000</td>\n",
       "      <td>5.000000</td>\n",
       "      <td>3561.000000</td>\n",
       "      <td>3.471836e+07</td>\n",
       "      <td>-1.175546e+08</td>\n",
       "      <td>12493.000000</td>\n",
       "      <td>12.000000</td>\n",
       "      <td>2016.000000</td>\n",
       "      <td>1.081038e+06</td>\n",
       "      <td>3.175688</td>\n",
       "    </tr>\n",
       "  </tbody>\n",
       "</table>\n",
       "</div>"
      ],
      "text/plain": [
       "           bath_cnt       bed_cnt          sqft      latitude     longitude  \\\n",
       "count  41062.000000  41062.000000  41062.000000  4.106200e+04  4.106200e+04   \n",
       "mean       2.067191      3.194973   1657.989309  3.401962e+07 -1.181857e+08   \n",
       "std        0.713921      0.783544    582.561136  2.709749e+05  3.509184e+05   \n",
       "min        1.000000      2.000000    152.000000  3.334062e+07 -1.194753e+08   \n",
       "25%        2.000000      3.000000   1227.000000  3.382775e+07 -1.183764e+08   \n",
       "50%        2.000000      3.000000   1540.000000  3.399876e+07 -1.181383e+08   \n",
       "75%        2.500000      4.000000   1991.000000  3.418785e+07 -1.179378e+08   \n",
       "max        4.000000      5.000000   3561.000000  3.471836e+07 -1.175546e+08   \n",
       "\n",
       "           lot_sqft   total_rooms    year_built  assessed_value     log_error  \n",
       "count  41062.000000  41062.000000  41062.000000    4.106200e+04  41062.000000  \n",
       "mean    6618.087185      6.155935   1961.603672    3.625712e+05      0.016138  \n",
       "std     2036.753498      1.610426     21.879122    2.345757e+05      0.161264  \n",
       "min     1313.000000      3.000000   1878.000000    3.254000e+03     -4.655420  \n",
       "25%     5400.000000      5.000000   1950.000000    1.711905e+05     -0.024234  \n",
       "50%     6500.000000      6.000000   1959.000000    3.307080e+05      0.005653  \n",
       "75%     7659.000000      7.000000   1976.000000    5.074972e+05      0.035796  \n",
       "max    12493.000000     12.000000   2016.000000    1.081038e+06      3.175688  "
      ]
     },
     "execution_count": 7,
     "metadata": {},
     "output_type": "execute_result"
    }
   ],
   "source": [
    "df.describe()"
   ]
  },
  {
   "cell_type": "code",
   "execution_count": 8,
   "id": "f62b5bcc-7188-45a5-83e6-7396716c3f51",
   "metadata": {},
   "outputs": [
    {
     "data": {
      "text/html": [
       "<div>\n",
       "<style scoped>\n",
       "    .dataframe tbody tr th:only-of-type {\n",
       "        vertical-align: middle;\n",
       "    }\n",
       "\n",
       "    .dataframe tbody tr th {\n",
       "        vertical-align: top;\n",
       "    }\n",
       "\n",
       "    .dataframe thead th {\n",
       "        text-align: right;\n",
       "    }\n",
       "</style>\n",
       "<table border=\"1\" class=\"dataframe\">\n",
       "  <thead>\n",
       "    <tr style=\"text-align: right;\">\n",
       "      <th></th>\n",
       "      <th>sale_date</th>\n",
       "      <th>bath_cnt</th>\n",
       "      <th>bed_cnt</th>\n",
       "      <th>sqft</th>\n",
       "      <th>latitude</th>\n",
       "      <th>longitude</th>\n",
       "      <th>lot_sqft</th>\n",
       "      <th>land_use_code</th>\n",
       "      <th>zoning_desc</th>\n",
       "      <th>total_rooms</th>\n",
       "      <th>year_built</th>\n",
       "      <th>assessed_value</th>\n",
       "      <th>census_tract_block</th>\n",
       "      <th>log_error</th>\n",
       "      <th>heating_system</th>\n",
       "      <th>land_use</th>\n",
       "      <th>county</th>\n",
       "      <th>zip</th>\n",
       "    </tr>\n",
       "  </thead>\n",
       "  <tbody>\n",
       "    <tr>\n",
       "      <th>0</th>\n",
       "      <td>2017-01-01</td>\n",
       "      <td>3.5</td>\n",
       "      <td>4</td>\n",
       "      <td>3100</td>\n",
       "      <td>33634931</td>\n",
       "      <td>-117869207</td>\n",
       "      <td>4506</td>\n",
       "      <td>122</td>\n",
       "      <td>LAR1</td>\n",
       "      <td>8</td>\n",
       "      <td>1998</td>\n",
       "      <td>1023282.0</td>\n",
       "      <td>060590630072012</td>\n",
       "      <td>0.025595</td>\n",
       "      <td>Central</td>\n",
       "      <td>Single Family Residential</td>\n",
       "      <td>Orange</td>\n",
       "      <td>96978</td>\n",
       "    </tr>\n",
       "    <tr>\n",
       "      <th>2</th>\n",
       "      <td>2017-01-01</td>\n",
       "      <td>2.0</td>\n",
       "      <td>3</td>\n",
       "      <td>1243</td>\n",
       "      <td>33886168</td>\n",
       "      <td>-117823170</td>\n",
       "      <td>8432</td>\n",
       "      <td>122</td>\n",
       "      <td>LAR1</td>\n",
       "      <td>6</td>\n",
       "      <td>1962</td>\n",
       "      <td>564778.0</td>\n",
       "      <td>060590218022012</td>\n",
       "      <td>0.005383</td>\n",
       "      <td>Central</td>\n",
       "      <td>Single Family Residential</td>\n",
       "      <td>Orange</td>\n",
       "      <td>97078</td>\n",
       "    </tr>\n",
       "    <tr>\n",
       "      <th>7</th>\n",
       "      <td>2017-01-01</td>\n",
       "      <td>1.0</td>\n",
       "      <td>2</td>\n",
       "      <td>738</td>\n",
       "      <td>34149214</td>\n",
       "      <td>-118239357</td>\n",
       "      <td>4214</td>\n",
       "      <td>0100</td>\n",
       "      <td>GLR4YY</td>\n",
       "      <td>3</td>\n",
       "      <td>1922</td>\n",
       "      <td>218552.0</td>\n",
       "      <td>060373020041001</td>\n",
       "      <td>0.101723</td>\n",
       "      <td>Central</td>\n",
       "      <td>Single Family Residential</td>\n",
       "      <td>Los Angeles</td>\n",
       "      <td>96325</td>\n",
       "    </tr>\n",
       "    <tr>\n",
       "      <th>10</th>\n",
       "      <td>2017-01-02</td>\n",
       "      <td>3.0</td>\n",
       "      <td>4</td>\n",
       "      <td>2540</td>\n",
       "      <td>34434971</td>\n",
       "      <td>-118464390</td>\n",
       "      <td>10384</td>\n",
       "      <td>0101</td>\n",
       "      <td>SCUR2</td>\n",
       "      <td>8</td>\n",
       "      <td>1999</td>\n",
       "      <td>430108.0</td>\n",
       "      <td>060379200341014</td>\n",
       "      <td>0.005963</td>\n",
       "      <td>Central</td>\n",
       "      <td>Single Family Residential</td>\n",
       "      <td>Los Angeles</td>\n",
       "      <td>96374</td>\n",
       "    </tr>\n",
       "    <tr>\n",
       "      <th>15</th>\n",
       "      <td>2017-01-02</td>\n",
       "      <td>2.5</td>\n",
       "      <td>3</td>\n",
       "      <td>1371</td>\n",
       "      <td>34238229</td>\n",
       "      <td>-119170633</td>\n",
       "      <td>3445</td>\n",
       "      <td>1111</td>\n",
       "      <td>LAR1</td>\n",
       "      <td>6</td>\n",
       "      <td>2004</td>\n",
       "      <td>198054.0</td>\n",
       "      <td>061110050041163</td>\n",
       "      <td>0.008669</td>\n",
       "      <td>Central</td>\n",
       "      <td>Single Family Residential</td>\n",
       "      <td>Ventura</td>\n",
       "      <td>97107</td>\n",
       "    </tr>\n",
       "  </tbody>\n",
       "</table>\n",
       "</div>"
      ],
      "text/plain": [
       "     sale_date  bath_cnt  bed_cnt  sqft  latitude  longitude  lot_sqft  \\\n",
       "0   2017-01-01       3.5        4  3100  33634931 -117869207      4506   \n",
       "2   2017-01-01       2.0        3  1243  33886168 -117823170      8432   \n",
       "7   2017-01-01       1.0        2   738  34149214 -118239357      4214   \n",
       "10  2017-01-02       3.0        4  2540  34434971 -118464390     10384   \n",
       "15  2017-01-02       2.5        3  1371  34238229 -119170633      3445   \n",
       "\n",
       "   land_use_code zoning_desc  total_rooms  year_built  assessed_value  \\\n",
       "0            122        LAR1            8        1998       1023282.0   \n",
       "2            122        LAR1            6        1962        564778.0   \n",
       "7           0100      GLR4YY            3        1922        218552.0   \n",
       "10          0101       SCUR2            8        1999        430108.0   \n",
       "15          1111        LAR1            6        2004        198054.0   \n",
       "\n",
       "   census_tract_block  log_error heating_system                   land_use  \\\n",
       "0     060590630072012   0.025595        Central  Single Family Residential   \n",
       "2     060590218022012   0.005383        Central  Single Family Residential   \n",
       "7     060373020041001   0.101723        Central  Single Family Residential   \n",
       "10    060379200341014   0.005963        Central  Single Family Residential   \n",
       "15    061110050041163   0.008669        Central  Single Family Residential   \n",
       "\n",
       "         county    zip  \n",
       "0        Orange  96978  \n",
       "2        Orange  97078  \n",
       "7   Los Angeles  96325  \n",
       "10  Los Angeles  96374  \n",
       "15      Ventura  97107  "
      ]
     },
     "execution_count": 8,
     "metadata": {},
     "output_type": "execute_result"
    }
   ],
   "source": [
    "df.head()"
   ]
  },
  {
   "cell_type": "markdown",
   "id": "0e7ddb60-25ec-4be8-94fd-d2f3a7bb60bb",
   "metadata": {},
   "source": [
    "## 1."
   ]
  },
  {
   "cell_type": "markdown",
   "id": "986290b0-7c20-4337-820c-bbee0939fe2d",
   "metadata": {},
   "source": [
    "Ask at least 5 questions about the data, keeping in mind that your target variable is logerror. e.g. Is logerror significantly different for properties in LA County vs Orange County vs Ventura County?"
   ]
  },
  {
   "cell_type": "code",
   "execution_count": 10,
   "id": "7dcf857d-7f1e-48e6-8e4b-bd6769d53f04",
   "metadata": {},
   "outputs": [
    {
     "data": {
      "text/plain": [
       "Central       0.708782\n",
       "Floor/Wall    0.278774\n",
       "Forced air    0.010350\n",
       "Solar         0.001339\n",
       "None          0.000390\n",
       "Baseboard     0.000170\n",
       "Radiant       0.000146\n",
       "Gravity       0.000049\n",
       "Name: heating_system, dtype: float64"
      ]
     },
     "execution_count": 10,
     "metadata": {},
     "output_type": "execute_result"
    }
   ],
   "source": [
    "df.heating_system.value_counts(normalize=True)"
   ]
  },
  {
   "cell_type": "markdown",
   "id": "51d8b9b9-d96d-4eb2-bcbb-f60be4118d24",
   "metadata": {},
   "source": [
    "***My questions:***\n",
    "1. Is logerror significantly different for properties in LA County vs Orange County vs Ventura County?\n",
    "2. Are properties with central heating worth more than those with other types?\n",
    "    - Does this vary by county?\n",
    "3. Is zip code related to assessed value?\n",
    "4. Does lot size increase assessed value for similar sized houses (sqft)?\n",
    "    - Bin houses by sf and compare to lot size\n",
    "5. Is total rooms more correlated than beds or baths to assessed value?\n",
    "6. How are latitude and longitude related to assessed value?\n",
    "7. Is sqft related to log error?\n",
    "    - bin by sqft?\n",
    "8. Might need to think of some more that relate to log error"
   ]
  },
  {
   "cell_type": "markdown",
   "id": "8b16b47b-0928-48ab-a7d2-637ff46d5628",
   "metadata": {},
   "source": [
    "## 2."
   ]
  },
  {
   "cell_type": "markdown",
   "id": "b176b5cb-15ec-4baa-bbbe-80157d0c4932",
   "metadata": {},
   "source": [
    "Answer those questions through a mix of statistical tests and visualizations."
   ]
  },
  {
   "cell_type": "markdown",
   "id": "e02b7ae6-feb5-467d-8578-9d8c1b836492",
   "metadata": {},
   "source": [
    "## Bonus"
   ]
  },
  {
   "cell_type": "markdown",
   "id": "b66020fe-803e-4c80-9f0a-887141e244eb",
   "metadata": {},
   "source": [
    "Compute the mean(logerror) by zipcode and the overall mean(logerror). Write a loop that will run a t-test between the overall mean and the mean for each zip code. We want to identify the zip codes where the error is significantly higher or lower than the expected error."
   ]
  },
  {
   "cell_type": "code",
   "execution_count": null,
   "id": "079d3fc9-0a18-486c-9274-32f9379bf74d",
   "metadata": {},
   "outputs": [],
   "source": []
  }
 ],
 "metadata": {
  "kernelspec": {
   "display_name": "Python 3",
   "language": "python",
   "name": "python3"
  },
  "language_info": {
   "codemirror_mode": {
    "name": "ipython",
    "version": 3
   },
   "file_extension": ".py",
   "mimetype": "text/x-python",
   "name": "python",
   "nbconvert_exporter": "python",
   "pygments_lexer": "ipython3",
   "version": "3.8.8"
  }
 },
 "nbformat": 4,
 "nbformat_minor": 5
}
