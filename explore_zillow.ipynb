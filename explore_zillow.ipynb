{
 "cells": [
  {
   "cell_type": "markdown",
   "id": "422e26ec-c4ce-4474-87e9-160bdf61beee",
   "metadata": {},
   "source": [
    "# Explore Zillow"
   ]
  },
  {
   "cell_type": "markdown",
   "id": "0e7ddb60-25ec-4be8-94fd-d2f3a7bb60bb",
   "metadata": {},
   "source": [
    "## 1."
   ]
  },
  {
   "cell_type": "markdown",
   "id": "986290b0-7c20-4337-820c-bbee0939fe2d",
   "metadata": {},
   "source": [
    "Ask at least 5 questions about the data, keeping in mind that your target variable is logerror. e.g. Is logerror significantly different for properties in LA County vs Orange County vs Ventura County?"
   ]
  },
  {
   "cell_type": "markdown",
   "id": "8b16b47b-0928-48ab-a7d2-637ff46d5628",
   "metadata": {},
   "source": [
    "## 2."
   ]
  },
  {
   "cell_type": "markdown",
   "id": "b176b5cb-15ec-4baa-bbbe-80157d0c4932",
   "metadata": {},
   "source": [
    "Answer those questions through a mix of statistical tests and visualizations."
   ]
  },
  {
   "cell_type": "markdown",
   "id": "e02b7ae6-feb5-467d-8578-9d8c1b836492",
   "metadata": {},
   "source": [
    "## Bonus"
   ]
  },
  {
   "cell_type": "markdown",
   "id": "b66020fe-803e-4c80-9f0a-887141e244eb",
   "metadata": {},
   "source": [
    "Compute the mean(logerror) by zipcode and the overall mean(logerror). Write a loop that will run a t-test between the overall mean and the mean for each zip code. We want to identify the zip codes where the error is significantly higher or lower than the expected error."
   ]
  },
  {
   "cell_type": "code",
   "execution_count": null,
   "id": "079d3fc9-0a18-486c-9274-32f9379bf74d",
   "metadata": {},
   "outputs": [],
   "source": []
  }
 ],
 "metadata": {
  "kernelspec": {
   "display_name": "Python 3",
   "language": "python",
   "name": "python3"
  },
  "language_info": {
   "codemirror_mode": {
    "name": "ipython",
    "version": 3
   },
   "file_extension": ".py",
   "mimetype": "text/x-python",
   "name": "python",
   "nbconvert_exporter": "python",
   "pygments_lexer": "ipython3",
   "version": "3.8.8"
  }
 },
 "nbformat": 4,
 "nbformat_minor": 5
}
