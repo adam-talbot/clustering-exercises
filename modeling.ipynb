{
 "cells": [
  {
   "cell_type": "markdown",
   "id": "e7cd38cc-d41d-4c3d-861b-2234cc7db129",
   "metadata": {},
   "source": [
    "# Clustering Modeling Exercises"
   ]
  },
  {
   "cell_type": "markdown",
   "id": "6a7638d6-c699-435f-92c4-3cf14aab1126",
   "metadata": {},
   "source": [
    "## 1."
   ]
  },
  {
   "cell_type": "markdown",
   "id": "eb6a821a-dc77-420e-86da-2174d8c2e24d",
   "metadata": {},
   "source": [
    "Using this lesson as a guide, perform clustering on the iris dataset.\n",
    "- Choose features other than the ones used in the lesson.\n",
    "- Visualize the results of your clustering.\n",
    "- Use the elbow method to visually select a good value for k.\n",
    "- Repeat the clustering, this time with 3 different features."
   ]
  },
  {
   "cell_type": "markdown",
   "id": "d5dbc4ac-efc9-4444-a204-d0e99a7568cd",
   "metadata": {},
   "source": [
    "## 2."
   ]
  },
  {
   "cell_type": "markdown",
   "id": "b69a8632-6a2f-4a94-b219-60fe4bac2596",
   "metadata": {},
   "source": [
    "Use the techniques discussed in this lesson, as well as the insights gained from the exploration exercise to perform clustering on the mall customers dataset. Be sure to visualize your results!"
   ]
  },
  {
   "cell_type": "markdown",
   "id": "e3aa7bbd-03d2-4d7b-9e49-f398770b4ec0",
   "metadata": {},
   "source": [
    "## 3."
   ]
  },
  {
   "cell_type": "markdown",
   "id": "c3ffedc9-a7a8-4545-a6b7-64d2e7a0cff6",
   "metadata": {},
   "source": [
    "How does scaling impact the results of clustering?\n",
    "\n",
    "Compare k-means clustering results on scaled and unscaled data (you can choose any dataset for this exercise OR use the data/steps outlined in the bonus below). You can show how the resulting clusters differ either with descriptive statistics or visually."
   ]
  },
  {
   "cell_type": "markdown",
   "id": "b82d0fce-4044-487d-8540-35f8ed36925a",
   "metadata": {},
   "source": [
    "## Bonus"
   ]
  },
  {
   "cell_type": "markdown",
   "id": "1738ef8c-8e0d-4426-ace5-1bf86a8c7bed",
   "metadata": {},
   "source": [
    "- a) Read in the data from this google sheet: https://docs.google.com/spreadsheets/d/1j5EgXVTR5ikUj3G5ZCQmkq6ziz_gvtASGAdw23-5_6M/edit?usp=sharing\n",
    "- b) Visualize the data and guess the number and shape of the clusters.\n",
    "- c) Implement the KMeans algorithm on unscaled data and visualize the clusters.\n",
    "- d) Repeat the step above but with scaled data.\n",
    "- c) Write down the takeaways from this exercise."
   ]
  },
  {
   "cell_type": "code",
   "execution_count": null,
   "id": "689d270a-4b8f-41b9-a203-f0832b939f85",
   "metadata": {},
   "outputs": [],
   "source": []
  }
 ],
 "metadata": {
  "kernelspec": {
   "display_name": "Python 3",
   "language": "python",
   "name": "python3"
  },
  "language_info": {
   "codemirror_mode": {
    "name": "ipython",
    "version": 3
   },
   "file_extension": ".py",
   "mimetype": "text/x-python",
   "name": "python",
   "nbconvert_exporter": "python",
   "pygments_lexer": "ipython3",
   "version": "3.8.8"
  }
 },
 "nbformat": 4,
 "nbformat_minor": 5
}
