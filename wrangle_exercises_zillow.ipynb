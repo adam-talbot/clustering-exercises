{
 "cells": [
  {
   "cell_type": "markdown",
   "id": "61f433f1-1bfb-42f6-9559-cd10657fcfcd",
   "metadata": {},
   "source": [
    "# Zillow Wrangle Exercises "
   ]
  },
  {
   "cell_type": "code",
   "execution_count": 1,
   "id": "8f9f13e3-e66f-418d-88cc-4a8536d90d1b",
   "metadata": {},
   "outputs": [],
   "source": [
    "# standard imports\n",
    "import pandas as pd\n",
    "import numpy as np\n",
    "import seaborn as sns\n",
    "import matplotlib.pyplot as plt\n",
    "\n",
    "import os\n",
    "\n",
    "import sklearn\n",
    "from sklearn.model_selection import train_test_split\n",
    "from sklearn.preprocessing import MinMaxScaler\n",
    "\n",
    "# ignore warnings\n",
    "import warnings\n",
    "warnings.filterwarnings(\"ignore\")\n",
    "\n",
    "# custom imports\n",
    "import acquire_zillow as a"
   ]
  },
  {
   "cell_type": "markdown",
   "id": "7a0554c8-0437-40a0-b499-603ceaf31373",
   "metadata": {},
   "source": [
    "## Acquire and Summarize"
   ]
  },
  {
   "cell_type": "markdown",
   "id": "8dffbfdf-1d90-4a7c-afff-428f9e6cfa15",
   "metadata": {},
   "source": [
    "### 1."
   ]
  },
  {
   "cell_type": "markdown",
   "id": "ff043928-155b-4406-808b-e6a39ffa7be7",
   "metadata": {},
   "source": [
    "Acquire data from mySQL using the python module to connect and query. \n",
    "- You will want to end with a single dataframe. \n",
    "- Make sure to include: the logerror, all fields related to the properties that are available. \n",
    "- You will end up using all the tables in the database.\n",
    "- Be sure to do the correct join (inner, outer, etc.). We do not want to eliminate properties purely because they may have a null value for airconditioningtypeid.\n",
    "- Only include properties with a transaction in 2017, and include only the last transaction for each property (so no duplicate property ID's), along with zestimate error and date of transaction.\n",
    "- Only include properties that include a latitude and longitude value."
   ]
  },
  {
   "cell_type": "code",
   "execution_count": 2,
   "id": "fd8956b7-1b4e-4358-9a83-b7f12898bc2e",
   "metadata": {},
   "outputs": [],
   "source": [
    "# get data from SQL database\n",
    "df = a.get_zillow_data()"
   ]
  },
  {
   "cell_type": "code",
   "execution_count": 3,
   "id": "103c505f-8c6d-411d-80da-dfe1b0981d83",
   "metadata": {},
   "outputs": [
    {
     "data": {
      "text/plain": [
       "69"
      ]
     },
     "execution_count": 3,
     "metadata": {},
     "output_type": "execute_result"
    }
   ],
   "source": [
    "df.columns.size"
   ]
  },
  {
   "cell_type": "code",
   "execution_count": 4,
   "id": "549a0c4f-a634-4ca0-80d6-fb19ce671803",
   "metadata": {},
   "outputs": [],
   "source": [
    "# drop all columns that end in id (they are keys from tables and pandas will automatically add an index column that will serve as unique identifier)\n",
    "df = df.drop(columns=[col for col in df.columns.tolist() if col.endswith('id')])"
   ]
  },
  {
   "cell_type": "code",
   "execution_count": 5,
   "id": "8fdbd102-b9c5-4603-825c-54d13affa38d",
   "metadata": {},
   "outputs": [
    {
     "data": {
      "text/plain": [
       "57"
      ]
     },
     "execution_count": 5,
     "metadata": {},
     "output_type": "execute_result"
    }
   ],
   "source": [
    "df.columns.size"
   ]
  },
  {
   "cell_type": "markdown",
   "id": "71970d54-1e0d-43b2-b5db-0c9a5088445e",
   "metadata": {},
   "source": [
    "### 2."
   ]
  },
  {
   "cell_type": "markdown",
   "id": "0a6215bd-a1ae-4be1-93a3-4b83efaa8f73",
   "metadata": {},
   "source": [
    "Summarize your data (summary stats, info, dtypes, shape, distributions, value_counts, etc.)"
   ]
  },
  {
   "cell_type": "code",
   "execution_count": 6,
   "id": "8693cc39-b9e9-42e9-9470-5628830a5492",
   "metadata": {},
   "outputs": [
    {
     "data": {
      "text/plain": [
       "(77381, 57)"
      ]
     },
     "execution_count": 6,
     "metadata": {},
     "output_type": "execute_result"
    }
   ],
   "source": [
    "df.shape"
   ]
  },
  {
   "cell_type": "code",
   "execution_count": 7,
   "id": "d8492b0d-eb54-4a24-866b-18e04f407d6e",
   "metadata": {},
   "outputs": [
    {
     "data": {
      "text/html": [
       "<div>\n",
       "<style scoped>\n",
       "    .dataframe tbody tr th:only-of-type {\n",
       "        vertical-align: middle;\n",
       "    }\n",
       "\n",
       "    .dataframe tbody tr th {\n",
       "        vertical-align: top;\n",
       "    }\n",
       "\n",
       "    .dataframe thead th {\n",
       "        text-align: right;\n",
       "    }\n",
       "</style>\n",
       "<table border=\"1\" class=\"dataframe\">\n",
       "  <thead>\n",
       "    <tr style=\"text-align: right;\">\n",
       "      <th></th>\n",
       "      <th>0</th>\n",
       "      <th>1</th>\n",
       "      <th>2</th>\n",
       "      <th>3</th>\n",
       "      <th>4</th>\n",
       "    </tr>\n",
       "  </thead>\n",
       "  <tbody>\n",
       "    <tr>\n",
       "      <th>transactiondate</th>\n",
       "      <td>2017-01-01</td>\n",
       "      <td>2017-01-01</td>\n",
       "      <td>2017-01-01</td>\n",
       "      <td>2017-01-01</td>\n",
       "      <td>2017-01-01</td>\n",
       "    </tr>\n",
       "    <tr>\n",
       "      <th>basementsqft</th>\n",
       "      <td>NaN</td>\n",
       "      <td>NaN</td>\n",
       "      <td>NaN</td>\n",
       "      <td>NaN</td>\n",
       "      <td>NaN</td>\n",
       "    </tr>\n",
       "    <tr>\n",
       "      <th>bathroomcnt</th>\n",
       "      <td>3.5</td>\n",
       "      <td>1.0</td>\n",
       "      <td>2.0</td>\n",
       "      <td>3.0</td>\n",
       "      <td>3.0</td>\n",
       "    </tr>\n",
       "    <tr>\n",
       "      <th>bedroomcnt</th>\n",
       "      <td>4.0</td>\n",
       "      <td>2.0</td>\n",
       "      <td>3.0</td>\n",
       "      <td>4.0</td>\n",
       "      <td>3.0</td>\n",
       "    </tr>\n",
       "    <tr>\n",
       "      <th>calculatedbathnbr</th>\n",
       "      <td>3.5</td>\n",
       "      <td>1.0</td>\n",
       "      <td>2.0</td>\n",
       "      <td>3.0</td>\n",
       "      <td>3.0</td>\n",
       "    </tr>\n",
       "    <tr>\n",
       "      <th>finishedfloor1squarefeet</th>\n",
       "      <td>NaN</td>\n",
       "      <td>1465.0</td>\n",
       "      <td>NaN</td>\n",
       "      <td>NaN</td>\n",
       "      <td>NaN</td>\n",
       "    </tr>\n",
       "    <tr>\n",
       "      <th>calculatedfinishedsquarefeet</th>\n",
       "      <td>3100.0</td>\n",
       "      <td>1465.0</td>\n",
       "      <td>1243.0</td>\n",
       "      <td>2376.0</td>\n",
       "      <td>1312.0</td>\n",
       "    </tr>\n",
       "    <tr>\n",
       "      <th>finishedsquarefeet12</th>\n",
       "      <td>3100.0</td>\n",
       "      <td>1465.0</td>\n",
       "      <td>1243.0</td>\n",
       "      <td>2376.0</td>\n",
       "      <td>1312.0</td>\n",
       "    </tr>\n",
       "    <tr>\n",
       "      <th>finishedsquarefeet13</th>\n",
       "      <td>NaN</td>\n",
       "      <td>NaN</td>\n",
       "      <td>NaN</td>\n",
       "      <td>NaN</td>\n",
       "      <td>NaN</td>\n",
       "    </tr>\n",
       "    <tr>\n",
       "      <th>finishedsquarefeet15</th>\n",
       "      <td>NaN</td>\n",
       "      <td>NaN</td>\n",
       "      <td>NaN</td>\n",
       "      <td>NaN</td>\n",
       "      <td>NaN</td>\n",
       "    </tr>\n",
       "    <tr>\n",
       "      <th>finishedsquarefeet50</th>\n",
       "      <td>NaN</td>\n",
       "      <td>1465.0</td>\n",
       "      <td>NaN</td>\n",
       "      <td>NaN</td>\n",
       "      <td>NaN</td>\n",
       "    </tr>\n",
       "    <tr>\n",
       "      <th>finishedsquarefeet6</th>\n",
       "      <td>NaN</td>\n",
       "      <td>NaN</td>\n",
       "      <td>NaN</td>\n",
       "      <td>NaN</td>\n",
       "      <td>NaN</td>\n",
       "    </tr>\n",
       "    <tr>\n",
       "      <th>fips</th>\n",
       "      <td>6059.0</td>\n",
       "      <td>6111.0</td>\n",
       "      <td>6059.0</td>\n",
       "      <td>6037.0</td>\n",
       "      <td>6037.0</td>\n",
       "    </tr>\n",
       "    <tr>\n",
       "      <th>fireplacecnt</th>\n",
       "      <td>NaN</td>\n",
       "      <td>1.0</td>\n",
       "      <td>NaN</td>\n",
       "      <td>NaN</td>\n",
       "      <td>NaN</td>\n",
       "    </tr>\n",
       "    <tr>\n",
       "      <th>fullbathcnt</th>\n",
       "      <td>3.0</td>\n",
       "      <td>1.0</td>\n",
       "      <td>2.0</td>\n",
       "      <td>3.0</td>\n",
       "      <td>3.0</td>\n",
       "    </tr>\n",
       "    <tr>\n",
       "      <th>garagecarcnt</th>\n",
       "      <td>2.0</td>\n",
       "      <td>1.0</td>\n",
       "      <td>2.0</td>\n",
       "      <td>NaN</td>\n",
       "      <td>NaN</td>\n",
       "    </tr>\n",
       "    <tr>\n",
       "      <th>garagetotalsqft</th>\n",
       "      <td>633.0</td>\n",
       "      <td>0.0</td>\n",
       "      <td>440.0</td>\n",
       "      <td>NaN</td>\n",
       "      <td>NaN</td>\n",
       "    </tr>\n",
       "    <tr>\n",
       "      <th>hashottuborspa</th>\n",
       "      <td>NaN</td>\n",
       "      <td>NaN</td>\n",
       "      <td>NaN</td>\n",
       "      <td>NaN</td>\n",
       "      <td>NaN</td>\n",
       "    </tr>\n",
       "    <tr>\n",
       "      <th>latitude</th>\n",
       "      <td>33634931.0</td>\n",
       "      <td>34449266.0</td>\n",
       "      <td>33886168.0</td>\n",
       "      <td>34245180.0</td>\n",
       "      <td>34185120.0</td>\n",
       "    </tr>\n",
       "    <tr>\n",
       "      <th>longitude</th>\n",
       "      <td>-117869207.0</td>\n",
       "      <td>-119281531.0</td>\n",
       "      <td>-117823170.0</td>\n",
       "      <td>-118240722.0</td>\n",
       "      <td>-118414640.0</td>\n",
       "    </tr>\n",
       "    <tr>\n",
       "      <th>lotsizesquarefeet</th>\n",
       "      <td>4506.0</td>\n",
       "      <td>12647.0</td>\n",
       "      <td>8432.0</td>\n",
       "      <td>13038.0</td>\n",
       "      <td>278581.0</td>\n",
       "    </tr>\n",
       "    <tr>\n",
       "      <th>poolcnt</th>\n",
       "      <td>NaN</td>\n",
       "      <td>NaN</td>\n",
       "      <td>1.0</td>\n",
       "      <td>1.0</td>\n",
       "      <td>1.0</td>\n",
       "    </tr>\n",
       "    <tr>\n",
       "      <th>poolsizesum</th>\n",
       "      <td>NaN</td>\n",
       "      <td>NaN</td>\n",
       "      <td>NaN</td>\n",
       "      <td>NaN</td>\n",
       "      <td>NaN</td>\n",
       "    </tr>\n",
       "    <tr>\n",
       "      <th>pooltypeid10</th>\n",
       "      <td>NaN</td>\n",
       "      <td>NaN</td>\n",
       "      <td>NaN</td>\n",
       "      <td>NaN</td>\n",
       "      <td>NaN</td>\n",
       "    </tr>\n",
       "    <tr>\n",
       "      <th>pooltypeid2</th>\n",
       "      <td>NaN</td>\n",
       "      <td>NaN</td>\n",
       "      <td>NaN</td>\n",
       "      <td>NaN</td>\n",
       "      <td>NaN</td>\n",
       "    </tr>\n",
       "    <tr>\n",
       "      <th>pooltypeid7</th>\n",
       "      <td>NaN</td>\n",
       "      <td>NaN</td>\n",
       "      <td>1.0</td>\n",
       "      <td>1.0</td>\n",
       "      <td>1.0</td>\n",
       "    </tr>\n",
       "    <tr>\n",
       "      <th>propertycountylandusecode</th>\n",
       "      <td>122</td>\n",
       "      <td>1110</td>\n",
       "      <td>122</td>\n",
       "      <td>0101</td>\n",
       "      <td>010C</td>\n",
       "    </tr>\n",
       "    <tr>\n",
       "      <th>propertyzoningdesc</th>\n",
       "      <td>None</td>\n",
       "      <td>None</td>\n",
       "      <td>None</td>\n",
       "      <td>LCR110000*</td>\n",
       "      <td>LAR3</td>\n",
       "    </tr>\n",
       "    <tr>\n",
       "      <th>rawcensustractandblock</th>\n",
       "      <td>60590630.072012</td>\n",
       "      <td>61110010.023006</td>\n",
       "      <td>60590218.022012</td>\n",
       "      <td>60373001.001006</td>\n",
       "      <td>60371236.012</td>\n",
       "    </tr>\n",
       "    <tr>\n",
       "      <th>regionidcity</th>\n",
       "      <td>53571.0</td>\n",
       "      <td>13091.0</td>\n",
       "      <td>21412.0</td>\n",
       "      <td>396551.0</td>\n",
       "      <td>12447.0</td>\n",
       "    </tr>\n",
       "    <tr>\n",
       "      <th>regionidcounty</th>\n",
       "      <td>1286.0</td>\n",
       "      <td>2061.0</td>\n",
       "      <td>1286.0</td>\n",
       "      <td>3101.0</td>\n",
       "      <td>3101.0</td>\n",
       "    </tr>\n",
       "    <tr>\n",
       "      <th>regionidneighborhood</th>\n",
       "      <td>NaN</td>\n",
       "      <td>NaN</td>\n",
       "      <td>NaN</td>\n",
       "      <td>NaN</td>\n",
       "      <td>268548.0</td>\n",
       "    </tr>\n",
       "    <tr>\n",
       "      <th>regionidzip</th>\n",
       "      <td>96978.0</td>\n",
       "      <td>97099.0</td>\n",
       "      <td>97078.0</td>\n",
       "      <td>96330.0</td>\n",
       "      <td>96451.0</td>\n",
       "    </tr>\n",
       "    <tr>\n",
       "      <th>roomcnt</th>\n",
       "      <td>0.0</td>\n",
       "      <td>5.0</td>\n",
       "      <td>6.0</td>\n",
       "      <td>0.0</td>\n",
       "      <td>0.0</td>\n",
       "    </tr>\n",
       "    <tr>\n",
       "      <th>threequarterbathnbr</th>\n",
       "      <td>1.0</td>\n",
       "      <td>NaN</td>\n",
       "      <td>NaN</td>\n",
       "      <td>NaN</td>\n",
       "      <td>NaN</td>\n",
       "    </tr>\n",
       "    <tr>\n",
       "      <th>unitcnt</th>\n",
       "      <td>NaN</td>\n",
       "      <td>NaN</td>\n",
       "      <td>NaN</td>\n",
       "      <td>1.0</td>\n",
       "      <td>1.0</td>\n",
       "    </tr>\n",
       "    <tr>\n",
       "      <th>yardbuildingsqft17</th>\n",
       "      <td>NaN</td>\n",
       "      <td>NaN</td>\n",
       "      <td>NaN</td>\n",
       "      <td>NaN</td>\n",
       "      <td>NaN</td>\n",
       "    </tr>\n",
       "    <tr>\n",
       "      <th>yardbuildingsqft26</th>\n",
       "      <td>NaN</td>\n",
       "      <td>NaN</td>\n",
       "      <td>NaN</td>\n",
       "      <td>NaN</td>\n",
       "      <td>NaN</td>\n",
       "    </tr>\n",
       "    <tr>\n",
       "      <th>yearbuilt</th>\n",
       "      <td>1998.0</td>\n",
       "      <td>1967.0</td>\n",
       "      <td>1962.0</td>\n",
       "      <td>1970.0</td>\n",
       "      <td>1964.0</td>\n",
       "    </tr>\n",
       "    <tr>\n",
       "      <th>numberofstories</th>\n",
       "      <td>NaN</td>\n",
       "      <td>1.0</td>\n",
       "      <td>1.0</td>\n",
       "      <td>NaN</td>\n",
       "      <td>NaN</td>\n",
       "    </tr>\n",
       "    <tr>\n",
       "      <th>fireplaceflag</th>\n",
       "      <td>NaN</td>\n",
       "      <td>NaN</td>\n",
       "      <td>NaN</td>\n",
       "      <td>NaN</td>\n",
       "      <td>NaN</td>\n",
       "    </tr>\n",
       "    <tr>\n",
       "      <th>structuretaxvaluedollarcnt</th>\n",
       "      <td>485713.0</td>\n",
       "      <td>88000.0</td>\n",
       "      <td>85289.0</td>\n",
       "      <td>108918.0</td>\n",
       "      <td>73681.0</td>\n",
       "    </tr>\n",
       "    <tr>\n",
       "      <th>taxvaluedollarcnt</th>\n",
       "      <td>1023282.0</td>\n",
       "      <td>464000.0</td>\n",
       "      <td>564778.0</td>\n",
       "      <td>145143.0</td>\n",
       "      <td>119407.0</td>\n",
       "    </tr>\n",
       "    <tr>\n",
       "      <th>assessmentyear</th>\n",
       "      <td>2016.0</td>\n",
       "      <td>2016.0</td>\n",
       "      <td>2016.0</td>\n",
       "      <td>2016.0</td>\n",
       "      <td>2016.0</td>\n",
       "    </tr>\n",
       "    <tr>\n",
       "      <th>landtaxvaluedollarcnt</th>\n",
       "      <td>537569.0</td>\n",
       "      <td>376000.0</td>\n",
       "      <td>479489.0</td>\n",
       "      <td>36225.0</td>\n",
       "      <td>45726.0</td>\n",
       "    </tr>\n",
       "    <tr>\n",
       "      <th>taxamount</th>\n",
       "      <td>11013.72</td>\n",
       "      <td>5672.48</td>\n",
       "      <td>6488.3</td>\n",
       "      <td>1777.51</td>\n",
       "      <td>1533.89</td>\n",
       "    </tr>\n",
       "    <tr>\n",
       "      <th>taxdelinquencyflag</th>\n",
       "      <td>None</td>\n",
       "      <td>None</td>\n",
       "      <td>None</td>\n",
       "      <td>None</td>\n",
       "      <td>None</td>\n",
       "    </tr>\n",
       "    <tr>\n",
       "      <th>taxdelinquencyyear</th>\n",
       "      <td>NaN</td>\n",
       "      <td>NaN</td>\n",
       "      <td>NaN</td>\n",
       "      <td>NaN</td>\n",
       "      <td>NaN</td>\n",
       "    </tr>\n",
       "    <tr>\n",
       "      <th>censustractandblock</th>\n",
       "      <td>60590630072012.0</td>\n",
       "      <td>61110010023006.0</td>\n",
       "      <td>60590218022012.0</td>\n",
       "      <td>60373001001006.0</td>\n",
       "      <td>60371236012000.0</td>\n",
       "    </tr>\n",
       "    <tr>\n",
       "      <th>logerror</th>\n",
       "      <td>0.025595</td>\n",
       "      <td>0.055619</td>\n",
       "      <td>0.005383</td>\n",
       "      <td>-0.10341</td>\n",
       "      <td>0.00694</td>\n",
       "    </tr>\n",
       "    <tr>\n",
       "      <th>airconditioningdesc</th>\n",
       "      <td>None</td>\n",
       "      <td>None</td>\n",
       "      <td>None</td>\n",
       "      <td>None</td>\n",
       "      <td>Central</td>\n",
       "    </tr>\n",
       "    <tr>\n",
       "      <th>architecturalstyledesc</th>\n",
       "      <td>None</td>\n",
       "      <td>None</td>\n",
       "      <td>None</td>\n",
       "      <td>None</td>\n",
       "      <td>None</td>\n",
       "    </tr>\n",
       "    <tr>\n",
       "      <th>buildingclassdesc</th>\n",
       "      <td>None</td>\n",
       "      <td>None</td>\n",
       "      <td>None</td>\n",
       "      <td>None</td>\n",
       "      <td>None</td>\n",
       "    </tr>\n",
       "    <tr>\n",
       "      <th>heatingorsystemdesc</th>\n",
       "      <td>None</td>\n",
       "      <td>None</td>\n",
       "      <td>None</td>\n",
       "      <td>Central</td>\n",
       "      <td>Central</td>\n",
       "    </tr>\n",
       "    <tr>\n",
       "      <th>propertylandusedesc</th>\n",
       "      <td>Single Family Residential</td>\n",
       "      <td>Single Family Residential</td>\n",
       "      <td>Single Family Residential</td>\n",
       "      <td>Single Family Residential</td>\n",
       "      <td>Condominium</td>\n",
       "    </tr>\n",
       "    <tr>\n",
       "      <th>storydesc</th>\n",
       "      <td>None</td>\n",
       "      <td>None</td>\n",
       "      <td>None</td>\n",
       "      <td>None</td>\n",
       "      <td>None</td>\n",
       "    </tr>\n",
       "    <tr>\n",
       "      <th>typeconstructiondesc</th>\n",
       "      <td>None</td>\n",
       "      <td>None</td>\n",
       "      <td>None</td>\n",
       "      <td>None</td>\n",
       "      <td>None</td>\n",
       "    </tr>\n",
       "  </tbody>\n",
       "</table>\n",
       "</div>"
      ],
      "text/plain": [
       "                                                      0  \\\n",
       "transactiondate                              2017-01-01   \n",
       "basementsqft                                        NaN   \n",
       "bathroomcnt                                         3.5   \n",
       "bedroomcnt                                          4.0   \n",
       "calculatedbathnbr                                   3.5   \n",
       "finishedfloor1squarefeet                            NaN   \n",
       "calculatedfinishedsquarefeet                     3100.0   \n",
       "finishedsquarefeet12                             3100.0   \n",
       "finishedsquarefeet13                                NaN   \n",
       "finishedsquarefeet15                                NaN   \n",
       "finishedsquarefeet50                                NaN   \n",
       "finishedsquarefeet6                                 NaN   \n",
       "fips                                             6059.0   \n",
       "fireplacecnt                                        NaN   \n",
       "fullbathcnt                                         3.0   \n",
       "garagecarcnt                                        2.0   \n",
       "garagetotalsqft                                   633.0   \n",
       "hashottuborspa                                      NaN   \n",
       "latitude                                     33634931.0   \n",
       "longitude                                  -117869207.0   \n",
       "lotsizesquarefeet                                4506.0   \n",
       "poolcnt                                             NaN   \n",
       "poolsizesum                                         NaN   \n",
       "pooltypeid10                                        NaN   \n",
       "pooltypeid2                                         NaN   \n",
       "pooltypeid7                                         NaN   \n",
       "propertycountylandusecode                           122   \n",
       "propertyzoningdesc                                 None   \n",
       "rawcensustractandblock                  60590630.072012   \n",
       "regionidcity                                    53571.0   \n",
       "regionidcounty                                   1286.0   \n",
       "regionidneighborhood                                NaN   \n",
       "regionidzip                                     96978.0   \n",
       "roomcnt                                             0.0   \n",
       "threequarterbathnbr                                 1.0   \n",
       "unitcnt                                             NaN   \n",
       "yardbuildingsqft17                                  NaN   \n",
       "yardbuildingsqft26                                  NaN   \n",
       "yearbuilt                                        1998.0   \n",
       "numberofstories                                     NaN   \n",
       "fireplaceflag                                       NaN   \n",
       "structuretaxvaluedollarcnt                     485713.0   \n",
       "taxvaluedollarcnt                             1023282.0   \n",
       "assessmentyear                                   2016.0   \n",
       "landtaxvaluedollarcnt                          537569.0   \n",
       "taxamount                                      11013.72   \n",
       "taxdelinquencyflag                                 None   \n",
       "taxdelinquencyyear                                  NaN   \n",
       "censustractandblock                    60590630072012.0   \n",
       "logerror                                       0.025595   \n",
       "airconditioningdesc                                None   \n",
       "architecturalstyledesc                             None   \n",
       "buildingclassdesc                                  None   \n",
       "heatingorsystemdesc                                None   \n",
       "propertylandusedesc           Single Family Residential   \n",
       "storydesc                                          None   \n",
       "typeconstructiondesc                               None   \n",
       "\n",
       "                                                      1  \\\n",
       "transactiondate                              2017-01-01   \n",
       "basementsqft                                        NaN   \n",
       "bathroomcnt                                         1.0   \n",
       "bedroomcnt                                          2.0   \n",
       "calculatedbathnbr                                   1.0   \n",
       "finishedfloor1squarefeet                         1465.0   \n",
       "calculatedfinishedsquarefeet                     1465.0   \n",
       "finishedsquarefeet12                             1465.0   \n",
       "finishedsquarefeet13                                NaN   \n",
       "finishedsquarefeet15                                NaN   \n",
       "finishedsquarefeet50                             1465.0   \n",
       "finishedsquarefeet6                                 NaN   \n",
       "fips                                             6111.0   \n",
       "fireplacecnt                                        1.0   \n",
       "fullbathcnt                                         1.0   \n",
       "garagecarcnt                                        1.0   \n",
       "garagetotalsqft                                     0.0   \n",
       "hashottuborspa                                      NaN   \n",
       "latitude                                     34449266.0   \n",
       "longitude                                  -119281531.0   \n",
       "lotsizesquarefeet                               12647.0   \n",
       "poolcnt                                             NaN   \n",
       "poolsizesum                                         NaN   \n",
       "pooltypeid10                                        NaN   \n",
       "pooltypeid2                                         NaN   \n",
       "pooltypeid7                                         NaN   \n",
       "propertycountylandusecode                          1110   \n",
       "propertyzoningdesc                                 None   \n",
       "rawcensustractandblock                  61110010.023006   \n",
       "regionidcity                                    13091.0   \n",
       "regionidcounty                                   2061.0   \n",
       "regionidneighborhood                                NaN   \n",
       "regionidzip                                     97099.0   \n",
       "roomcnt                                             5.0   \n",
       "threequarterbathnbr                                 NaN   \n",
       "unitcnt                                             NaN   \n",
       "yardbuildingsqft17                                  NaN   \n",
       "yardbuildingsqft26                                  NaN   \n",
       "yearbuilt                                        1967.0   \n",
       "numberofstories                                     1.0   \n",
       "fireplaceflag                                       NaN   \n",
       "structuretaxvaluedollarcnt                      88000.0   \n",
       "taxvaluedollarcnt                              464000.0   \n",
       "assessmentyear                                   2016.0   \n",
       "landtaxvaluedollarcnt                          376000.0   \n",
       "taxamount                                       5672.48   \n",
       "taxdelinquencyflag                                 None   \n",
       "taxdelinquencyyear                                  NaN   \n",
       "censustractandblock                    61110010023006.0   \n",
       "logerror                                       0.055619   \n",
       "airconditioningdesc                                None   \n",
       "architecturalstyledesc                             None   \n",
       "buildingclassdesc                                  None   \n",
       "heatingorsystemdesc                                None   \n",
       "propertylandusedesc           Single Family Residential   \n",
       "storydesc                                          None   \n",
       "typeconstructiondesc                               None   \n",
       "\n",
       "                                                      2  \\\n",
       "transactiondate                              2017-01-01   \n",
       "basementsqft                                        NaN   \n",
       "bathroomcnt                                         2.0   \n",
       "bedroomcnt                                          3.0   \n",
       "calculatedbathnbr                                   2.0   \n",
       "finishedfloor1squarefeet                            NaN   \n",
       "calculatedfinishedsquarefeet                     1243.0   \n",
       "finishedsquarefeet12                             1243.0   \n",
       "finishedsquarefeet13                                NaN   \n",
       "finishedsquarefeet15                                NaN   \n",
       "finishedsquarefeet50                                NaN   \n",
       "finishedsquarefeet6                                 NaN   \n",
       "fips                                             6059.0   \n",
       "fireplacecnt                                        NaN   \n",
       "fullbathcnt                                         2.0   \n",
       "garagecarcnt                                        2.0   \n",
       "garagetotalsqft                                   440.0   \n",
       "hashottuborspa                                      NaN   \n",
       "latitude                                     33886168.0   \n",
       "longitude                                  -117823170.0   \n",
       "lotsizesquarefeet                                8432.0   \n",
       "poolcnt                                             1.0   \n",
       "poolsizesum                                         NaN   \n",
       "pooltypeid10                                        NaN   \n",
       "pooltypeid2                                         NaN   \n",
       "pooltypeid7                                         1.0   \n",
       "propertycountylandusecode                           122   \n",
       "propertyzoningdesc                                 None   \n",
       "rawcensustractandblock                  60590218.022012   \n",
       "regionidcity                                    21412.0   \n",
       "regionidcounty                                   1286.0   \n",
       "regionidneighborhood                                NaN   \n",
       "regionidzip                                     97078.0   \n",
       "roomcnt                                             6.0   \n",
       "threequarterbathnbr                                 NaN   \n",
       "unitcnt                                             NaN   \n",
       "yardbuildingsqft17                                  NaN   \n",
       "yardbuildingsqft26                                  NaN   \n",
       "yearbuilt                                        1962.0   \n",
       "numberofstories                                     1.0   \n",
       "fireplaceflag                                       NaN   \n",
       "structuretaxvaluedollarcnt                      85289.0   \n",
       "taxvaluedollarcnt                              564778.0   \n",
       "assessmentyear                                   2016.0   \n",
       "landtaxvaluedollarcnt                          479489.0   \n",
       "taxamount                                        6488.3   \n",
       "taxdelinquencyflag                                 None   \n",
       "taxdelinquencyyear                                  NaN   \n",
       "censustractandblock                    60590218022012.0   \n",
       "logerror                                       0.005383   \n",
       "airconditioningdesc                                None   \n",
       "architecturalstyledesc                             None   \n",
       "buildingclassdesc                                  None   \n",
       "heatingorsystemdesc                                None   \n",
       "propertylandusedesc           Single Family Residential   \n",
       "storydesc                                          None   \n",
       "typeconstructiondesc                               None   \n",
       "\n",
       "                                                      3                 4  \n",
       "transactiondate                              2017-01-01        2017-01-01  \n",
       "basementsqft                                        NaN               NaN  \n",
       "bathroomcnt                                         3.0               3.0  \n",
       "bedroomcnt                                          4.0               3.0  \n",
       "calculatedbathnbr                                   3.0               3.0  \n",
       "finishedfloor1squarefeet                            NaN               NaN  \n",
       "calculatedfinishedsquarefeet                     2376.0            1312.0  \n",
       "finishedsquarefeet12                             2376.0            1312.0  \n",
       "finishedsquarefeet13                                NaN               NaN  \n",
       "finishedsquarefeet15                                NaN               NaN  \n",
       "finishedsquarefeet50                                NaN               NaN  \n",
       "finishedsquarefeet6                                 NaN               NaN  \n",
       "fips                                             6037.0            6037.0  \n",
       "fireplacecnt                                        NaN               NaN  \n",
       "fullbathcnt                                         3.0               3.0  \n",
       "garagecarcnt                                        NaN               NaN  \n",
       "garagetotalsqft                                     NaN               NaN  \n",
       "hashottuborspa                                      NaN               NaN  \n",
       "latitude                                     34245180.0        34185120.0  \n",
       "longitude                                  -118240722.0      -118414640.0  \n",
       "lotsizesquarefeet                               13038.0          278581.0  \n",
       "poolcnt                                             1.0               1.0  \n",
       "poolsizesum                                         NaN               NaN  \n",
       "pooltypeid10                                        NaN               NaN  \n",
       "pooltypeid2                                         NaN               NaN  \n",
       "pooltypeid7                                         1.0               1.0  \n",
       "propertycountylandusecode                          0101              010C  \n",
       "propertyzoningdesc                           LCR110000*              LAR3  \n",
       "rawcensustractandblock                  60373001.001006      60371236.012  \n",
       "regionidcity                                   396551.0           12447.0  \n",
       "regionidcounty                                   3101.0            3101.0  \n",
       "regionidneighborhood                                NaN          268548.0  \n",
       "regionidzip                                     96330.0           96451.0  \n",
       "roomcnt                                             0.0               0.0  \n",
       "threequarterbathnbr                                 NaN               NaN  \n",
       "unitcnt                                             1.0               1.0  \n",
       "yardbuildingsqft17                                  NaN               NaN  \n",
       "yardbuildingsqft26                                  NaN               NaN  \n",
       "yearbuilt                                        1970.0            1964.0  \n",
       "numberofstories                                     NaN               NaN  \n",
       "fireplaceflag                                       NaN               NaN  \n",
       "structuretaxvaluedollarcnt                     108918.0           73681.0  \n",
       "taxvaluedollarcnt                              145143.0          119407.0  \n",
       "assessmentyear                                   2016.0            2016.0  \n",
       "landtaxvaluedollarcnt                           36225.0           45726.0  \n",
       "taxamount                                       1777.51           1533.89  \n",
       "taxdelinquencyflag                                 None              None  \n",
       "taxdelinquencyyear                                  NaN               NaN  \n",
       "censustractandblock                    60373001001006.0  60371236012000.0  \n",
       "logerror                                       -0.10341           0.00694  \n",
       "airconditioningdesc                                None           Central  \n",
       "architecturalstyledesc                             None              None  \n",
       "buildingclassdesc                                  None              None  \n",
       "heatingorsystemdesc                             Central           Central  \n",
       "propertylandusedesc           Single Family Residential       Condominium  \n",
       "storydesc                                          None              None  \n",
       "typeconstructiondesc                               None              None  "
      ]
     },
     "execution_count": 7,
     "metadata": {},
     "output_type": "execute_result"
    }
   ],
   "source": [
    "df.head().T"
   ]
  },
  {
   "cell_type": "code",
   "execution_count": 8,
   "id": "50b221de-a538-4edc-907b-4dac07f55f30",
   "metadata": {},
   "outputs": [
    {
     "name": "stdout",
     "output_type": "stream",
     "text": [
      "<class 'pandas.core.frame.DataFrame'>\n",
      "RangeIndex: 77381 entries, 0 to 77380\n",
      "Data columns (total 57 columns):\n",
      " #   Column                        Non-Null Count  Dtype  \n",
      "---  ------                        --------------  -----  \n",
      " 0   transactiondate               77381 non-null  object \n",
      " 1   basementsqft                  50 non-null     float64\n",
      " 2   bathroomcnt                   77381 non-null  float64\n",
      " 3   bedroomcnt                    77381 non-null  float64\n",
      " 4   calculatedbathnbr             76772 non-null  float64\n",
      " 5   finishedfloor1squarefeet      6023 non-null   float64\n",
      " 6   calculatedfinishedsquarefeet  77185 non-null  float64\n",
      " 7   finishedsquarefeet12          73749 non-null  float64\n",
      " 8   finishedsquarefeet13          41 non-null     float64\n",
      " 9   finishedsquarefeet15          3009 non-null   float64\n",
      " 10  finishedsquarefeet50          6023 non-null   float64\n",
      " 11  finishedsquarefeet6           386 non-null    float64\n",
      " 12  fips                          77381 non-null  float64\n",
      " 13  fireplacecnt                  8276 non-null   float64\n",
      " 14  fullbathcnt                   76772 non-null  float64\n",
      " 15  garagecarcnt                  25474 non-null  float64\n",
      " 16  garagetotalsqft               25474 non-null  float64\n",
      " 17  hashottuborspa                1538 non-null   float64\n",
      " 18  latitude                      77381 non-null  float64\n",
      " 19  longitude                     77381 non-null  float64\n",
      " 20  lotsizesquarefeet             69142 non-null  float64\n",
      " 21  poolcnt                       16137 non-null  float64\n",
      " 22  poolsizesum                   867 non-null    float64\n",
      " 23  pooltypeid10                  464 non-null    float64\n",
      " 24  pooltypeid2                   1074 non-null   float64\n",
      " 25  pooltypeid7                   15042 non-null  float64\n",
      " 26  propertycountylandusecode     77381 non-null  object \n",
      " 27  propertyzoningdesc            50331 non-null  object \n",
      " 28  rawcensustractandblock        77381 non-null  float64\n",
      " 29  regionidcity                  75910 non-null  float64\n",
      " 30  regionidcounty                77381 non-null  float64\n",
      " 31  regionidneighborhood          30890 non-null  float64\n",
      " 32  regionidzip                   77331 non-null  float64\n",
      " 33  roomcnt                       77381 non-null  float64\n",
      " 34  threequarterbathnbr           10096 non-null  float64\n",
      " 35  unitcnt                       50563 non-null  float64\n",
      " 36  yardbuildingsqft17            2388 non-null   float64\n",
      " 37  yardbuildingsqft26            70 non-null     float64\n",
      " 38  yearbuilt                     77118 non-null  float64\n",
      " 39  numberofstories               17560 non-null  float64\n",
      " 40  fireplaceflag                 172 non-null    float64\n",
      " 41  structuretaxvaluedollarcnt    77269 non-null  float64\n",
      " 42  taxvaluedollarcnt             77380 non-null  float64\n",
      " 43  assessmentyear                77381 non-null  float64\n",
      " 44  landtaxvaluedollarcnt         77379 non-null  float64\n",
      " 45  taxamount                     77376 non-null  float64\n",
      " 46  taxdelinquencyflag            2886 non-null   object \n",
      " 47  taxdelinquencyyear            2886 non-null   float64\n",
      " 48  censustractandblock           77137 non-null  float64\n",
      " 49  logerror                      77381 non-null  float64\n",
      " 50  airconditioningdesc           24953 non-null  object \n",
      " 51  architecturalstyledesc        206 non-null    object \n",
      " 52  buildingclassdesc             15 non-null     object \n",
      " 53  heatingorsystemdesc           49440 non-null  object \n",
      " 54  propertylandusedesc           77381 non-null  object \n",
      " 55  storydesc                     50 non-null     object \n",
      " 56  typeconstructiondesc          222 non-null    object \n",
      "dtypes: float64(46), object(11)\n",
      "memory usage: 33.7+ MB\n"
     ]
    }
   ],
   "source": [
    "df.info()"
   ]
  },
  {
   "cell_type": "code",
   "execution_count": 9,
   "id": "491c0c9b-5f0d-4eb8-8bcf-f6e56705ff5a",
   "metadata": {},
   "outputs": [
    {
     "data": {
      "text/html": [
       "<div>\n",
       "<style scoped>\n",
       "    .dataframe tbody tr th:only-of-type {\n",
       "        vertical-align: middle;\n",
       "    }\n",
       "\n",
       "    .dataframe tbody tr th {\n",
       "        vertical-align: top;\n",
       "    }\n",
       "\n",
       "    .dataframe thead th {\n",
       "        text-align: right;\n",
       "    }\n",
       "</style>\n",
       "<table border=\"1\" class=\"dataframe\">\n",
       "  <thead>\n",
       "    <tr style=\"text-align: right;\">\n",
       "      <th></th>\n",
       "      <th>basementsqft</th>\n",
       "      <th>bathroomcnt</th>\n",
       "      <th>bedroomcnt</th>\n",
       "      <th>calculatedbathnbr</th>\n",
       "      <th>finishedfloor1squarefeet</th>\n",
       "      <th>calculatedfinishedsquarefeet</th>\n",
       "      <th>finishedsquarefeet12</th>\n",
       "      <th>finishedsquarefeet13</th>\n",
       "      <th>finishedsquarefeet15</th>\n",
       "      <th>finishedsquarefeet50</th>\n",
       "      <th>...</th>\n",
       "      <th>numberofstories</th>\n",
       "      <th>fireplaceflag</th>\n",
       "      <th>structuretaxvaluedollarcnt</th>\n",
       "      <th>taxvaluedollarcnt</th>\n",
       "      <th>assessmentyear</th>\n",
       "      <th>landtaxvaluedollarcnt</th>\n",
       "      <th>taxamount</th>\n",
       "      <th>taxdelinquencyyear</th>\n",
       "      <th>censustractandblock</th>\n",
       "      <th>logerror</th>\n",
       "    </tr>\n",
       "  </thead>\n",
       "  <tbody>\n",
       "    <tr>\n",
       "      <th>count</th>\n",
       "      <td>50.000000</td>\n",
       "      <td>77381.000000</td>\n",
       "      <td>77381.000000</td>\n",
       "      <td>76772.000000</td>\n",
       "      <td>6023.000000</td>\n",
       "      <td>77185.000000</td>\n",
       "      <td>73749.000000</td>\n",
       "      <td>41.000000</td>\n",
       "      <td>3009.000000</td>\n",
       "      <td>6023.000000</td>\n",
       "      <td>...</td>\n",
       "      <td>17560.000000</td>\n",
       "      <td>172.0</td>\n",
       "      <td>7.726900e+04</td>\n",
       "      <td>7.738000e+04</td>\n",
       "      <td>77381.0</td>\n",
       "      <td>7.737900e+04</td>\n",
       "      <td>77376.000000</td>\n",
       "      <td>2886.000000</td>\n",
       "      <td>7.713700e+04</td>\n",
       "      <td>77381.000000</td>\n",
       "    </tr>\n",
       "    <tr>\n",
       "      <th>mean</th>\n",
       "      <td>679.720000</td>\n",
       "      <td>2.299130</td>\n",
       "      <td>3.053489</td>\n",
       "      <td>2.316867</td>\n",
       "      <td>1366.512535</td>\n",
       "      <td>1785.219939</td>\n",
       "      <td>1760.522543</td>\n",
       "      <td>1389.853659</td>\n",
       "      <td>2357.791625</td>\n",
       "      <td>1381.771542</td>\n",
       "      <td>...</td>\n",
       "      <td>1.434738</td>\n",
       "      <td>1.0</td>\n",
       "      <td>1.893145e+05</td>\n",
       "      <td>4.901345e+05</td>\n",
       "      <td>2016.0</td>\n",
       "      <td>3.010954e+05</td>\n",
       "      <td>5995.532346</td>\n",
       "      <td>14.087318</td>\n",
       "      <td>6.049673e+13</td>\n",
       "      <td>0.016625</td>\n",
       "    </tr>\n",
       "    <tr>\n",
       "      <th>std</th>\n",
       "      <td>689.703546</td>\n",
       "      <td>0.996651</td>\n",
       "      <td>1.139096</td>\n",
       "      <td>0.979755</td>\n",
       "      <td>671.308125</td>\n",
       "      <td>954.049286</td>\n",
       "      <td>934.024340</td>\n",
       "      <td>123.531688</td>\n",
       "      <td>1188.775210</td>\n",
       "      <td>726.468878</td>\n",
       "      <td>...</td>\n",
       "      <td>0.544569</td>\n",
       "      <td>0.0</td>\n",
       "      <td>2.300874e+05</td>\n",
       "      <td>6.534440e+05</td>\n",
       "      <td>0.0</td>\n",
       "      <td>4.925960e+05</td>\n",
       "      <td>7622.844153</td>\n",
       "      <td>2.185663</td>\n",
       "      <td>1.535242e+12</td>\n",
       "      <td>0.170191</td>\n",
       "    </tr>\n",
       "    <tr>\n",
       "      <th>min</th>\n",
       "      <td>38.000000</td>\n",
       "      <td>0.000000</td>\n",
       "      <td>0.000000</td>\n",
       "      <td>1.000000</td>\n",
       "      <td>44.000000</td>\n",
       "      <td>128.000000</td>\n",
       "      <td>128.000000</td>\n",
       "      <td>1056.000000</td>\n",
       "      <td>598.000000</td>\n",
       "      <td>44.000000</td>\n",
       "      <td>...</td>\n",
       "      <td>1.000000</td>\n",
       "      <td>1.0</td>\n",
       "      <td>4.400000e+01</td>\n",
       "      <td>1.000000e+03</td>\n",
       "      <td>2016.0</td>\n",
       "      <td>1.610000e+02</td>\n",
       "      <td>19.920000</td>\n",
       "      <td>3.000000</td>\n",
       "      <td>6.037101e+13</td>\n",
       "      <td>-4.655420</td>\n",
       "    </tr>\n",
       "    <tr>\n",
       "      <th>25%</th>\n",
       "      <td>273.000000</td>\n",
       "      <td>2.000000</td>\n",
       "      <td>2.000000</td>\n",
       "      <td>2.000000</td>\n",
       "      <td>955.000000</td>\n",
       "      <td>1182.000000</td>\n",
       "      <td>1172.000000</td>\n",
       "      <td>1344.000000</td>\n",
       "      <td>1625.000000</td>\n",
       "      <td>956.000000</td>\n",
       "      <td>...</td>\n",
       "      <td>1.000000</td>\n",
       "      <td>1.0</td>\n",
       "      <td>8.426500e+04</td>\n",
       "      <td>2.070000e+05</td>\n",
       "      <td>2016.0</td>\n",
       "      <td>8.550400e+04</td>\n",
       "      <td>2715.632500</td>\n",
       "      <td>14.000000</td>\n",
       "      <td>6.037311e+13</td>\n",
       "      <td>-0.024377</td>\n",
       "    </tr>\n",
       "    <tr>\n",
       "      <th>50%</th>\n",
       "      <td>515.000000</td>\n",
       "      <td>2.000000</td>\n",
       "      <td>3.000000</td>\n",
       "      <td>2.000000</td>\n",
       "      <td>1257.000000</td>\n",
       "      <td>1543.000000</td>\n",
       "      <td>1523.000000</td>\n",
       "      <td>1440.000000</td>\n",
       "      <td>2094.000000</td>\n",
       "      <td>1259.000000</td>\n",
       "      <td>...</td>\n",
       "      <td>1.000000</td>\n",
       "      <td>1.0</td>\n",
       "      <td>1.364990e+05</td>\n",
       "      <td>3.589755e+05</td>\n",
       "      <td>2016.0</td>\n",
       "      <td>2.033720e+05</td>\n",
       "      <td>4450.695000</td>\n",
       "      <td>15.000000</td>\n",
       "      <td>6.037603e+13</td>\n",
       "      <td>0.006627</td>\n",
       "    </tr>\n",
       "    <tr>\n",
       "      <th>75%</th>\n",
       "      <td>796.500000</td>\n",
       "      <td>3.000000</td>\n",
       "      <td>4.000000</td>\n",
       "      <td>3.000000</td>\n",
       "      <td>1615.000000</td>\n",
       "      <td>2113.000000</td>\n",
       "      <td>2076.000000</td>\n",
       "      <td>1440.000000</td>\n",
       "      <td>2838.000000</td>\n",
       "      <td>1621.500000</td>\n",
       "      <td>...</td>\n",
       "      <td>2.000000</td>\n",
       "      <td>1.0</td>\n",
       "      <td>2.187870e+05</td>\n",
       "      <td>5.690015e+05</td>\n",
       "      <td>2016.0</td>\n",
       "      <td>3.667965e+05</td>\n",
       "      <td>6927.790000</td>\n",
       "      <td>15.000000</td>\n",
       "      <td>6.059042e+13</td>\n",
       "      <td>0.039203</td>\n",
       "    </tr>\n",
       "    <tr>\n",
       "      <th>max</th>\n",
       "      <td>3560.000000</td>\n",
       "      <td>18.000000</td>\n",
       "      <td>16.000000</td>\n",
       "      <td>18.000000</td>\n",
       "      <td>6912.000000</td>\n",
       "      <td>35640.000000</td>\n",
       "      <td>21929.000000</td>\n",
       "      <td>1560.000000</td>\n",
       "      <td>35640.000000</td>\n",
       "      <td>12467.000000</td>\n",
       "      <td>...</td>\n",
       "      <td>6.000000</td>\n",
       "      <td>1.0</td>\n",
       "      <td>1.142179e+07</td>\n",
       "      <td>4.906124e+07</td>\n",
       "      <td>2016.0</td>\n",
       "      <td>4.895220e+07</td>\n",
       "      <td>586639.300000</td>\n",
       "      <td>99.000000</td>\n",
       "      <td>4.830301e+14</td>\n",
       "      <td>5.262999</td>\n",
       "    </tr>\n",
       "  </tbody>\n",
       "</table>\n",
       "<p>8 rows × 46 columns</p>\n",
       "</div>"
      ],
      "text/plain": [
       "       basementsqft   bathroomcnt    bedroomcnt  calculatedbathnbr  \\\n",
       "count     50.000000  77381.000000  77381.000000       76772.000000   \n",
       "mean     679.720000      2.299130      3.053489           2.316867   \n",
       "std      689.703546      0.996651      1.139096           0.979755   \n",
       "min       38.000000      0.000000      0.000000           1.000000   \n",
       "25%      273.000000      2.000000      2.000000           2.000000   \n",
       "50%      515.000000      2.000000      3.000000           2.000000   \n",
       "75%      796.500000      3.000000      4.000000           3.000000   \n",
       "max     3560.000000     18.000000     16.000000          18.000000   \n",
       "\n",
       "       finishedfloor1squarefeet  calculatedfinishedsquarefeet  \\\n",
       "count               6023.000000                  77185.000000   \n",
       "mean                1366.512535                   1785.219939   \n",
       "std                  671.308125                    954.049286   \n",
       "min                   44.000000                    128.000000   \n",
       "25%                  955.000000                   1182.000000   \n",
       "50%                 1257.000000                   1543.000000   \n",
       "75%                 1615.000000                   2113.000000   \n",
       "max                 6912.000000                  35640.000000   \n",
       "\n",
       "       finishedsquarefeet12  finishedsquarefeet13  finishedsquarefeet15  \\\n",
       "count          73749.000000             41.000000           3009.000000   \n",
       "mean            1760.522543           1389.853659           2357.791625   \n",
       "std              934.024340            123.531688           1188.775210   \n",
       "min              128.000000           1056.000000            598.000000   \n",
       "25%             1172.000000           1344.000000           1625.000000   \n",
       "50%             1523.000000           1440.000000           2094.000000   \n",
       "75%             2076.000000           1440.000000           2838.000000   \n",
       "max            21929.000000           1560.000000          35640.000000   \n",
       "\n",
       "       finishedsquarefeet50  ...  numberofstories  fireplaceflag  \\\n",
       "count           6023.000000  ...     17560.000000          172.0   \n",
       "mean            1381.771542  ...         1.434738            1.0   \n",
       "std              726.468878  ...         0.544569            0.0   \n",
       "min               44.000000  ...         1.000000            1.0   \n",
       "25%              956.000000  ...         1.000000            1.0   \n",
       "50%             1259.000000  ...         1.000000            1.0   \n",
       "75%             1621.500000  ...         2.000000            1.0   \n",
       "max            12467.000000  ...         6.000000            1.0   \n",
       "\n",
       "       structuretaxvaluedollarcnt  taxvaluedollarcnt  assessmentyear  \\\n",
       "count                7.726900e+04       7.738000e+04         77381.0   \n",
       "mean                 1.893145e+05       4.901345e+05          2016.0   \n",
       "std                  2.300874e+05       6.534440e+05             0.0   \n",
       "min                  4.400000e+01       1.000000e+03          2016.0   \n",
       "25%                  8.426500e+04       2.070000e+05          2016.0   \n",
       "50%                  1.364990e+05       3.589755e+05          2016.0   \n",
       "75%                  2.187870e+05       5.690015e+05          2016.0   \n",
       "max                  1.142179e+07       4.906124e+07          2016.0   \n",
       "\n",
       "       landtaxvaluedollarcnt      taxamount  taxdelinquencyyear  \\\n",
       "count           7.737900e+04   77376.000000         2886.000000   \n",
       "mean            3.010954e+05    5995.532346           14.087318   \n",
       "std             4.925960e+05    7622.844153            2.185663   \n",
       "min             1.610000e+02      19.920000            3.000000   \n",
       "25%             8.550400e+04    2715.632500           14.000000   \n",
       "50%             2.033720e+05    4450.695000           15.000000   \n",
       "75%             3.667965e+05    6927.790000           15.000000   \n",
       "max             4.895220e+07  586639.300000           99.000000   \n",
       "\n",
       "       censustractandblock      logerror  \n",
       "count         7.713700e+04  77381.000000  \n",
       "mean          6.049673e+13      0.016625  \n",
       "std           1.535242e+12      0.170191  \n",
       "min           6.037101e+13     -4.655420  \n",
       "25%           6.037311e+13     -0.024377  \n",
       "50%           6.037603e+13      0.006627  \n",
       "75%           6.059042e+13      0.039203  \n",
       "max           4.830301e+14      5.262999  \n",
       "\n",
       "[8 rows x 46 columns]"
      ]
     },
     "execution_count": 9,
     "metadata": {},
     "output_type": "execute_result"
    }
   ],
   "source": [
    "df.describe()"
   ]
  },
  {
   "cell_type": "code",
   "execution_count": 10,
   "id": "14760fa3-a592-435f-93bd-ac511ab7b3a7",
   "metadata": {},
   "outputs": [
    {
     "data": {
      "text/plain": [
       "11"
      ]
     },
     "execution_count": 10,
     "metadata": {},
     "output_type": "execute_result"
    }
   ],
   "source": [
    "cat_cols = df.select_dtypes('object').columns.tolist()\n",
    "len(cat_cols)"
   ]
  },
  {
   "cell_type": "code",
   "execution_count": 11,
   "id": "c27ade6b-e4eb-410d-ab5b-c8530f0c3c97",
   "metadata": {
    "scrolled": true,
    "tags": []
   },
   "outputs": [
    {
     "name": "stdout",
     "output_type": "stream",
     "text": [
      "transactiondate\n",
      "---------------------------------\n",
      "2017-06-30    1189\n",
      "2017-04-28     911\n",
      "2017-05-31     867\n",
      "2017-07-28     814\n",
      "2017-08-31     781\n",
      "              ... \n",
      "2017-04-15       1\n",
      "2017-02-18       1\n",
      "2018-05-25       1\n",
      "2017-08-05       1\n",
      "2017-07-22       1\n",
      "Name: transactiondate, Length: 265, dtype: int64\n",
      "\n",
      "---------------------------------\n",
      "2017-06-30    0.015366\n",
      "2017-04-28    0.011773\n",
      "2017-05-31    0.011204\n",
      "2017-07-28    0.010519\n",
      "2017-08-31    0.010093\n",
      "                ...   \n",
      "2017-04-15    0.000013\n",
      "2017-02-18    0.000013\n",
      "2018-05-25    0.000013\n",
      "2017-08-05    0.000013\n",
      "2017-07-22    0.000013\n",
      "Name: transactiondate, Length: 265, dtype: float64\n",
      "================================\n",
      "\n",
      "\n",
      "propertycountylandusecode\n",
      "---------------------------------\n",
      "0100    26714\n",
      "122     13045\n",
      "010C     8813\n",
      "0101     6399\n",
      "34       4922\n",
      "        ...  \n",
      "020M        1\n",
      "105         1\n",
      "030G        1\n",
      "0115        1\n",
      "010L        1\n",
      "Name: propertycountylandusecode, Length: 75, dtype: int64\n",
      "\n",
      "---------------------------------\n",
      "0100    0.345227\n",
      "122     0.168581\n",
      "010C    0.113891\n",
      "0101    0.082695\n",
      "34      0.063607\n",
      "          ...   \n",
      "020M    0.000013\n",
      "105     0.000013\n",
      "030G    0.000013\n",
      "0115    0.000013\n",
      "010L    0.000013\n",
      "Name: propertycountylandusecode, Length: 75, dtype: float64\n",
      "================================\n",
      "\n",
      "\n",
      "propertyzoningdesc\n",
      "---------------------------------\n",
      "LAR1       6747\n",
      "LAR3       2437\n",
      "LARS       1389\n",
      "LBR1N      1222\n",
      "LARD1.5    1127\n",
      "           ... \n",
      "SFC2-P*       1\n",
      "LMR3*         1\n",
      "LBR4R*        1\n",
      "CVM1YY        1\n",
      "RBPDI*        1\n",
      "Name: propertyzoningdesc, Length: 1907, dtype: int64\n",
      "\n",
      "---------------------------------\n",
      "LAR1       0.134053\n",
      "LAR3       0.048419\n",
      "LARS       0.027597\n",
      "LBR1N      0.024279\n",
      "LARD1.5    0.022392\n",
      "             ...   \n",
      "SFC2-P*    0.000020\n",
      "LMR3*      0.000020\n",
      "LBR4R*     0.000020\n",
      "CVM1YY     0.000020\n",
      "RBPDI*     0.000020\n",
      "Name: propertyzoningdesc, Length: 1907, dtype: float64\n",
      "================================\n",
      "\n",
      "\n",
      "taxdelinquencyflag\n",
      "---------------------------------\n",
      "Y    2886\n",
      "Name: taxdelinquencyflag, dtype: int64\n",
      "\n",
      "---------------------------------\n",
      "Y    1.0\n",
      "Name: taxdelinquencyflag, dtype: float64\n",
      "================================\n",
      "\n",
      "\n",
      "airconditioningdesc\n",
      "---------------------------------\n",
      "Central          23133\n",
      "Yes               1574\n",
      "None               167\n",
      "Wall Unit           53\n",
      "Refrigeration       26\n",
      "Name: airconditioningdesc, dtype: int64\n",
      "\n",
      "---------------------------------\n",
      "Central          0.927063\n",
      "Yes              0.063079\n",
      "None             0.006693\n",
      "Wall Unit        0.002124\n",
      "Refrigeration    0.001042\n",
      "Name: airconditioningdesc, dtype: float64\n",
      "================================\n",
      "\n",
      "\n",
      "architecturalstyledesc\n",
      "---------------------------------\n",
      "Contemporary     172\n",
      "Conventional      19\n",
      "Ranch/Rambler      7\n",
      "Bungalow           5\n",
      "Cape Cod           3\n",
      "Name: architecturalstyledesc, dtype: int64\n",
      "\n",
      "---------------------------------\n",
      "Contemporary     0.834951\n",
      "Conventional     0.092233\n",
      "Ranch/Rambler    0.033981\n",
      "Bungalow         0.024272\n",
      "Cape Cod         0.014563\n",
      "Name: architecturalstyledesc, dtype: float64\n",
      "================================\n",
      "\n",
      "\n",
      "buildingclassdesc\n",
      "---------------------------------\n",
      "Buildings having wood or wood and steel frames                                                                                                                                                                                             14\n",
      "Buildings having exterior walls built of a non-combustible material such as brick, concrete, block or poured concrete. Interior partitions and roof structures are built of combustible materials. Floor may be concrete or wood frame.     1\n",
      "Name: buildingclassdesc, dtype: int64\n",
      "\n",
      "---------------------------------\n",
      "Buildings having wood or wood and steel frames                                                                                                                                                                                             0.933333\n",
      "Buildings having exterior walls built of a non-combustible material such as brick, concrete, block or poured concrete. Interior partitions and roof structures are built of combustible materials. Floor may be concrete or wood frame.    0.066667\n",
      "Name: buildingclassdesc, dtype: float64\n",
      "================================\n",
      "\n",
      "\n",
      "heatingorsystemdesc\n",
      "---------------------------------\n",
      "Central       33550\n",
      "Floor/Wall    14065\n",
      "Yes             846\n",
      "Forced air      776\n",
      "Solar           104\n",
      "None             59\n",
      "Radiant          23\n",
      "Baseboard        13\n",
      "Gravity           3\n",
      "Heat Pump         1\n",
      "Name: heatingorsystemdesc, dtype: int64\n",
      "\n",
      "---------------------------------\n",
      "Central       0.678600\n",
      "Floor/Wall    0.284486\n",
      "Yes           0.017112\n",
      "Forced air    0.015696\n",
      "Solar         0.002104\n",
      "None          0.001193\n",
      "Radiant       0.000465\n",
      "Baseboard     0.000263\n",
      "Gravity       0.000061\n",
      "Heat Pump     0.000020\n",
      "Name: heatingorsystemdesc, dtype: float64\n",
      "================================\n",
      "\n",
      "\n",
      "propertylandusedesc\n",
      "---------------------------------\n",
      "Single Family Residential                     52320\n",
      "Condominium                                   19294\n",
      "Duplex (2 Units, Any Combination)              2009\n",
      "Planned Unit Development                       1944\n",
      "Quadruplex (4 Units, Any Combination)           727\n",
      "Triplex (3 Units, Any Combination)              535\n",
      "Cluster Home                                    333\n",
      "Mobile Home                                      74\n",
      "Manufactured, Modular, Prefabricated Homes       58\n",
      "Residential General                              37\n",
      "Cooperative                                      29\n",
      "Commercial/Office/Residential Mixed Used         15\n",
      "Townhouse                                         6\n",
      "Name: propertylandusedesc, dtype: int64\n",
      "\n",
      "---------------------------------\n",
      "Single Family Residential                     0.676135\n",
      "Condominium                                   0.249338\n",
      "Duplex (2 Units, Any Combination)             0.025962\n",
      "Planned Unit Development                      0.025122\n",
      "Quadruplex (4 Units, Any Combination)         0.009395\n",
      "Triplex (3 Units, Any Combination)            0.006914\n",
      "Cluster Home                                  0.004303\n",
      "Mobile Home                                   0.000956\n",
      "Manufactured, Modular, Prefabricated Homes    0.000750\n",
      "Residential General                           0.000478\n",
      "Cooperative                                   0.000375\n",
      "Commercial/Office/Residential Mixed Used      0.000194\n",
      "Townhouse                                     0.000078\n",
      "Name: propertylandusedesc, dtype: float64\n",
      "================================\n",
      "\n",
      "\n",
      "storydesc\n",
      "---------------------------------\n",
      "Basement    50\n",
      "Name: storydesc, dtype: int64\n",
      "\n",
      "---------------------------------\n",
      "Basement    1.0\n",
      "Name: storydesc, dtype: float64\n",
      "================================\n",
      "\n",
      "\n",
      "typeconstructiondesc\n",
      "---------------------------------\n",
      "Frame       219\n",
      "Concrete      1\n",
      "Masonry       1\n",
      "Metal         1\n",
      "Name: typeconstructiondesc, dtype: int64\n",
      "\n",
      "---------------------------------\n",
      "Frame       0.986486\n",
      "Concrete    0.004505\n",
      "Masonry     0.004505\n",
      "Metal       0.004505\n",
      "Name: typeconstructiondesc, dtype: float64\n",
      "================================\n",
      "\n",
      "\n"
     ]
    }
   ],
   "source": [
    "for cat in cat_cols:\n",
    "    print(f'{cat}\\n---------------------------------')\n",
    "    print(df[cat].value_counts())\n",
    "    print('\\n---------------------------------')\n",
    "    print(df[cat].value_counts(normalize=True))\n",
    "    print('================================\\n\\n')"
   ]
  },
  {
   "cell_type": "code",
   "execution_count": 12,
   "id": "4d3e06f9-bfc1-449e-a523-1752afa070d0",
   "metadata": {},
   "outputs": [
    {
     "data": {
      "text/plain": [
       "46"
      ]
     },
     "execution_count": 12,
     "metadata": {},
     "output_type": "execute_result"
    }
   ],
   "source": [
    "num_cols = df.select_dtypes('number').columns.tolist()\n",
    "len(num_cols)"
   ]
  },
  {
   "cell_type": "code",
   "execution_count": 13,
   "id": "3c434a15-d4af-4211-998c-d6d9ae8036d5",
   "metadata": {
    "scrolled": true,
    "tags": []
   },
   "outputs": [
    {
     "data": {
      "image/png": "[encoded data removed]",
      "text/plain": [
       "<Figure size 432x288 with 1 Axes>"
      ]
     },
     "metadata": {
      "needs_background": "light"
     },
     "output_type": "display_data"
    },
    {
     "data": {
      "image/png": "[encoded data removed]",
      "text/plain": [
       "<Figure size 432x288 with 1 Axes>"
      ]
     },
     "metadata": {
      "needs_background": "light"
     },
     "output_type": "display_data"
    },
    {
     "data": {
      "image/png": "[encoded data removed]",
      "text/plain": [
       "<Figure size 432x288 with 1 Axes>"
      ]
     },
     "metadata": {
      "needs_background": "light"
     },
     "output_type": "display_data"
    },
    {
     "data": {
      "image/png": "[encoded data removed]",
      "text/plain": [
       "<Figure size 432x288 with 1 Axes>"
      ]
     },
     "metadata": {
      "needs_background": "light"
     },
     "output_type": "display_data"
    },
    {
     "data": {
      "image/png": "[encoded data removed]",
      "text/plain": [
       "<Figure size 432x288 with 1 Axes>"
      ]
     },
     "metadata": {
      "needs_background": "light"
     },
     "output_type": "display_data"
    },
    {
     "data": {
      "image/png": "[encoded data removed]",
      "text/plain": [
       "<Figure size 432x288 with 1 Axes>"
      ]
     },
     "metadata": {
      "needs_background": "light"
     },
     "output_type": "display_data"
    },
    {
     "data": {
      "image/png": "[encoded data removed]",
      "text/plain": [
       "<Figure size 432x288 with 1 Axes>"
      ]
     },
     "metadata": {
      "needs_background": "light"
     },
     "output_type": "display_data"
    },
    {
     "data": {
      "image/png": "[encoded data removed]",
      "text/plain": [
       "<Figure size 432x288 with 1 Axes>"
      ]
     },
     "metadata": {
      "needs_background": "light"
     },
     "output_type": "display_data"
    },
    {
     "data": {
      "image/png": "[encoded data removed]",
      "text/plain": [
       "<Figure size 432x288 with 1 Axes>"
      ]
     },
     "metadata": {
      "needs_background": "light"
     },
     "output_type": "display_data"
    },
    {
     "data": {
      "image/png": "[encoded data removed]",
      "text/plain": [
       "<Figure size 432x288 with 1 Axes>"
      ]
     },
     "metadata": {
      "needs_background": "light"
     },
     "output_type": "display_data"
    },
    {
     "data": {
      "image/png": "[encoded data removed]",
      "text/plain": [
       "<Figure size 432x288 with 1 Axes>"
      ]
     },
     "metadata": {
      "needs_background": "light"
     },
     "output_type": "display_data"
    },
    {
     "data": {
      "image/png": "[encoded data removed]",
      "text/plain": [
       "<Figure size 432x288 with 1 Axes>"
      ]
     },
     "metadata": {
      "needs_background": "light"
     },
     "output_type": "display_data"
    },
    {
     "data": {
      "image/png": "[encoded data removed]",
      "text/plain": [
       "<Figure size 432x288 with 1 Axes>"
      ]
     },
     "metadata": {
      "needs_background": "light"
     },
     "output_type": "display_data"
    },
    {
     "data": {
      "image/png": "[encoded data removed]",
      "text/plain": [
       "<Figure size 432x288 with 1 Axes>"
      ]
     },
     "metadata": {
      "needs_background": "light"
     },
     "output_type": "display_data"
    },
    {
     "data": {
      "image/png": "[encoded data removed]",
      "text/plain": [
       "<Figure size 432x288 with 1 Axes>"
      ]
     },
     "metadata": {
      "needs_background": "light"
     },
     "output_type": "display_data"
    },
    {
     "data": {
      "image/png": "[encoded data removed]",
      "text/plain": [
       "<Figure size 432x288 with 1 Axes>"
      ]
     },
     "metadata": {
      "needs_background": "light"
     },
     "output_type": "display_data"
    },
    {
     "data": {
      "image/png": "[encoded data removed]",
      "text/plain": [
       "<Figure size 432x288 with 1 Axes>"
      ]
     },
     "metadata": {
      "needs_background": "light"
     },
     "output_type": "display_data"
    },
    {
     "data": {
      "image/png": "[encoded data removed]",
      "text/plain": [
       "<Figure size 432x288 with 1 Axes>"
      ]
     },
     "metadata": {
      "needs_background": "light"
     },
     "output_type": "display_data"
    },
    {
     "data": {
      "image/png": "[encoded data removed]",
      "text/plain": [
       "<Figure size 432x288 with 1 Axes>"
      ]
     },
     "metadata": {
      "needs_background": "light"
     },
     "output_type": "display_data"
    },
    {
     "data": {
      "image/png": "[encoded data removed]",
      "text/plain": [
       "<Figure size 432x288 with 1 Axes>"
      ]
     },
     "metadata": {
      "needs_background": "light"
     },
     "output_type": "display_data"
    },
    {
     "data": {
      "image/png": "[encoded data removed]",
      "text/plain": [
       "<Figure size 432x288 with 1 Axes>"
      ]
     },
     "metadata": {
      "needs_background": "light"
     },
     "output_type": "display_data"
    },
    {
     "data": {
      "image/png": "[encoded data removed]",
      "text/plain": [
       "<Figure size 432x288 with 1 Axes>"
      ]
     },
     "metadata": {
      "needs_background": "light"
     },
     "output_type": "display_data"
    },
    {
     "data": {
      "image/png": "[encoded data removed]",
      "text/plain": [
       "<Figure size 432x288 with 1 Axes>"
      ]
     },
     "metadata": {
      "needs_background": "light"
     },
     "output_type": "display_data"
    },
    {
     "data": {
      "image/png": "[encoded data removed]",
      "text/plain": [
       "<Figure size 432x288 with 1 Axes>"
      ]
     },
     "metadata": {
      "needs_background": "light"
     },
     "output_type": "display_data"
    },
    {
     "data": {
      "image/png": "[encoded data removed]",
      "text/plain": [
       "<Figure size 432x288 with 1 Axes>"
      ]
     },
     "metadata": {
      "needs_background": "light"
     },
     "output_type": "display_data"
    },
    {
     "data": {
      "image/png": "[encoded data removed]",
      "text/plain": [
       "<Figure size 432x288 with 1 Axes>"
      ]
     },
     "metadata": {
      "needs_background": "light"
     },
     "output_type": "display_data"
    },
    {
     "data": {
      "image/png": "[encoded data removed]",
      "text/plain": [
       "<Figure size 432x288 with 1 Axes>"
      ]
     },
     "metadata": {
      "needs_background": "light"
     },
     "output_type": "display_data"
    },
    {
     "data": {
      "image/png": "[encoded data removed]",
      "text/plain": [
       "<Figure size 432x288 with 1 Axes>"
      ]
     },
     "metadata": {
      "needs_background": "light"
     },
     "output_type": "display_data"
    },
    {
     "data": {
      "image/png": "[encoded data removed]",
      "text/plain": [
       "<Figure size 432x288 with 1 Axes>"
      ]
     },
     "metadata": {
      "needs_background": "light"
     },
     "output_type": "display_data"
    },
    {
     "data": {
      "image/png": "[encoded data removed]",
      "text/plain": [
       "<Figure size 432x288 with 1 Axes>"
      ]
     },
     "metadata": {
      "needs_background": "light"
     },
     "output_type": "display_data"
    },
    {
     "data": {
      "image/png": "[encoded data removed]",
      "text/plain": [
       "<Figure size 432x288 with 1 Axes>"
      ]
     },
     "metadata": {
      "needs_background": "light"
     },
     "output_type": "display_data"
    },
    {
     "data": {
      "image/png": "[encoded data removed]",
      "text/plain": [
       "<Figure size 432x288 with 1 Axes>"
      ]
     },
     "metadata": {
      "needs_background": "light"
     },
     "output_type": "display_data"
    },
    {
     "data": {
      "image/png": "[encoded data removed]",
      "text/plain": [
       "<Figure size 432x288 with 1 Axes>"
      ]
     },
     "metadata": {
      "needs_background": "light"
     },
     "output_type": "display_data"
    },
    {
     "data": {
      "image/png": "[encoded data removed]",
      "text/plain": [
       "<Figure size 432x288 with 1 Axes>"
      ]
     },
     "metadata": {
      "needs_background": "light"
     },
     "output_type": "display_data"
    },
    {
     "data": {
      "image/png": "[encoded data removed]",
      "text/plain": [
       "<Figure size 432x288 with 1 Axes>"
      ]
     },
     "metadata": {
      "needs_background": "light"
     },
     "output_type": "display_data"
    },
    {
     "data": {
      "image/png": "[encoded data removed]",
      "text/plain": [
       "<Figure size 432x288 with 1 Axes>"
      ]
     },
     "metadata": {
      "needs_background": "light"
     },
     "output_type": "display_data"
    },
    {
     "data": {
      "image/png": "[encoded data removed]",
      "text/plain": [
       "<Figure size 432x288 with 1 Axes>"
      ]
     },
     "metadata": {
      "needs_background": "light"
     },
     "output_type": "display_data"
    },
    {
     "data": {
      "image/png": "[encoded data removed]",
      "text/plain": [
       "<Figure size 432x288 with 1 Axes>"
      ]
     },
     "metadata": {
      "needs_background": "light"
     },
     "output_type": "display_data"
    },
    {
     "data": {
      "image/png": "[encoded data removed]",
      "text/plain": [
       "<Figure size 432x288 with 1 Axes>"
      ]
     },
     "metadata": {
      "needs_background": "light"
     },
     "output_type": "display_data"
    },
    {
     "data": {
      "image/png": "[encoded data removed]",
      "text/plain": [
       "<Figure size 432x288 with 1 Axes>"
      ]
     },
     "metadata": {
      "needs_background": "light"
     },
     "output_type": "display_data"
    },
    {
     "data": {
      "image/png": "[encoded data removed]",
      "text/plain": [
       "<Figure size 432x288 with 1 Axes>"
      ]
     },
     "metadata": {
      "needs_background": "light"
     },
     "output_type": "display_data"
    },
    {
     "data": {
      "image/png": "[encoded data removed]",
      "text/plain": [
       "<Figure size 432x288 with 1 Axes>"
      ]
     },
     "metadata": {
      "needs_background": "light"
     },
     "output_type": "display_data"
    },
    {
     "data": {
      "image/png": "[encoded data removed]",
      "text/plain": [
       "<Figure size 432x288 with 1 Axes>"
      ]
     },
     "metadata": {
      "needs_background": "light"
     },
     "output_type": "display_data"
    },
    {
     "data": {
      "image/png": "[encoded data removed]",
      "text/plain": [
       "<Figure size 432x288 with 1 Axes>"
      ]
     },
     "metadata": {
      "needs_background": "light"
     },
     "output_type": "display_data"
    },
    {
     "data": {
      "image/png": "[encoded data removed]",
      "text/plain": [
       "<Figure size 432x288 with 1 Axes>"
      ]
     },
     "metadata": {
      "needs_background": "light"
     },
     "output_type": "display_data"
    },
    {
     "data": {
      "image/png": "[encoded data removed]",
      "text/plain": [
       "<Figure size 432x288 with 1 Axes>"
      ]
     },
     "metadata": {
      "needs_background": "light"
     },
     "output_type": "display_data"
    }
   ],
   "source": [
    "for col in num_cols:\n",
    "    df[col].hist(edgecolor='black')\n",
    "    plt.xlabel(col)\n",
    "    plt.title(col)\n",
    "    plt.ylabel('count')\n",
    "    plt.grid(False)\n",
    "    plt.show()\n",
    "        "
   ]
  },
  {
   "cell_type": "code",
   "execution_count": 14,
   "id": "9593f1f7-61b4-4965-84a5-48b9bbff97a5",
   "metadata": {
    "jupyter": {
     "source_hidden": true
    },
    "tags": []
   },
   "outputs": [],
   "source": [
    "def summarize(df):\n",
    "    '''\n",
    "    summarize will take in a single argument (a pandas dataframe) \n",
    "    and output to console various statistics on said dataframe, including:\n",
    "    # .head()\n",
    "    # .info()\n",
    "    # .describe()\n",
    "    # value_counts()\n",
    "    # observation of nulls in the dataframe\n",
    "    '''\n",
    "    print('=====================================================')\n",
    "    print('Dataframe head: ')\n",
    "    print(df.head(3).to_markdown())\n",
    "    print('=====================================================')\n",
    "    print('Dataframe info: ')\n",
    "    print(df.info())\n",
    "    print('=====================================================')\n",
    "    print('Dataframe Description: ')\n",
    "    print(df.describe().to_markdown())\n",
    "    num_cols = [col for col in df.columns if df[col].dtype != 'O']\n",
    "    cat_cols = [col for col in df.columns if col not in num_cols]\n",
    "    print('=====================================================')\n",
    "    print('DataFrame value counts: ')\n",
    "    for col in df.columns:\n",
    "        if col in cat_cols:\n",
    "            print(df[col].value_counts())\n",
    "            print(df[col].value_counts(normalize=True))\n",
    "        else:\n",
    "            print(df[col].value_counts(bins=10, sort=False))\n",
    "    print('=====================================================')\n",
    "    print('nulls in dataframe by column: ')\n",
    "    print(nulls_by_col(df).to_markdown())\n",
    "    print('=====================================================')\n",
    "    print('nulls in dataframe by row: ')\n",
    "    print(nulls_by_row(df).to_markdown())\n",
    "    print('=====================================================')"
   ]
  },
  {
   "cell_type": "code",
   "execution_count": 15,
   "id": "b3d8640f-2cb7-4fef-9ca9-6c4361492e65",
   "metadata": {
    "tags": []
   },
   "outputs": [],
   "source": [
    "# summarize(df)"
   ]
  },
  {
   "cell_type": "markdown",
   "id": "29407a13-48ab-4ab0-8051-de4cf60d8807",
   "metadata": {},
   "source": [
    "### 3."
   ]
  },
  {
   "attachments": {
    "6061cc78-7c18-4e25-a195-c2587f8fceda.png": {
     "image/png": "[encoded data removed]"
    }
   },
   "cell_type": "markdown",
   "id": "a4894662-3f10-4280-a9eb-c876663e2384",
   "metadata": {},
   "source": [
    "Write a function that takes in a dataframe of observations and attributes and returns a dataframe where:\n",
    "- each row is an atttribute name\n",
    "- the first column is the number of rows with missing values for that attribute\n",
    "- the second column is percent of total rows that have missing values for that attribute.\n",
    "\n",
    "![image.png](attachment:6061cc78-7c18-4e25-a195-c2587f8fceda.png)\n",
    "\n",
    "Run the function and document takeaways from this on how you want to handle missing values."
   ]
  },
  {
   "cell_type": "code",
   "execution_count": 16,
   "id": "fdfc7bbe-e3c9-4b7a-9041-abf784c4de04",
   "metadata": {},
   "outputs": [],
   "source": [
    "def nulls_by_col(df):\n",
    "    num_missing = df.isnull().sum()\n",
    "    rows = df.shape[0]\n",
    "    prcnt_miss = num_missing / rows * 100\n",
    "    cols_missing = pd.DataFrame({'num_rows_missing': num_missing, 'percent_rows_missing': prcnt_miss})\n",
    "    return cols_missing"
   ]
  },
  {
   "cell_type": "code",
   "execution_count": 17,
   "id": "869aca46-e2ad-4662-bf9d-d442dd3504b0",
   "metadata": {},
   "outputs": [
    {
     "data": {
      "text/html": [
       "<div>\n",
       "<style scoped>\n",
       "    .dataframe tbody tr th:only-of-type {\n",
       "        vertical-align: middle;\n",
       "    }\n",
       "\n",
       "    .dataframe tbody tr th {\n",
       "        vertical-align: top;\n",
       "    }\n",
       "\n",
       "    .dataframe thead th {\n",
       "        text-align: right;\n",
       "    }\n",
       "</style>\n",
       "<table border=\"1\" class=\"dataframe\">\n",
       "  <thead>\n",
       "    <tr style=\"text-align: right;\">\n",
       "      <th></th>\n",
       "      <th>num_rows_missing</th>\n",
       "      <th>percent_rows_missing</th>\n",
       "    </tr>\n",
       "  </thead>\n",
       "  <tbody>\n",
       "    <tr>\n",
       "      <th>transactiondate</th>\n",
       "      <td>0</td>\n",
       "      <td>0.000000</td>\n",
       "    </tr>\n",
       "    <tr>\n",
       "      <th>basementsqft</th>\n",
       "      <td>77331</td>\n",
       "      <td>99.935385</td>\n",
       "    </tr>\n",
       "    <tr>\n",
       "      <th>bathroomcnt</th>\n",
       "      <td>0</td>\n",
       "      <td>0.000000</td>\n",
       "    </tr>\n",
       "    <tr>\n",
       "      <th>bedroomcnt</th>\n",
       "      <td>0</td>\n",
       "      <td>0.000000</td>\n",
       "    </tr>\n",
       "    <tr>\n",
       "      <th>calculatedbathnbr</th>\n",
       "      <td>609</td>\n",
       "      <td>0.787015</td>\n",
       "    </tr>\n",
       "    <tr>\n",
       "      <th>finishedfloor1squarefeet</th>\n",
       "      <td>71358</td>\n",
       "      <td>92.216436</td>\n",
       "    </tr>\n",
       "    <tr>\n",
       "      <th>calculatedfinishedsquarefeet</th>\n",
       "      <td>196</td>\n",
       "      <td>0.253292</td>\n",
       "    </tr>\n",
       "    <tr>\n",
       "      <th>finishedsquarefeet12</th>\n",
       "      <td>3632</td>\n",
       "      <td>4.693659</td>\n",
       "    </tr>\n",
       "    <tr>\n",
       "      <th>finishedsquarefeet13</th>\n",
       "      <td>77340</td>\n",
       "      <td>99.947015</td>\n",
       "    </tr>\n",
       "    <tr>\n",
       "      <th>finishedsquarefeet15</th>\n",
       "      <td>74372</td>\n",
       "      <td>96.111449</td>\n",
       "    </tr>\n",
       "    <tr>\n",
       "      <th>finishedsquarefeet50</th>\n",
       "      <td>71358</td>\n",
       "      <td>92.216436</td>\n",
       "    </tr>\n",
       "    <tr>\n",
       "      <th>finishedsquarefeet6</th>\n",
       "      <td>76995</td>\n",
       "      <td>99.501170</td>\n",
       "    </tr>\n",
       "    <tr>\n",
       "      <th>fips</th>\n",
       "      <td>0</td>\n",
       "      <td>0.000000</td>\n",
       "    </tr>\n",
       "    <tr>\n",
       "      <th>fireplacecnt</th>\n",
       "      <td>69105</td>\n",
       "      <td>89.304868</td>\n",
       "    </tr>\n",
       "    <tr>\n",
       "      <th>fullbathcnt</th>\n",
       "      <td>609</td>\n",
       "      <td>0.787015</td>\n",
       "    </tr>\n",
       "    <tr>\n",
       "      <th>garagecarcnt</th>\n",
       "      <td>51907</td>\n",
       "      <td>67.079774</td>\n",
       "    </tr>\n",
       "    <tr>\n",
       "      <th>garagetotalsqft</th>\n",
       "      <td>51907</td>\n",
       "      <td>67.079774</td>\n",
       "    </tr>\n",
       "    <tr>\n",
       "      <th>hashottuborspa</th>\n",
       "      <td>75843</td>\n",
       "      <td>98.012432</td>\n",
       "    </tr>\n",
       "    <tr>\n",
       "      <th>latitude</th>\n",
       "      <td>0</td>\n",
       "      <td>0.000000</td>\n",
       "    </tr>\n",
       "    <tr>\n",
       "      <th>longitude</th>\n",
       "      <td>0</td>\n",
       "      <td>0.000000</td>\n",
       "    </tr>\n",
       "    <tr>\n",
       "      <th>lotsizesquarefeet</th>\n",
       "      <td>8239</td>\n",
       "      <td>10.647317</td>\n",
       "    </tr>\n",
       "    <tr>\n",
       "      <th>poolcnt</th>\n",
       "      <td>61244</td>\n",
       "      <td>79.146044</td>\n",
       "    </tr>\n",
       "    <tr>\n",
       "      <th>poolsizesum</th>\n",
       "      <td>76514</td>\n",
       "      <td>98.879570</td>\n",
       "    </tr>\n",
       "    <tr>\n",
       "      <th>pooltypeid10</th>\n",
       "      <td>76917</td>\n",
       "      <td>99.400370</td>\n",
       "    </tr>\n",
       "    <tr>\n",
       "      <th>pooltypeid2</th>\n",
       "      <td>76307</td>\n",
       "      <td>98.612062</td>\n",
       "    </tr>\n",
       "    <tr>\n",
       "      <th>pooltypeid7</th>\n",
       "      <td>62339</td>\n",
       "      <td>80.561120</td>\n",
       "    </tr>\n",
       "    <tr>\n",
       "      <th>propertycountylandusecode</th>\n",
       "      <td>0</td>\n",
       "      <td>0.000000</td>\n",
       "    </tr>\n",
       "    <tr>\n",
       "      <th>propertyzoningdesc</th>\n",
       "      <td>27050</td>\n",
       "      <td>34.956902</td>\n",
       "    </tr>\n",
       "    <tr>\n",
       "      <th>rawcensustractandblock</th>\n",
       "      <td>0</td>\n",
       "      <td>0.000000</td>\n",
       "    </tr>\n",
       "    <tr>\n",
       "      <th>regionidcity</th>\n",
       "      <td>1471</td>\n",
       "      <td>1.900983</td>\n",
       "    </tr>\n",
       "    <tr>\n",
       "      <th>regionidcounty</th>\n",
       "      <td>0</td>\n",
       "      <td>0.000000</td>\n",
       "    </tr>\n",
       "    <tr>\n",
       "      <th>regionidneighborhood</th>\n",
       "      <td>46491</td>\n",
       "      <td>60.080640</td>\n",
       "    </tr>\n",
       "    <tr>\n",
       "      <th>regionidzip</th>\n",
       "      <td>50</td>\n",
       "      <td>0.064615</td>\n",
       "    </tr>\n",
       "    <tr>\n",
       "      <th>roomcnt</th>\n",
       "      <td>0</td>\n",
       "      <td>0.000000</td>\n",
       "    </tr>\n",
       "    <tr>\n",
       "      <th>threequarterbathnbr</th>\n",
       "      <td>67285</td>\n",
       "      <td>86.952870</td>\n",
       "    </tr>\n",
       "    <tr>\n",
       "      <th>unitcnt</th>\n",
       "      <td>26818</td>\n",
       "      <td>34.657086</td>\n",
       "    </tr>\n",
       "    <tr>\n",
       "      <th>yardbuildingsqft17</th>\n",
       "      <td>74993</td>\n",
       "      <td>96.913971</td>\n",
       "    </tr>\n",
       "    <tr>\n",
       "      <th>yardbuildingsqft26</th>\n",
       "      <td>77311</td>\n",
       "      <td>99.909539</td>\n",
       "    </tr>\n",
       "    <tr>\n",
       "      <th>yearbuilt</th>\n",
       "      <td>263</td>\n",
       "      <td>0.339877</td>\n",
       "    </tr>\n",
       "    <tr>\n",
       "      <th>numberofstories</th>\n",
       "      <td>59821</td>\n",
       "      <td>77.307091</td>\n",
       "    </tr>\n",
       "    <tr>\n",
       "      <th>fireplaceflag</th>\n",
       "      <td>77209</td>\n",
       "      <td>99.777723</td>\n",
       "    </tr>\n",
       "    <tr>\n",
       "      <th>structuretaxvaluedollarcnt</th>\n",
       "      <td>112</td>\n",
       "      <td>0.144738</td>\n",
       "    </tr>\n",
       "    <tr>\n",
       "      <th>taxvaluedollarcnt</th>\n",
       "      <td>1</td>\n",
       "      <td>0.001292</td>\n",
       "    </tr>\n",
       "    <tr>\n",
       "      <th>assessmentyear</th>\n",
       "      <td>0</td>\n",
       "      <td>0.000000</td>\n",
       "    </tr>\n",
       "    <tr>\n",
       "      <th>landtaxvaluedollarcnt</th>\n",
       "      <td>2</td>\n",
       "      <td>0.002585</td>\n",
       "    </tr>\n",
       "    <tr>\n",
       "      <th>taxamount</th>\n",
       "      <td>5</td>\n",
       "      <td>0.006462</td>\n",
       "    </tr>\n",
       "    <tr>\n",
       "      <th>taxdelinquencyflag</th>\n",
       "      <td>74495</td>\n",
       "      <td>96.270402</td>\n",
       "    </tr>\n",
       "    <tr>\n",
       "      <th>taxdelinquencyyear</th>\n",
       "      <td>74495</td>\n",
       "      <td>96.270402</td>\n",
       "    </tr>\n",
       "    <tr>\n",
       "      <th>censustractandblock</th>\n",
       "      <td>244</td>\n",
       "      <td>0.315323</td>\n",
       "    </tr>\n",
       "    <tr>\n",
       "      <th>logerror</th>\n",
       "      <td>0</td>\n",
       "      <td>0.000000</td>\n",
       "    </tr>\n",
       "    <tr>\n",
       "      <th>airconditioningdesc</th>\n",
       "      <td>52428</td>\n",
       "      <td>67.753066</td>\n",
       "    </tr>\n",
       "    <tr>\n",
       "      <th>architecturalstyledesc</th>\n",
       "      <td>77175</td>\n",
       "      <td>99.733785</td>\n",
       "    </tr>\n",
       "    <tr>\n",
       "      <th>buildingclassdesc</th>\n",
       "      <td>77366</td>\n",
       "      <td>99.980615</td>\n",
       "    </tr>\n",
       "    <tr>\n",
       "      <th>heatingorsystemdesc</th>\n",
       "      <td>27941</td>\n",
       "      <td>36.108347</td>\n",
       "    </tr>\n",
       "    <tr>\n",
       "      <th>propertylandusedesc</th>\n",
       "      <td>0</td>\n",
       "      <td>0.000000</td>\n",
       "    </tr>\n",
       "    <tr>\n",
       "      <th>storydesc</th>\n",
       "      <td>77331</td>\n",
       "      <td>99.935385</td>\n",
       "    </tr>\n",
       "    <tr>\n",
       "      <th>typeconstructiondesc</th>\n",
       "      <td>77159</td>\n",
       "      <td>99.713108</td>\n",
       "    </tr>\n",
       "  </tbody>\n",
       "</table>\n",
       "</div>"
      ],
      "text/plain": [
       "                              num_rows_missing  percent_rows_missing\n",
       "transactiondate                              0              0.000000\n",
       "basementsqft                             77331             99.935385\n",
       "bathroomcnt                                  0              0.000000\n",
       "bedroomcnt                                   0              0.000000\n",
       "calculatedbathnbr                          609              0.787015\n",
       "finishedfloor1squarefeet                 71358             92.216436\n",
       "calculatedfinishedsquarefeet               196              0.253292\n",
       "finishedsquarefeet12                      3632              4.693659\n",
       "finishedsquarefeet13                     77340             99.947015\n",
       "finishedsquarefeet15                     74372             96.111449\n",
       "finishedsquarefeet50                     71358             92.216436\n",
       "finishedsquarefeet6                      76995             99.501170\n",
       "fips                                         0              0.000000\n",
       "fireplacecnt                             69105             89.304868\n",
       "fullbathcnt                                609              0.787015\n",
       "garagecarcnt                             51907             67.079774\n",
       "garagetotalsqft                          51907             67.079774\n",
       "hashottuborspa                           75843             98.012432\n",
       "latitude                                     0              0.000000\n",
       "longitude                                    0              0.000000\n",
       "lotsizesquarefeet                         8239             10.647317\n",
       "poolcnt                                  61244             79.146044\n",
       "poolsizesum                              76514             98.879570\n",
       "pooltypeid10                             76917             99.400370\n",
       "pooltypeid2                              76307             98.612062\n",
       "pooltypeid7                              62339             80.561120\n",
       "propertycountylandusecode                    0              0.000000\n",
       "propertyzoningdesc                       27050             34.956902\n",
       "rawcensustractandblock                       0              0.000000\n",
       "regionidcity                              1471              1.900983\n",
       "regionidcounty                               0              0.000000\n",
       "regionidneighborhood                     46491             60.080640\n",
       "regionidzip                                 50              0.064615\n",
       "roomcnt                                      0              0.000000\n",
       "threequarterbathnbr                      67285             86.952870\n",
       "unitcnt                                  26818             34.657086\n",
       "yardbuildingsqft17                       74993             96.913971\n",
       "yardbuildingsqft26                       77311             99.909539\n",
       "yearbuilt                                  263              0.339877\n",
       "numberofstories                          59821             77.307091\n",
       "fireplaceflag                            77209             99.777723\n",
       "structuretaxvaluedollarcnt                 112              0.144738\n",
       "taxvaluedollarcnt                            1              0.001292\n",
       "assessmentyear                               0              0.000000\n",
       "landtaxvaluedollarcnt                        2              0.002585\n",
       "taxamount                                    5              0.006462\n",
       "taxdelinquencyflag                       74495             96.270402\n",
       "taxdelinquencyyear                       74495             96.270402\n",
       "censustractandblock                        244              0.315323\n",
       "logerror                                     0              0.000000\n",
       "airconditioningdesc                      52428             67.753066\n",
       "architecturalstyledesc                   77175             99.733785\n",
       "buildingclassdesc                        77366             99.980615\n",
       "heatingorsystemdesc                      27941             36.108347\n",
       "propertylandusedesc                          0              0.000000\n",
       "storydesc                                77331             99.935385\n",
       "typeconstructiondesc                     77159             99.713108"
      ]
     },
     "execution_count": 17,
     "metadata": {},
     "output_type": "execute_result"
    }
   ],
   "source": [
    "nulls_by_col(df)"
   ]
  },
  {
   "cell_type": "markdown",
   "id": "48999dbb-fcf2-4f87-80a8-439d1c56a2a8",
   "metadata": {},
   "source": [
    "**Takeaways:**\n",
    "- Determine a threshold and eliminate columns that are below that threshold\n",
    "- After doing above, take a look at remaining columns to see which are redundant (for redudant columns, keep one with most data)"
   ]
  },
  {
   "cell_type": "markdown",
   "id": "0850186a-f302-42f5-aa07-c2cb8c6859aa",
   "metadata": {},
   "source": [
    "### 4."
   ]
  },
  {
   "attachments": {
    "d364f647-8107-4a69-973d-29aa5e1227c7.png": {
     "image/png": "[encoded data removed]"
    }
   },
   "cell_type": "markdown",
   "id": "9098f3cb-6a3c-41eb-a289-e1feb3501a6b",
   "metadata": {},
   "source": [
    "Write a function that takes in a dataframe and returns a dataframe with 3 columns: \n",
    "- the number of columns missing \n",
    "- percent of columns missing\n",
    "- number of rows with n columns missing. \n",
    "\n",
    "![image.png](attachment:d364f647-8107-4a69-973d-29aa5e1227c7.png)\n",
    "\n",
    "Run the function and document takeaways from this on how you want to handle missing values."
   ]
  },
  {
   "cell_type": "code",
   "execution_count": 18,
   "id": "c926d10f-5010-4556-bb33-7fbd3e5343f5",
   "metadata": {},
   "outputs": [],
   "source": [
    "def nulls_by_row(df):\n",
    "    num_missing = df.isnull().sum(axis=1)\n",
    "    prcnt_miss = num_missing / df.shape[1] * 100\n",
    "    rows_missing = pd.DataFrame({'num_cols_missing': num_missing, 'percent_cols_missing': prcnt_miss})\\\n",
    "    .reset_index()\\\n",
    "    .groupby(['num_cols_missing', 'percent_cols_missing']).count()\\\n",
    "    .rename(columns={'index': 'num_rows'}).reset_index()\n",
    "    return rows_missing"
   ]
  },
  {
   "cell_type": "code",
   "execution_count": 19,
   "id": "eb0939b0-b106-4b92-b40b-59848635b05c",
   "metadata": {},
   "outputs": [
    {
     "data": {
      "text/html": [
       "<div>\n",
       "<style scoped>\n",
       "    .dataframe tbody tr th:only-of-type {\n",
       "        vertical-align: middle;\n",
       "    }\n",
       "\n",
       "    .dataframe tbody tr th {\n",
       "        vertical-align: top;\n",
       "    }\n",
       "\n",
       "    .dataframe thead th {\n",
       "        text-align: right;\n",
       "    }\n",
       "</style>\n",
       "<table border=\"1\" class=\"dataframe\">\n",
       "  <thead>\n",
       "    <tr style=\"text-align: right;\">\n",
       "      <th></th>\n",
       "      <th>num_cols_missing</th>\n",
       "      <th>percent_cols_missing</th>\n",
       "      <th>num_rows</th>\n",
       "    </tr>\n",
       "  </thead>\n",
       "  <tbody>\n",
       "    <tr>\n",
       "      <th>0</th>\n",
       "      <td>18</td>\n",
       "      <td>31.578947</td>\n",
       "      <td>6</td>\n",
       "    </tr>\n",
       "    <tr>\n",
       "      <th>1</th>\n",
       "      <td>19</td>\n",
       "      <td>33.333333</td>\n",
       "      <td>48</td>\n",
       "    </tr>\n",
       "    <tr>\n",
       "      <th>2</th>\n",
       "      <td>20</td>\n",
       "      <td>35.087719</td>\n",
       "      <td>249</td>\n",
       "    </tr>\n",
       "    <tr>\n",
       "      <th>3</th>\n",
       "      <td>21</td>\n",
       "      <td>36.842105</td>\n",
       "      <td>443</td>\n",
       "    </tr>\n",
       "    <tr>\n",
       "      <th>4</th>\n",
       "      <td>22</td>\n",
       "      <td>38.596491</td>\n",
       "      <td>617</td>\n",
       "    </tr>\n",
       "    <tr>\n",
       "      <th>5</th>\n",
       "      <td>23</td>\n",
       "      <td>40.350877</td>\n",
       "      <td>1158</td>\n",
       "    </tr>\n",
       "    <tr>\n",
       "      <th>6</th>\n",
       "      <td>24</td>\n",
       "      <td>42.105263</td>\n",
       "      <td>7478</td>\n",
       "    </tr>\n",
       "    <tr>\n",
       "      <th>7</th>\n",
       "      <td>25</td>\n",
       "      <td>43.859649</td>\n",
       "      <td>9219</td>\n",
       "    </tr>\n",
       "    <tr>\n",
       "      <th>8</th>\n",
       "      <td>26</td>\n",
       "      <td>45.614035</td>\n",
       "      <td>11865</td>\n",
       "    </tr>\n",
       "    <tr>\n",
       "      <th>9</th>\n",
       "      <td>27</td>\n",
       "      <td>47.368421</td>\n",
       "      <td>21200</td>\n",
       "    </tr>\n",
       "    <tr>\n",
       "      <th>10</th>\n",
       "      <td>28</td>\n",
       "      <td>49.122807</td>\n",
       "      <td>17522</td>\n",
       "    </tr>\n",
       "    <tr>\n",
       "      <th>11</th>\n",
       "      <td>29</td>\n",
       "      <td>50.877193</td>\n",
       "      <td>4643</td>\n",
       "    </tr>\n",
       "    <tr>\n",
       "      <th>12</th>\n",
       "      <td>30</td>\n",
       "      <td>52.631579</td>\n",
       "      <td>2154</td>\n",
       "    </tr>\n",
       "    <tr>\n",
       "      <th>13</th>\n",
       "      <td>31</td>\n",
       "      <td>54.385965</td>\n",
       "      <td>321</td>\n",
       "    </tr>\n",
       "    <tr>\n",
       "      <th>14</th>\n",
       "      <td>32</td>\n",
       "      <td>56.140351</td>\n",
       "      <td>237</td>\n",
       "    </tr>\n",
       "    <tr>\n",
       "      <th>15</th>\n",
       "      <td>33</td>\n",
       "      <td>57.894737</td>\n",
       "      <td>30</td>\n",
       "    </tr>\n",
       "    <tr>\n",
       "      <th>16</th>\n",
       "      <td>34</td>\n",
       "      <td>59.649123</td>\n",
       "      <td>24</td>\n",
       "    </tr>\n",
       "    <tr>\n",
       "      <th>17</th>\n",
       "      <td>35</td>\n",
       "      <td>61.403509</td>\n",
       "      <td>27</td>\n",
       "    </tr>\n",
       "    <tr>\n",
       "      <th>18</th>\n",
       "      <td>36</td>\n",
       "      <td>63.157895</td>\n",
       "      <td>79</td>\n",
       "    </tr>\n",
       "    <tr>\n",
       "      <th>19</th>\n",
       "      <td>37</td>\n",
       "      <td>64.912281</td>\n",
       "      <td>50</td>\n",
       "    </tr>\n",
       "    <tr>\n",
       "      <th>20</th>\n",
       "      <td>38</td>\n",
       "      <td>66.666667</td>\n",
       "      <td>5</td>\n",
       "    </tr>\n",
       "    <tr>\n",
       "      <th>21</th>\n",
       "      <td>39</td>\n",
       "      <td>68.421053</td>\n",
       "      <td>3</td>\n",
       "    </tr>\n",
       "    <tr>\n",
       "      <th>22</th>\n",
       "      <td>40</td>\n",
       "      <td>70.175439</td>\n",
       "      <td>3</td>\n",
       "    </tr>\n",
       "  </tbody>\n",
       "</table>\n",
       "</div>"
      ],
      "text/plain": [
       "    num_cols_missing  percent_cols_missing  num_rows\n",
       "0                 18             31.578947         6\n",
       "1                 19             33.333333        48\n",
       "2                 20             35.087719       249\n",
       "3                 21             36.842105       443\n",
       "4                 22             38.596491       617\n",
       "5                 23             40.350877      1158\n",
       "6                 24             42.105263      7478\n",
       "7                 25             43.859649      9219\n",
       "8                 26             45.614035     11865\n",
       "9                 27             47.368421     21200\n",
       "10                28             49.122807     17522\n",
       "11                29             50.877193      4643\n",
       "12                30             52.631579      2154\n",
       "13                31             54.385965       321\n",
       "14                32             56.140351       237\n",
       "15                33             57.894737        30\n",
       "16                34             59.649123        24\n",
       "17                35             61.403509        27\n",
       "18                36             63.157895        79\n",
       "19                37             64.912281        50\n",
       "20                38             66.666667         5\n",
       "21                39             68.421053         3\n",
       "22                40             70.175439         3"
      ]
     },
     "execution_count": 19,
     "metadata": {},
     "output_type": "execute_result"
    }
   ],
   "source": [
    "nulls_by_row(df)"
   ]
  },
  {
   "cell_type": "markdown",
   "id": "3b3fdc90-c580-4191-8a4c-9854daab6259",
   "metadata": {},
   "source": [
    "## Prepare"
   ]
  },
  {
   "cell_type": "markdown",
   "id": "f8b902e1-b2e2-41f9-8e3b-b471a3485e2b",
   "metadata": {},
   "source": [
    "### 1."
   ]
  },
  {
   "cell_type": "markdown",
   "id": "38f49f65-03d4-4811-a769-4de75a746f23",
   "metadata": {},
   "source": [
    "Remove any properties that are likely to be something other than single unit properties. (e.g. no duplexes, no land/lot, ...). \n",
    "   - There are multiple ways to estimate that a property is a single unit, and there is not a single \"right\" answer. \n",
    "   - But for this exercise, do not purely filter by unitcnt as we did previously. \n",
    "   - Add some new logic that will reduce the number of properties that are falsely removed. You might want to use # bedrooms, square feet, unit type or the like to then identify those with unitcnt not defined."
   ]
  },
  {
   "cell_type": "code",
   "execution_count": 20,
   "id": "2cdf4631-7d42-43e9-8426-22fd3bfdf87a",
   "metadata": {},
   "outputs": [
    {
     "data": {
      "text/plain": [
       "Single Family Residential                     52320\n",
       "Condominium                                   19294\n",
       "Duplex (2 Units, Any Combination)              2009\n",
       "Planned Unit Development                       1944\n",
       "Quadruplex (4 Units, Any Combination)           727\n",
       "Triplex (3 Units, Any Combination)              535\n",
       "Cluster Home                                    333\n",
       "Mobile Home                                      74\n",
       "Manufactured, Modular, Prefabricated Homes       58\n",
       "Residential General                              37\n",
       "Cooperative                                      29\n",
       "Commercial/Office/Residential Mixed Used         15\n",
       "Townhouse                                         6\n",
       "Name: propertylandusedesc, dtype: int64"
      ]
     },
     "execution_count": 20,
     "metadata": {},
     "output_type": "execute_result"
    }
   ],
   "source": [
    "df.propertylandusedesc.value_counts()"
   ]
  },
  {
   "cell_type": "code",
   "execution_count": 21,
   "id": "cf4b8dbd-14eb-4d20-b16d-7ce87b38f8cd",
   "metadata": {},
   "outputs": [
    {
     "data": {
      "text/plain": [
       "(77381, 57)"
      ]
     },
     "execution_count": 21,
     "metadata": {},
     "output_type": "execute_result"
    }
   ],
   "source": [
    "df.shape"
   ]
  },
  {
   "cell_type": "code",
   "execution_count": 22,
   "id": "1c86b461-2576-403e-989b-e42963c6665d",
   "metadata": {},
   "outputs": [],
   "source": [
    "df = df[(df.propertylandusedesc == 'Single Family Residential') | (df.propertylandusedesc == 'Mobile Home') | (df.propertylandusedesc == 'Manufactured, Modular, Prefabricated Homes')]"
   ]
  },
  {
   "cell_type": "code",
   "execution_count": 23,
   "id": "63b84401-14f1-4d17-a26a-755c6ad3ad48",
   "metadata": {},
   "outputs": [
    {
     "data": {
      "text/plain": [
       "(52452, 57)"
      ]
     },
     "execution_count": 23,
     "metadata": {},
     "output_type": "execute_result"
    }
   ],
   "source": [
    "df.shape"
   ]
  },
  {
   "cell_type": "markdown",
   "id": "fe1d12eb-b4e6-4133-86c8-e33445dd2985",
   "metadata": {},
   "source": [
    "### 2."
   ]
  },
  {
   "cell_type": "markdown",
   "id": "39fb04a6-342b-46a2-8a84-0bc0f3a40c0b",
   "metadata": {},
   "source": [
    "Create a function that will drop rows or columns based on the percent of values that are missing: handle_missing_values(df, prop_required_column, prop_required_row).\n",
    "- The input:\n",
    "    - A dataframe\n",
    "    - A number between 0 and 1 that represents the proportion, for each column, of rows with non-missing values required to keep the column. i.e. if prop_required_column = .6, then you are requiring a column to have at least 60% of values not-NA (no more than 40% missing).\n",
    "    - A number between 0 and 1 that represents the proportion, for each row, of columns/variables with non-missing values required to keep the row. For example, if prop_required_row = .75, then you are requiring a row to have at least 75% of variables with a non-missing value (no more that 25% missing).\n",
    "- The output:\n",
    "    - The dataframe with the columns and rows dropped as indicated. Be sure to drop the columns prior to the rows in your function.\n",
    "\n",
    "Hint:\n",
    "- Look up the dropna documentation.\n",
    "- You will want to compute a threshold from your input values (prop_required) and total number of rows or columns.\n",
    "- Make use of inplace, i.e. inplace=True/False."
   ]
  },
  {
   "cell_type": "code",
   "execution_count": 24,
   "id": "c73a5466-d32b-47b3-afab-14074ac54929",
   "metadata": {},
   "outputs": [],
   "source": [
    "def handle_missing_values(df, prop_required_columns=0.5, prop_required_row=0.75):\n",
    "    threshold = int(round(prop_required_columns * len(df.index), 0))\n",
    "    df = df.dropna(axis=1, thresh=threshold)\n",
    "    threshold = int(round(prop_required_row * len(df.columns), 0))\n",
    "    df = df.dropna(axis=0, thresh=threshold)\n",
    "    return df"
   ]
  },
  {
   "cell_type": "code",
   "execution_count": 25,
   "id": "f18d450b-6275-456f-980b-d24aad2db780",
   "metadata": {},
   "outputs": [
    {
     "data": {
      "text/plain": [
       "(52452, 57)"
      ]
     },
     "execution_count": 25,
     "metadata": {},
     "output_type": "execute_result"
    }
   ],
   "source": [
    "df.shape"
   ]
  },
  {
   "cell_type": "code",
   "execution_count": 26,
   "id": "e9d067d0-9f57-4b5b-b344-eba5bedc2f8c",
   "metadata": {},
   "outputs": [],
   "source": [
    "df = handle_missing_values(df)"
   ]
  },
  {
   "cell_type": "code",
   "execution_count": 27,
   "id": "db09c025-a92f-4bcd-9465-bb3e4126917e",
   "metadata": {},
   "outputs": [
    {
     "data": {
      "text/plain": [
       "(52369, 29)"
      ]
     },
     "execution_count": 27,
     "metadata": {},
     "output_type": "execute_result"
    }
   ],
   "source": [
    "df.shape"
   ]
  },
  {
   "cell_type": "code",
   "execution_count": 28,
   "id": "1dbe7051-1ead-46a3-bf60-5d295f44d214",
   "metadata": {},
   "outputs": [
    {
     "name": "stdout",
     "output_type": "stream",
     "text": [
      "<class 'pandas.core.frame.DataFrame'>\n",
      "Int64Index: 52369 entries, 0 to 77380\n",
      "Data columns (total 29 columns):\n",
      " #   Column                        Non-Null Count  Dtype  \n",
      "---  ------                        --------------  -----  \n",
      " 0   transactiondate               52369 non-null  object \n",
      " 1   bathroomcnt                   52369 non-null  float64\n",
      " 2   bedroomcnt                    52369 non-null  float64\n",
      " 3   calculatedbathnbr             52280 non-null  float64\n",
      " 4   calculatedfinishedsquarefeet  52351 non-null  float64\n",
      " 5   finishedsquarefeet12          52145 non-null  float64\n",
      " 6   fips                          52369 non-null  float64\n",
      " 7   fullbathcnt                   52280 non-null  float64\n",
      " 8   latitude                      52369 non-null  float64\n",
      " 9   longitude                     52369 non-null  float64\n",
      " 10  lotsizesquarefeet             52011 non-null  float64\n",
      " 11  propertycountylandusecode     52369 non-null  object \n",
      " 12  propertyzoningdesc            33803 non-null  object \n",
      " 13  rawcensustractandblock        52369 non-null  float64\n",
      " 14  regionidcity                  51339 non-null  float64\n",
      " 15  regionidcounty                52369 non-null  float64\n",
      " 16  regionidzip                   52345 non-null  float64\n",
      " 17  roomcnt                       52369 non-null  float64\n",
      " 18  unitcnt                       33815 non-null  float64\n",
      " 19  yearbuilt                     52318 non-null  float64\n",
      " 20  structuretaxvaluedollarcnt    52287 non-null  float64\n",
      " 21  taxvaluedollarcnt             52368 non-null  float64\n",
      " 22  assessmentyear                52369 non-null  float64\n",
      " 23  landtaxvaluedollarcnt         52368 non-null  float64\n",
      " 24  taxamount                     52365 non-null  float64\n",
      " 25  censustractandblock           52257 non-null  float64\n",
      " 26  logerror                      52369 non-null  float64\n",
      " 27  heatingorsystemdesc           33850 non-null  object \n",
      " 28  propertylandusedesc           52369 non-null  object \n",
      "dtypes: float64(24), object(5)\n",
      "memory usage: 12.0+ MB\n"
     ]
    }
   ],
   "source": [
    "df.info()"
   ]
  },
  {
   "cell_type": "markdown",
   "id": "4d044391-1efc-4ea3-9c85-ce76f5a6b0e9",
   "metadata": {},
   "source": [
    "### 3."
   ]
  },
  {
   "cell_type": "markdown",
   "id": "4b3b69b5-895a-42aa-802a-e77b6a58a7f3",
   "metadata": {},
   "source": [
    "Decide how to handle the remaining missing values:\n",
    "- Fill with constant value.\n",
    "- Impute with mean, median, mode.\n",
    "- Drop row/column"
   ]
  },
  {
   "cell_type": "code",
   "execution_count": 29,
   "id": "6a36b195-dd00-4d83-8ea4-b79a0c08bf27",
   "metadata": {},
   "outputs": [
    {
     "data": {
      "text/plain": [
       "(52369, 29)"
      ]
     },
     "execution_count": 29,
     "metadata": {},
     "output_type": "execute_result"
    }
   ],
   "source": [
    "df.shape"
   ]
  },
  {
   "cell_type": "code",
   "execution_count": 30,
   "id": "2a244cb2-aeea-4172-8f8f-0c7e36d005bb",
   "metadata": {},
   "outputs": [
    {
     "data": {
      "text/plain": [
       "['bathroomcnt',\n",
       " 'bedroomcnt',\n",
       " 'calculatedbathnbr',\n",
       " 'calculatedfinishedsquarefeet',\n",
       " 'finishedsquarefeet12',\n",
       " 'fips',\n",
       " 'fullbathcnt',\n",
       " 'latitude',\n",
       " 'longitude',\n",
       " 'lotsizesquarefeet',\n",
       " 'rawcensustractandblock',\n",
       " 'regionidcity',\n",
       " 'regionidcounty',\n",
       " 'regionidzip',\n",
       " 'roomcnt',\n",
       " 'unitcnt',\n",
       " 'yearbuilt',\n",
       " 'structuretaxvaluedollarcnt',\n",
       " 'taxvaluedollarcnt',\n",
       " 'assessmentyear',\n",
       " 'landtaxvaluedollarcnt',\n",
       " 'taxamount',\n",
       " 'censustractandblock',\n",
       " 'logerror']"
      ]
     },
     "execution_count": 30,
     "metadata": {},
     "output_type": "execute_result"
    }
   ],
   "source": [
    "num_cols = df.select_dtypes('number').columns.tolist()\n",
    "num_cols"
   ]
  },
  {
   "cell_type": "code",
   "execution_count": 31,
   "id": "37ab7b1e-2faf-442f-a954-6a39166ab480",
   "metadata": {},
   "outputs": [
    {
     "data": {
      "text/html": [
       "<div>\n",
       "<style scoped>\n",
       "    .dataframe tbody tr th:only-of-type {\n",
       "        vertical-align: middle;\n",
       "    }\n",
       "\n",
       "    .dataframe tbody tr th {\n",
       "        vertical-align: top;\n",
       "    }\n",
       "\n",
       "    .dataframe thead th {\n",
       "        text-align: right;\n",
       "    }\n",
       "</style>\n",
       "<table border=\"1\" class=\"dataframe\">\n",
       "  <thead>\n",
       "    <tr style=\"text-align: right;\">\n",
       "      <th></th>\n",
       "      <th>num_rows_missing</th>\n",
       "      <th>percent_rows_missing</th>\n",
       "    </tr>\n",
       "  </thead>\n",
       "  <tbody>\n",
       "    <tr>\n",
       "      <th>transactiondate</th>\n",
       "      <td>0</td>\n",
       "      <td>0.000000</td>\n",
       "    </tr>\n",
       "    <tr>\n",
       "      <th>bathroomcnt</th>\n",
       "      <td>0</td>\n",
       "      <td>0.000000</td>\n",
       "    </tr>\n",
       "    <tr>\n",
       "      <th>bedroomcnt</th>\n",
       "      <td>0</td>\n",
       "      <td>0.000000</td>\n",
       "    </tr>\n",
       "    <tr>\n",
       "      <th>calculatedbathnbr</th>\n",
       "      <td>89</td>\n",
       "      <td>0.169948</td>\n",
       "    </tr>\n",
       "    <tr>\n",
       "      <th>calculatedfinishedsquarefeet</th>\n",
       "      <td>18</td>\n",
       "      <td>0.034371</td>\n",
       "    </tr>\n",
       "    <tr>\n",
       "      <th>finishedsquarefeet12</th>\n",
       "      <td>224</td>\n",
       "      <td>0.427734</td>\n",
       "    </tr>\n",
       "    <tr>\n",
       "      <th>fips</th>\n",
       "      <td>0</td>\n",
       "      <td>0.000000</td>\n",
       "    </tr>\n",
       "    <tr>\n",
       "      <th>fullbathcnt</th>\n",
       "      <td>89</td>\n",
       "      <td>0.169948</td>\n",
       "    </tr>\n",
       "    <tr>\n",
       "      <th>latitude</th>\n",
       "      <td>0</td>\n",
       "      <td>0.000000</td>\n",
       "    </tr>\n",
       "    <tr>\n",
       "      <th>longitude</th>\n",
       "      <td>0</td>\n",
       "      <td>0.000000</td>\n",
       "    </tr>\n",
       "    <tr>\n",
       "      <th>lotsizesquarefeet</th>\n",
       "      <td>358</td>\n",
       "      <td>0.683611</td>\n",
       "    </tr>\n",
       "    <tr>\n",
       "      <th>propertycountylandusecode</th>\n",
       "      <td>0</td>\n",
       "      <td>0.000000</td>\n",
       "    </tr>\n",
       "    <tr>\n",
       "      <th>propertyzoningdesc</th>\n",
       "      <td>18566</td>\n",
       "      <td>35.452271</td>\n",
       "    </tr>\n",
       "    <tr>\n",
       "      <th>rawcensustractandblock</th>\n",
       "      <td>0</td>\n",
       "      <td>0.000000</td>\n",
       "    </tr>\n",
       "    <tr>\n",
       "      <th>regionidcity</th>\n",
       "      <td>1030</td>\n",
       "      <td>1.966812</td>\n",
       "    </tr>\n",
       "    <tr>\n",
       "      <th>regionidcounty</th>\n",
       "      <td>0</td>\n",
       "      <td>0.000000</td>\n",
       "    </tr>\n",
       "    <tr>\n",
       "      <th>regionidzip</th>\n",
       "      <td>24</td>\n",
       "      <td>0.045829</td>\n",
       "    </tr>\n",
       "    <tr>\n",
       "      <th>roomcnt</th>\n",
       "      <td>0</td>\n",
       "      <td>0.000000</td>\n",
       "    </tr>\n",
       "    <tr>\n",
       "      <th>unitcnt</th>\n",
       "      <td>18554</td>\n",
       "      <td>35.429357</td>\n",
       "    </tr>\n",
       "    <tr>\n",
       "      <th>yearbuilt</th>\n",
       "      <td>51</td>\n",
       "      <td>0.097386</td>\n",
       "    </tr>\n",
       "    <tr>\n",
       "      <th>structuretaxvaluedollarcnt</th>\n",
       "      <td>82</td>\n",
       "      <td>0.156581</td>\n",
       "    </tr>\n",
       "    <tr>\n",
       "      <th>taxvaluedollarcnt</th>\n",
       "      <td>1</td>\n",
       "      <td>0.001910</td>\n",
       "    </tr>\n",
       "    <tr>\n",
       "      <th>assessmentyear</th>\n",
       "      <td>0</td>\n",
       "      <td>0.000000</td>\n",
       "    </tr>\n",
       "    <tr>\n",
       "      <th>landtaxvaluedollarcnt</th>\n",
       "      <td>1</td>\n",
       "      <td>0.001910</td>\n",
       "    </tr>\n",
       "    <tr>\n",
       "      <th>taxamount</th>\n",
       "      <td>4</td>\n",
       "      <td>0.007638</td>\n",
       "    </tr>\n",
       "    <tr>\n",
       "      <th>censustractandblock</th>\n",
       "      <td>112</td>\n",
       "      <td>0.213867</td>\n",
       "    </tr>\n",
       "    <tr>\n",
       "      <th>logerror</th>\n",
       "      <td>0</td>\n",
       "      <td>0.000000</td>\n",
       "    </tr>\n",
       "    <tr>\n",
       "      <th>heatingorsystemdesc</th>\n",
       "      <td>18519</td>\n",
       "      <td>35.362524</td>\n",
       "    </tr>\n",
       "    <tr>\n",
       "      <th>propertylandusedesc</th>\n",
       "      <td>0</td>\n",
       "      <td>0.000000</td>\n",
       "    </tr>\n",
       "  </tbody>\n",
       "</table>\n",
       "</div>"
      ],
      "text/plain": [
       "                              num_rows_missing  percent_rows_missing\n",
       "transactiondate                              0              0.000000\n",
       "bathroomcnt                                  0              0.000000\n",
       "bedroomcnt                                   0              0.000000\n",
       "calculatedbathnbr                           89              0.169948\n",
       "calculatedfinishedsquarefeet                18              0.034371\n",
       "finishedsquarefeet12                       224              0.427734\n",
       "fips                                         0              0.000000\n",
       "fullbathcnt                                 89              0.169948\n",
       "latitude                                     0              0.000000\n",
       "longitude                                    0              0.000000\n",
       "lotsizesquarefeet                          358              0.683611\n",
       "propertycountylandusecode                    0              0.000000\n",
       "propertyzoningdesc                       18566             35.452271\n",
       "rawcensustractandblock                       0              0.000000\n",
       "regionidcity                              1030              1.966812\n",
       "regionidcounty                               0              0.000000\n",
       "regionidzip                                 24              0.045829\n",
       "roomcnt                                      0              0.000000\n",
       "unitcnt                                  18554             35.429357\n",
       "yearbuilt                                   51              0.097386\n",
       "structuretaxvaluedollarcnt                  82              0.156581\n",
       "taxvaluedollarcnt                            1              0.001910\n",
       "assessmentyear                               0              0.000000\n",
       "landtaxvaluedollarcnt                        1              0.001910\n",
       "taxamount                                    4              0.007638\n",
       "censustractandblock                        112              0.213867\n",
       "logerror                                     0              0.000000\n",
       "heatingorsystemdesc                      18519             35.362524\n",
       "propertylandusedesc                          0              0.000000"
      ]
     },
     "execution_count": 31,
     "metadata": {},
     "output_type": "execute_result"
    }
   ],
   "source": [
    "nulls_by_col(df)"
   ]
  },
  {
   "cell_type": "code",
   "execution_count": 32,
   "id": "6f7ae0c3-a59d-40dd-aacd-cb9a136b418f",
   "metadata": {},
   "outputs": [
    {
     "data": {
      "text/html": [
       "<div>\n",
       "<style scoped>\n",
       "    .dataframe tbody tr th:only-of-type {\n",
       "        vertical-align: middle;\n",
       "    }\n",
       "\n",
       "    .dataframe tbody tr th {\n",
       "        vertical-align: top;\n",
       "    }\n",
       "\n",
       "    .dataframe thead th {\n",
       "        text-align: right;\n",
       "    }\n",
       "</style>\n",
       "<table border=\"1\" class=\"dataframe\">\n",
       "  <thead>\n",
       "    <tr style=\"text-align: right;\">\n",
       "      <th></th>\n",
       "      <th>0</th>\n",
       "      <th>1</th>\n",
       "      <th>2</th>\n",
       "      <th>3</th>\n",
       "      <th>6</th>\n",
       "    </tr>\n",
       "  </thead>\n",
       "  <tbody>\n",
       "    <tr>\n",
       "      <th>transactiondate</th>\n",
       "      <td>2017-01-01</td>\n",
       "      <td>2017-01-01</td>\n",
       "      <td>2017-01-01</td>\n",
       "      <td>2017-01-01</td>\n",
       "      <td>2017-01-01</td>\n",
       "    </tr>\n",
       "    <tr>\n",
       "      <th>bathroomcnt</th>\n",
       "      <td>3.5</td>\n",
       "      <td>1.0</td>\n",
       "      <td>2.0</td>\n",
       "      <td>3.0</td>\n",
       "      <td>3.0</td>\n",
       "    </tr>\n",
       "    <tr>\n",
       "      <th>bedroomcnt</th>\n",
       "      <td>4.0</td>\n",
       "      <td>2.0</td>\n",
       "      <td>3.0</td>\n",
       "      <td>4.0</td>\n",
       "      <td>4.0</td>\n",
       "    </tr>\n",
       "    <tr>\n",
       "      <th>calculatedbathnbr</th>\n",
       "      <td>3.5</td>\n",
       "      <td>1.0</td>\n",
       "      <td>2.0</td>\n",
       "      <td>3.0</td>\n",
       "      <td>3.0</td>\n",
       "    </tr>\n",
       "    <tr>\n",
       "      <th>calculatedfinishedsquarefeet</th>\n",
       "      <td>3100.0</td>\n",
       "      <td>1465.0</td>\n",
       "      <td>1243.0</td>\n",
       "      <td>2376.0</td>\n",
       "      <td>2962.0</td>\n",
       "    </tr>\n",
       "    <tr>\n",
       "      <th>finishedsquarefeet12</th>\n",
       "      <td>3100.0</td>\n",
       "      <td>1465.0</td>\n",
       "      <td>1243.0</td>\n",
       "      <td>2376.0</td>\n",
       "      <td>2962.0</td>\n",
       "    </tr>\n",
       "    <tr>\n",
       "      <th>fips</th>\n",
       "      <td>6059.0</td>\n",
       "      <td>6111.0</td>\n",
       "      <td>6059.0</td>\n",
       "      <td>6037.0</td>\n",
       "      <td>6037.0</td>\n",
       "    </tr>\n",
       "    <tr>\n",
       "      <th>fullbathcnt</th>\n",
       "      <td>3.0</td>\n",
       "      <td>1.0</td>\n",
       "      <td>2.0</td>\n",
       "      <td>3.0</td>\n",
       "      <td>3.0</td>\n",
       "    </tr>\n",
       "    <tr>\n",
       "      <th>latitude</th>\n",
       "      <td>33634931.0</td>\n",
       "      <td>34449266.0</td>\n",
       "      <td>33886168.0</td>\n",
       "      <td>34245180.0</td>\n",
       "      <td>34145202.0</td>\n",
       "    </tr>\n",
       "    <tr>\n",
       "      <th>longitude</th>\n",
       "      <td>-117869207.0</td>\n",
       "      <td>-119281531.0</td>\n",
       "      <td>-117823170.0</td>\n",
       "      <td>-118240722.0</td>\n",
       "      <td>-118179824.0</td>\n",
       "    </tr>\n",
       "    <tr>\n",
       "      <th>lotsizesquarefeet</th>\n",
       "      <td>4506.0</td>\n",
       "      <td>12647.0</td>\n",
       "      <td>8432.0</td>\n",
       "      <td>13038.0</td>\n",
       "      <td>63000.0</td>\n",
       "    </tr>\n",
       "    <tr>\n",
       "      <th>propertycountylandusecode</th>\n",
       "      <td>122</td>\n",
       "      <td>1110</td>\n",
       "      <td>122</td>\n",
       "      <td>0101</td>\n",
       "      <td>0101</td>\n",
       "    </tr>\n",
       "    <tr>\n",
       "      <th>propertyzoningdesc</th>\n",
       "      <td>None</td>\n",
       "      <td>None</td>\n",
       "      <td>None</td>\n",
       "      <td>LCR110000*</td>\n",
       "      <td>PSR2</td>\n",
       "    </tr>\n",
       "    <tr>\n",
       "      <th>rawcensustractandblock</th>\n",
       "      <td>60590630.072012</td>\n",
       "      <td>61110010.023006</td>\n",
       "      <td>60590218.022012</td>\n",
       "      <td>60373001.001006</td>\n",
       "      <td>60374608.001014</td>\n",
       "    </tr>\n",
       "    <tr>\n",
       "      <th>regionidcity</th>\n",
       "      <td>53571.0</td>\n",
       "      <td>13091.0</td>\n",
       "      <td>21412.0</td>\n",
       "      <td>396551.0</td>\n",
       "      <td>47019.0</td>\n",
       "    </tr>\n",
       "    <tr>\n",
       "      <th>regionidcounty</th>\n",
       "      <td>1286.0</td>\n",
       "      <td>2061.0</td>\n",
       "      <td>1286.0</td>\n",
       "      <td>3101.0</td>\n",
       "      <td>3101.0</td>\n",
       "    </tr>\n",
       "    <tr>\n",
       "      <th>regionidzip</th>\n",
       "      <td>96978.0</td>\n",
       "      <td>97099.0</td>\n",
       "      <td>97078.0</td>\n",
       "      <td>96330.0</td>\n",
       "      <td>96293.0</td>\n",
       "    </tr>\n",
       "    <tr>\n",
       "      <th>roomcnt</th>\n",
       "      <td>0.0</td>\n",
       "      <td>5.0</td>\n",
       "      <td>6.0</td>\n",
       "      <td>0.0</td>\n",
       "      <td>0.0</td>\n",
       "    </tr>\n",
       "    <tr>\n",
       "      <th>unitcnt</th>\n",
       "      <td>NaN</td>\n",
       "      <td>NaN</td>\n",
       "      <td>NaN</td>\n",
       "      <td>1.0</td>\n",
       "      <td>1.0</td>\n",
       "    </tr>\n",
       "    <tr>\n",
       "      <th>yearbuilt</th>\n",
       "      <td>1998.0</td>\n",
       "      <td>1967.0</td>\n",
       "      <td>1962.0</td>\n",
       "      <td>1970.0</td>\n",
       "      <td>1950.0</td>\n",
       "    </tr>\n",
       "    <tr>\n",
       "      <th>structuretaxvaluedollarcnt</th>\n",
       "      <td>485713.0</td>\n",
       "      <td>88000.0</td>\n",
       "      <td>85289.0</td>\n",
       "      <td>108918.0</td>\n",
       "      <td>276684.0</td>\n",
       "    </tr>\n",
       "    <tr>\n",
       "      <th>taxvaluedollarcnt</th>\n",
       "      <td>1023282.0</td>\n",
       "      <td>464000.0</td>\n",
       "      <td>564778.0</td>\n",
       "      <td>145143.0</td>\n",
       "      <td>773303.0</td>\n",
       "    </tr>\n",
       "    <tr>\n",
       "      <th>assessmentyear</th>\n",
       "      <td>2016.0</td>\n",
       "      <td>2016.0</td>\n",
       "      <td>2016.0</td>\n",
       "      <td>2016.0</td>\n",
       "      <td>2016.0</td>\n",
       "    </tr>\n",
       "    <tr>\n",
       "      <th>landtaxvaluedollarcnt</th>\n",
       "      <td>537569.0</td>\n",
       "      <td>376000.0</td>\n",
       "      <td>479489.0</td>\n",
       "      <td>36225.0</td>\n",
       "      <td>496619.0</td>\n",
       "    </tr>\n",
       "    <tr>\n",
       "      <th>taxamount</th>\n",
       "      <td>11013.72</td>\n",
       "      <td>5672.48</td>\n",
       "      <td>6488.3</td>\n",
       "      <td>1777.51</td>\n",
       "      <td>9516.26</td>\n",
       "    </tr>\n",
       "    <tr>\n",
       "      <th>censustractandblock</th>\n",
       "      <td>60590630072012.0</td>\n",
       "      <td>61110010023006.0</td>\n",
       "      <td>60590218022012.0</td>\n",
       "      <td>60373001001006.0</td>\n",
       "      <td>60374608001014.0</td>\n",
       "    </tr>\n",
       "    <tr>\n",
       "      <th>logerror</th>\n",
       "      <td>0.025595</td>\n",
       "      <td>0.055619</td>\n",
       "      <td>0.005383</td>\n",
       "      <td>-0.10341</td>\n",
       "      <td>-0.001011</td>\n",
       "    </tr>\n",
       "    <tr>\n",
       "      <th>heatingorsystemdesc</th>\n",
       "      <td>None</td>\n",
       "      <td>None</td>\n",
       "      <td>None</td>\n",
       "      <td>Central</td>\n",
       "      <td>Central</td>\n",
       "    </tr>\n",
       "    <tr>\n",
       "      <th>propertylandusedesc</th>\n",
       "      <td>Single Family Residential</td>\n",
       "      <td>Single Family Residential</td>\n",
       "      <td>Single Family Residential</td>\n",
       "      <td>Single Family Residential</td>\n",
       "      <td>Single Family Residential</td>\n",
       "    </tr>\n",
       "  </tbody>\n",
       "</table>\n",
       "</div>"
      ],
      "text/plain": [
       "                                                      0  \\\n",
       "transactiondate                              2017-01-01   \n",
       "bathroomcnt                                         3.5   \n",
       "bedroomcnt                                          4.0   \n",
       "calculatedbathnbr                                   3.5   \n",
       "calculatedfinishedsquarefeet                     3100.0   \n",
       "finishedsquarefeet12                             3100.0   \n",
       "fips                                             6059.0   \n",
       "fullbathcnt                                         3.0   \n",
       "latitude                                     33634931.0   \n",
       "longitude                                  -117869207.0   \n",
       "lotsizesquarefeet                                4506.0   \n",
       "propertycountylandusecode                           122   \n",
       "propertyzoningdesc                                 None   \n",
       "rawcensustractandblock                  60590630.072012   \n",
       "regionidcity                                    53571.0   \n",
       "regionidcounty                                   1286.0   \n",
       "regionidzip                                     96978.0   \n",
       "roomcnt                                             0.0   \n",
       "unitcnt                                             NaN   \n",
       "yearbuilt                                        1998.0   \n",
       "structuretaxvaluedollarcnt                     485713.0   \n",
       "taxvaluedollarcnt                             1023282.0   \n",
       "assessmentyear                                   2016.0   \n",
       "landtaxvaluedollarcnt                          537569.0   \n",
       "taxamount                                      11013.72   \n",
       "censustractandblock                    60590630072012.0   \n",
       "logerror                                       0.025595   \n",
       "heatingorsystemdesc                                None   \n",
       "propertylandusedesc           Single Family Residential   \n",
       "\n",
       "                                                      1  \\\n",
       "transactiondate                              2017-01-01   \n",
       "bathroomcnt                                         1.0   \n",
       "bedroomcnt                                          2.0   \n",
       "calculatedbathnbr                                   1.0   \n",
       "calculatedfinishedsquarefeet                     1465.0   \n",
       "finishedsquarefeet12                             1465.0   \n",
       "fips                                             6111.0   \n",
       "fullbathcnt                                         1.0   \n",
       "latitude                                     34449266.0   \n",
       "longitude                                  -119281531.0   \n",
       "lotsizesquarefeet                               12647.0   \n",
       "propertycountylandusecode                          1110   \n",
       "propertyzoningdesc                                 None   \n",
       "rawcensustractandblock                  61110010.023006   \n",
       "regionidcity                                    13091.0   \n",
       "regionidcounty                                   2061.0   \n",
       "regionidzip                                     97099.0   \n",
       "roomcnt                                             5.0   \n",
       "unitcnt                                             NaN   \n",
       "yearbuilt                                        1967.0   \n",
       "structuretaxvaluedollarcnt                      88000.0   \n",
       "taxvaluedollarcnt                              464000.0   \n",
       "assessmentyear                                   2016.0   \n",
       "landtaxvaluedollarcnt                          376000.0   \n",
       "taxamount                                       5672.48   \n",
       "censustractandblock                    61110010023006.0   \n",
       "logerror                                       0.055619   \n",
       "heatingorsystemdesc                                None   \n",
       "propertylandusedesc           Single Family Residential   \n",
       "\n",
       "                                                      2  \\\n",
       "transactiondate                              2017-01-01   \n",
       "bathroomcnt                                         2.0   \n",
       "bedroomcnt                                          3.0   \n",
       "calculatedbathnbr                                   2.0   \n",
       "calculatedfinishedsquarefeet                     1243.0   \n",
       "finishedsquarefeet12                             1243.0   \n",
       "fips                                             6059.0   \n",
       "fullbathcnt                                         2.0   \n",
       "latitude                                     33886168.0   \n",
       "longitude                                  -117823170.0   \n",
       "lotsizesquarefeet                                8432.0   \n",
       "propertycountylandusecode                           122   \n",
       "propertyzoningdesc                                 None   \n",
       "rawcensustractandblock                  60590218.022012   \n",
       "regionidcity                                    21412.0   \n",
       "regionidcounty                                   1286.0   \n",
       "regionidzip                                     97078.0   \n",
       "roomcnt                                             6.0   \n",
       "unitcnt                                             NaN   \n",
       "yearbuilt                                        1962.0   \n",
       "structuretaxvaluedollarcnt                      85289.0   \n",
       "taxvaluedollarcnt                              564778.0   \n",
       "assessmentyear                                   2016.0   \n",
       "landtaxvaluedollarcnt                          479489.0   \n",
       "taxamount                                        6488.3   \n",
       "censustractandblock                    60590218022012.0   \n",
       "logerror                                       0.005383   \n",
       "heatingorsystemdesc                                None   \n",
       "propertylandusedesc           Single Family Residential   \n",
       "\n",
       "                                                      3  \\\n",
       "transactiondate                              2017-01-01   \n",
       "bathroomcnt                                         3.0   \n",
       "bedroomcnt                                          4.0   \n",
       "calculatedbathnbr                                   3.0   \n",
       "calculatedfinishedsquarefeet                     2376.0   \n",
       "finishedsquarefeet12                             2376.0   \n",
       "fips                                             6037.0   \n",
       "fullbathcnt                                         3.0   \n",
       "latitude                                     34245180.0   \n",
       "longitude                                  -118240722.0   \n",
       "lotsizesquarefeet                               13038.0   \n",
       "propertycountylandusecode                          0101   \n",
       "propertyzoningdesc                           LCR110000*   \n",
       "rawcensustractandblock                  60373001.001006   \n",
       "regionidcity                                   396551.0   \n",
       "regionidcounty                                   3101.0   \n",
       "regionidzip                                     96330.0   \n",
       "roomcnt                                             0.0   \n",
       "unitcnt                                             1.0   \n",
       "yearbuilt                                        1970.0   \n",
       "structuretaxvaluedollarcnt                     108918.0   \n",
       "taxvaluedollarcnt                              145143.0   \n",
       "assessmentyear                                   2016.0   \n",
       "landtaxvaluedollarcnt                           36225.0   \n",
       "taxamount                                       1777.51   \n",
       "censustractandblock                    60373001001006.0   \n",
       "logerror                                       -0.10341   \n",
       "heatingorsystemdesc                             Central   \n",
       "propertylandusedesc           Single Family Residential   \n",
       "\n",
       "                                                      6  \n",
       "transactiondate                              2017-01-01  \n",
       "bathroomcnt                                         3.0  \n",
       "bedroomcnt                                          4.0  \n",
       "calculatedbathnbr                                   3.0  \n",
       "calculatedfinishedsquarefeet                     2962.0  \n",
       "finishedsquarefeet12                             2962.0  \n",
       "fips                                             6037.0  \n",
       "fullbathcnt                                         3.0  \n",
       "latitude                                     34145202.0  \n",
       "longitude                                  -118179824.0  \n",
       "lotsizesquarefeet                               63000.0  \n",
       "propertycountylandusecode                          0101  \n",
       "propertyzoningdesc                                 PSR2  \n",
       "rawcensustractandblock                  60374608.001014  \n",
       "regionidcity                                    47019.0  \n",
       "regionidcounty                                   3101.0  \n",
       "regionidzip                                     96293.0  \n",
       "roomcnt                                             0.0  \n",
       "unitcnt                                             1.0  \n",
       "yearbuilt                                        1950.0  \n",
       "structuretaxvaluedollarcnt                     276684.0  \n",
       "taxvaluedollarcnt                              773303.0  \n",
       "assessmentyear                                   2016.0  \n",
       "landtaxvaluedollarcnt                          496619.0  \n",
       "taxamount                                       9516.26  \n",
       "censustractandblock                    60374608001014.0  \n",
       "logerror                                      -0.001011  \n",
       "heatingorsystemdesc                             Central  \n",
       "propertylandusedesc           Single Family Residential  "
      ]
     },
     "execution_count": 32,
     "metadata": {},
     "output_type": "execute_result"
    }
   ],
   "source": [
    "df.head().T"
   ]
  },
  {
   "cell_type": "code",
   "execution_count": 33,
   "id": "d594b24d-e06b-4739-a7ac-51dc5f316e9a",
   "metadata": {},
   "outputs": [
    {
     "data": {
      "text/plain": [
       "True"
      ]
     },
     "execution_count": 33,
     "metadata": {},
     "output_type": "execute_result"
    }
   ],
   "source": [
    "# lets take a look at calculatedbathnbr column compared to bathroomcnt column to see if former is adding any value\n",
    "(df['calculatedbathnbr'][df.calculatedbathnbr != df.bathroomcnt]).size == (df['calculatedbathnbr'][df.calculatedbathnbr != df.bathroomcnt]).isnull().sum()\n",
    "# all values that arent the same are nulls for calculatedbathnbr, not adding any value, whole column should be dropped"
   ]
  },
  {
   "cell_type": "code",
   "execution_count": 34,
   "id": "67f279e1-a4bb-4e02-9527-e70c698bfd28",
   "metadata": {},
   "outputs": [
    {
     "data": {
      "text/plain": [
       "True"
      ]
     },
     "execution_count": 34,
     "metadata": {},
     "output_type": "execute_result"
    }
   ],
   "source": [
    "# lets take a look at calculatedfinishedsquarefeet column compared to finishedsquarefeet12 column to see if former is adding any value\n",
    "(df['finishedsquarefeet12'][df.finishedsquarefeet12 != df.calculatedfinishedsquarefeet]).size == (df['finishedsquarefeet12'][df.finishedsquarefeet12 != df.calculatedfinishedsquarefeet]).isnull().sum()\n",
    "# all different values are nulls, drop"
   ]
  },
  {
   "cell_type": "code",
   "execution_count": 35,
   "id": "34e1c394-215e-4c61-ad0d-c8c827457e39",
   "metadata": {},
   "outputs": [
    {
     "data": {
      "text/plain": [
       "18"
      ]
     },
     "execution_count": 35,
     "metadata": {},
     "output_type": "execute_result"
    }
   ],
   "source": [
    "# what to do with remaining nulls in calculatedfinishedsquarefeet\n",
    "df.calculatedfinishedsquarefeet.isna().sum()"
   ]
  },
  {
   "cell_type": "code",
   "execution_count": 36,
   "id": "186e9b88-689e-492f-aadf-8043273b474f",
   "metadata": {},
   "outputs": [
    {
     "data": {
      "text/plain": [
       "1658.0"
      ]
     },
     "execution_count": 36,
     "metadata": {},
     "output_type": "execute_result"
    }
   ],
   "source": [
    "df.calculatedfinishedsquarefeet.median()"
   ]
  },
  {
   "cell_type": "code",
   "execution_count": 37,
   "id": "2b9d050c-537e-4c08-b908-578d2d3e08ce",
   "metadata": {},
   "outputs": [
    {
     "data": {
      "text/plain": [
       "1922.4068308150752"
      ]
     },
     "execution_count": 37,
     "metadata": {},
     "output_type": "execute_result"
    }
   ],
   "source": [
    "df.calculatedfinishedsquarefeet.mean()"
   ]
  },
  {
   "cell_type": "code",
   "execution_count": 38,
   "id": "ec58108a-3e1c-410e-a255-e2b9fbfa0457",
   "metadata": {},
   "outputs": [],
   "source": [
    "# impute with median\n",
    "df.calculatedfinishedsquarefeet = df.calculatedfinishedsquarefeet.fillna(df.calculatedfinishedsquarefeet.median())"
   ]
  },
  {
   "cell_type": "code",
   "execution_count": 39,
   "id": "c7311075-ce3a-405c-a49b-51bc7b201d3d",
   "metadata": {},
   "outputs": [
    {
     "data": {
      "text/plain": [
       "0"
      ]
     },
     "execution_count": 39,
     "metadata": {},
     "output_type": "execute_result"
    }
   ],
   "source": [
    "df.calculatedfinishedsquarefeet.isna().sum()"
   ]
  },
  {
   "cell_type": "code",
   "execution_count": 40,
   "id": "6ef1e4fd-e7bc-4fc7-9389-5345a0b7301f",
   "metadata": {},
   "outputs": [
    {
     "data": {
      "text/plain": [
       "False"
      ]
     },
     "execution_count": 40,
     "metadata": {},
     "output_type": "execute_result"
    }
   ],
   "source": [
    "# same process with fullbathcount\n",
    "(df['fullbathcnt'][df.fullbathcnt != df.bathroomcnt]).size == (df['fullbathcnt'][df.fullbathcnt != df.bathroomcnt]).isnull().sum()"
   ]
  },
  {
   "cell_type": "code",
   "execution_count": 41,
   "id": "1334104f-57ee-4437-a090-21e7da4eced0",
   "metadata": {},
   "outputs": [
    {
     "data": {
      "text/plain": [
       "6806"
      ]
     },
     "execution_count": 41,
     "metadata": {},
     "output_type": "execute_result"
    }
   ],
   "source": [
    "(df.fullbathcnt != df.bathroomcnt).sum()"
   ]
  },
  {
   "cell_type": "code",
   "execution_count": 42,
   "id": "b0cf774d-dee0-4491-882c-e646fe59054a",
   "metadata": {},
   "outputs": [
    {
     "data": {
      "text/plain": [
       "0"
      ]
     },
     "execution_count": 42,
     "metadata": {},
     "output_type": "execute_result"
    }
   ],
   "source": [
    "(df.fullbathcnt != df.bathroomcnt).isnull().sum()"
   ]
  },
  {
   "cell_type": "code",
   "execution_count": 43,
   "id": "b02c7d1c-f410-4f67-b053-0a2ee024ff32",
   "metadata": {},
   "outputs": [],
   "source": [
    "# redundant info, all necessary info is contained in bathroomcnt and it has less missing values, drop fullbathcnt"
   ]
  },
  {
   "cell_type": "code",
   "execution_count": 44,
   "id": "0a3b1ebb-1a22-4f84-886f-663436aa1fae",
   "metadata": {},
   "outputs": [
    {
     "data": {
      "text/plain": [
       "6840.0"
      ]
     },
     "execution_count": 44,
     "metadata": {},
     "output_type": "execute_result"
    }
   ],
   "source": [
    "# lotsizesqft\n",
    "df.lotsizesquarefeet.median()"
   ]
  },
  {
   "cell_type": "code",
   "execution_count": 45,
   "id": "960caeb7-873c-4715-8857-080815857a66",
   "metadata": {},
   "outputs": [
    {
     "data": {
      "text/plain": [
       "11382.166714733421"
      ]
     },
     "execution_count": 45,
     "metadata": {},
     "output_type": "execute_result"
    }
   ],
   "source": [
    "df.lotsizesquarefeet.mean()"
   ]
  },
  {
   "cell_type": "code",
   "execution_count": 46,
   "id": "4aa142be-bcaf-425e-971f-edacdb88e323",
   "metadata": {},
   "outputs": [],
   "source": [
    "# better to impute with median\n",
    "df.lotsizesquarefeet = df.lotsizesquarefeet.fillna(df.lotsizesquarefeet.median())"
   ]
  },
  {
   "cell_type": "code",
   "execution_count": 47,
   "id": "e4d42799-3d55-44da-b39d-4606087da1ef",
   "metadata": {},
   "outputs": [
    {
     "data": {
      "text/plain": [
       "0"
      ]
     },
     "execution_count": 47,
     "metadata": {},
     "output_type": "execute_result"
    }
   ],
   "source": [
    "df.lotsizesquarefeet.isna().sum()"
   ]
  },
  {
   "cell_type": "code",
   "execution_count": 48,
   "id": "5de7e003-9856-4243-9d5f-125a18c3f52b",
   "metadata": {},
   "outputs": [
    {
     "data": {
      "text/plain": [
       "1289"
      ]
     },
     "execution_count": 48,
     "metadata": {},
     "output_type": "execute_result"
    }
   ],
   "source": [
    "# propertyzoningdesc\n",
    "df.propertyzoningdesc.nunique()"
   ]
  },
  {
   "cell_type": "code",
   "execution_count": 49,
   "id": "d4148623-1565-45f9-9d90-0c01c2b84460",
   "metadata": {},
   "outputs": [
    {
     "data": {
      "text/plain": [
       "LAR1          0.191640\n",
       "LARS          0.040825\n",
       "LBR1N         0.032808\n",
       "SCUR2         0.021063\n",
       "LARA          0.018105\n",
       "                ...   \n",
       "LRRI 7000     0.000030\n",
       "POR2          0.000030\n",
       "DOR1-5000*    0.000030\n",
       "BPRG*         0.000030\n",
       "LAR1-1(T)-    0.000030\n",
       "Name: propertyzoningdesc, Length: 1289, dtype: float64"
      ]
     },
     "execution_count": 49,
     "metadata": {},
     "output_type": "execute_result"
    }
   ],
   "source": [
    "df.propertyzoningdesc.value_counts(normalize=True)"
   ]
  },
  {
   "cell_type": "code",
   "execution_count": 50,
   "id": "c8879150-a26e-491a-9593-07bfd8bbbf39",
   "metadata": {},
   "outputs": [],
   "source": [
    "# impute with most commonly occuring code\n",
    "df.propertyzoningdesc = df.propertyzoningdesc.fillna(df.propertyzoningdesc.mode().tolist()[0])"
   ]
  },
  {
   "cell_type": "code",
   "execution_count": 51,
   "id": "eebeb091-4a09-48e9-ae71-7053a54b1769",
   "metadata": {},
   "outputs": [
    {
     "data": {
      "text/plain": [
       "0"
      ]
     },
     "execution_count": 51,
     "metadata": {},
     "output_type": "execute_result"
    }
   ],
   "source": [
    "df.propertyzoningdesc.isna().sum()"
   ]
  },
  {
   "cell_type": "code",
   "execution_count": 52,
   "id": "e6b9494d-1977-4962-828a-f98df00d1ffa",
   "metadata": {},
   "outputs": [
    {
     "data": {
      "text/plain": [
       "12447.0    0.222385\n",
       "5534.0     0.035158\n",
       "40227.0    0.029179\n",
       "46298.0    0.027757\n",
       "16764.0    0.021056\n",
       "             ...   \n",
       "32927.0    0.000058\n",
       "31134.0    0.000039\n",
       "10815.0    0.000019\n",
       "36078.0    0.000019\n",
       "21395.0    0.000019\n",
       "Name: regionidcity, Length: 175, dtype: float64"
      ]
     },
     "execution_count": 52,
     "metadata": {},
     "output_type": "execute_result"
    }
   ],
   "source": [
    "# regionidcity\n",
    "df.regionidcity.value_counts(normalize=True)\n",
    "# will use most commonly occuring city for exercises, better approach would be to use lat and long or more geographically specific column to find city and impute that way"
   ]
  },
  {
   "cell_type": "code",
   "execution_count": 53,
   "id": "3f6ac74c-5a06-40fc-a422-3dfe7f19666b",
   "metadata": {},
   "outputs": [],
   "source": [
    "df.regionidcity = df.regionidcity.fillna(df.regionidcity.mode().tolist()[0])"
   ]
  },
  {
   "cell_type": "code",
   "execution_count": 54,
   "id": "f3b9da1b-bb35-41b3-82b5-5cd8b498dfdf",
   "metadata": {},
   "outputs": [
    {
     "data": {
      "text/plain": [
       "97319.0    0.015016\n",
       "97318.0    0.012876\n",
       "97329.0    0.010794\n",
       "97328.0    0.009953\n",
       "97118.0    0.009495\n",
       "             ...   \n",
       "96002.0    0.000038\n",
       "96467.0    0.000019\n",
       "97092.0    0.000019\n",
       "96038.0    0.000019\n",
       "96148.0    0.000019\n",
       "Name: regionidzip, Length: 380, dtype: float64"
      ]
     },
     "execution_count": 54,
     "metadata": {},
     "output_type": "execute_result"
    }
   ],
   "source": [
    "# regionidzip\n",
    "df.regionidzip.value_counts(normalize=True)"
   ]
  },
  {
   "cell_type": "code",
   "execution_count": 55,
   "id": "b850a1ae-5b4c-43ff-b8f4-a0dfa0a27995",
   "metadata": {},
   "outputs": [],
   "source": [
    "# not really a significantly most common zip, just drop nulls instead of imputing for this one (after doing all imputation, drop all remaining nulls at same time)"
   ]
  },
  {
   "cell_type": "code",
   "execution_count": 56,
   "id": "b3e3d846-4afd-4452-8d77-3a3fee946efb",
   "metadata": {},
   "outputs": [
    {
     "data": {
      "text/plain": [
       "1.0    0.999172\n",
       "2.0    0.000798\n",
       "3.0    0.000030\n",
       "Name: unitcnt, dtype: float64"
      ]
     },
     "execution_count": 56,
     "metadata": {},
     "output_type": "execute_result"
    }
   ],
   "source": [
    "# unitcnt\n",
    "df.unitcnt.value_counts(normalize=True)"
   ]
  },
  {
   "cell_type": "code",
   "execution_count": 57,
   "id": "9f4c4ef8-1cc4-4765-aaab-47c3ea35aae2",
   "metadata": {},
   "outputs": [
    {
     "data": {
      "text/plain": [
       "1.0    33787\n",
       "2.0       27\n",
       "3.0        1\n",
       "Name: unitcnt, dtype: int64"
      ]
     },
     "execution_count": 57,
     "metadata": {},
     "output_type": "execute_result"
    }
   ],
   "source": [
    "df.unitcnt.value_counts()"
   ]
  },
  {
   "cell_type": "code",
   "execution_count": 58,
   "id": "0a6ef219-40ec-47e9-8f71-5c6364ec144f",
   "metadata": {},
   "outputs": [
    {
     "data": {
      "text/plain": [
       "18554"
      ]
     },
     "execution_count": 58,
     "metadata": {},
     "output_type": "execute_result"
    }
   ],
   "source": [
    "df.unitcnt.isna().sum()"
   ]
  },
  {
   "cell_type": "code",
   "execution_count": 59,
   "id": "684d14b0-195c-44ce-9f61-663f1059eff7",
   "metadata": {},
   "outputs": [],
   "source": [
    "df.unitcnt = df.unitcnt.fillna(1)"
   ]
  },
  {
   "cell_type": "code",
   "execution_count": 60,
   "id": "a6a59039-f961-4070-b603-4cd8d53cb22a",
   "metadata": {},
   "outputs": [
    {
     "data": {
      "text/plain": [
       "Central       0.611196\n",
       "Floor/Wall    0.370074\n",
       "Forced air    0.015273\n",
       "Solar         0.002511\n",
       "None          0.000473\n",
       "Baseboard     0.000207\n",
       "Radiant       0.000177\n",
       "Gravity       0.000059\n",
       "Yes           0.000030\n",
       "Name: heatingorsystemdesc, dtype: float64"
      ]
     },
     "execution_count": 60,
     "metadata": {},
     "output_type": "execute_result"
    }
   ],
   "source": [
    "# heatingorsystemdesc\n",
    "df.heatingorsystemdesc.value_counts(normalize=True)"
   ]
  },
  {
   "cell_type": "code",
   "execution_count": 61,
   "id": "1d934d27-6361-4fe3-8d48-9465f380fc99",
   "metadata": {},
   "outputs": [],
   "source": [
    "# fill with most commonly occuring value\n",
    "df.heatingorsystemdesc = df.heatingorsystemdesc.fillna('Central')"
   ]
  },
  {
   "cell_type": "code",
   "execution_count": 62,
   "id": "0f05cd35-acee-4e00-a80b-0a0232599456",
   "metadata": {},
   "outputs": [],
   "source": [
    "# drop the rest of the nulls\n",
    "df = df.dropna()"
   ]
  },
  {
   "cell_type": "code",
   "execution_count": 63,
   "id": "496765e1-8ff9-4fa9-8b00-ad529bf3f968",
   "metadata": {},
   "outputs": [],
   "source": [
    "df = df.drop(columns=['calculatedbathnbr', 'finishedsquarefeet12', 'fullbathcnt'])"
   ]
  },
  {
   "cell_type": "code",
   "execution_count": 64,
   "id": "6c232d45-f2a0-434d-b91f-4536870f776b",
   "metadata": {},
   "outputs": [
    {
     "data": {
      "text/html": [
       "<div>\n",
       "<style scoped>\n",
       "    .dataframe tbody tr th:only-of-type {\n",
       "        vertical-align: middle;\n",
       "    }\n",
       "\n",
       "    .dataframe tbody tr th {\n",
       "        vertical-align: top;\n",
       "    }\n",
       "\n",
       "    .dataframe thead th {\n",
       "        text-align: right;\n",
       "    }\n",
       "</style>\n",
       "<table border=\"1\" class=\"dataframe\">\n",
       "  <thead>\n",
       "    <tr style=\"text-align: right;\">\n",
       "      <th></th>\n",
       "      <th>num_rows_missing</th>\n",
       "      <th>percent_rows_missing</th>\n",
       "    </tr>\n",
       "  </thead>\n",
       "  <tbody>\n",
       "    <tr>\n",
       "      <th>transactiondate</th>\n",
       "      <td>0</td>\n",
       "      <td>0.0</td>\n",
       "    </tr>\n",
       "    <tr>\n",
       "      <th>bathroomcnt</th>\n",
       "      <td>0</td>\n",
       "      <td>0.0</td>\n",
       "    </tr>\n",
       "    <tr>\n",
       "      <th>bedroomcnt</th>\n",
       "      <td>0</td>\n",
       "      <td>0.0</td>\n",
       "    </tr>\n",
       "    <tr>\n",
       "      <th>calculatedfinishedsquarefeet</th>\n",
       "      <td>0</td>\n",
       "      <td>0.0</td>\n",
       "    </tr>\n",
       "    <tr>\n",
       "      <th>fips</th>\n",
       "      <td>0</td>\n",
       "      <td>0.0</td>\n",
       "    </tr>\n",
       "    <tr>\n",
       "      <th>latitude</th>\n",
       "      <td>0</td>\n",
       "      <td>0.0</td>\n",
       "    </tr>\n",
       "    <tr>\n",
       "      <th>longitude</th>\n",
       "      <td>0</td>\n",
       "      <td>0.0</td>\n",
       "    </tr>\n",
       "    <tr>\n",
       "      <th>lotsizesquarefeet</th>\n",
       "      <td>0</td>\n",
       "      <td>0.0</td>\n",
       "    </tr>\n",
       "    <tr>\n",
       "      <th>propertycountylandusecode</th>\n",
       "      <td>0</td>\n",
       "      <td>0.0</td>\n",
       "    </tr>\n",
       "    <tr>\n",
       "      <th>propertyzoningdesc</th>\n",
       "      <td>0</td>\n",
       "      <td>0.0</td>\n",
       "    </tr>\n",
       "    <tr>\n",
       "      <th>rawcensustractandblock</th>\n",
       "      <td>0</td>\n",
       "      <td>0.0</td>\n",
       "    </tr>\n",
       "    <tr>\n",
       "      <th>regionidcity</th>\n",
       "      <td>0</td>\n",
       "      <td>0.0</td>\n",
       "    </tr>\n",
       "    <tr>\n",
       "      <th>regionidcounty</th>\n",
       "      <td>0</td>\n",
       "      <td>0.0</td>\n",
       "    </tr>\n",
       "    <tr>\n",
       "      <th>regionidzip</th>\n",
       "      <td>0</td>\n",
       "      <td>0.0</td>\n",
       "    </tr>\n",
       "    <tr>\n",
       "      <th>roomcnt</th>\n",
       "      <td>0</td>\n",
       "      <td>0.0</td>\n",
       "    </tr>\n",
       "    <tr>\n",
       "      <th>unitcnt</th>\n",
       "      <td>0</td>\n",
       "      <td>0.0</td>\n",
       "    </tr>\n",
       "    <tr>\n",
       "      <th>yearbuilt</th>\n",
       "      <td>0</td>\n",
       "      <td>0.0</td>\n",
       "    </tr>\n",
       "    <tr>\n",
       "      <th>structuretaxvaluedollarcnt</th>\n",
       "      <td>0</td>\n",
       "      <td>0.0</td>\n",
       "    </tr>\n",
       "    <tr>\n",
       "      <th>taxvaluedollarcnt</th>\n",
       "      <td>0</td>\n",
       "      <td>0.0</td>\n",
       "    </tr>\n",
       "    <tr>\n",
       "      <th>assessmentyear</th>\n",
       "      <td>0</td>\n",
       "      <td>0.0</td>\n",
       "    </tr>\n",
       "    <tr>\n",
       "      <th>landtaxvaluedollarcnt</th>\n",
       "      <td>0</td>\n",
       "      <td>0.0</td>\n",
       "    </tr>\n",
       "    <tr>\n",
       "      <th>taxamount</th>\n",
       "      <td>0</td>\n",
       "      <td>0.0</td>\n",
       "    </tr>\n",
       "    <tr>\n",
       "      <th>censustractandblock</th>\n",
       "      <td>0</td>\n",
       "      <td>0.0</td>\n",
       "    </tr>\n",
       "    <tr>\n",
       "      <th>logerror</th>\n",
       "      <td>0</td>\n",
       "      <td>0.0</td>\n",
       "    </tr>\n",
       "    <tr>\n",
       "      <th>heatingorsystemdesc</th>\n",
       "      <td>0</td>\n",
       "      <td>0.0</td>\n",
       "    </tr>\n",
       "    <tr>\n",
       "      <th>propertylandusedesc</th>\n",
       "      <td>0</td>\n",
       "      <td>0.0</td>\n",
       "    </tr>\n",
       "  </tbody>\n",
       "</table>\n",
       "</div>"
      ],
      "text/plain": [
       "                              num_rows_missing  percent_rows_missing\n",
       "transactiondate                              0                   0.0\n",
       "bathroomcnt                                  0                   0.0\n",
       "bedroomcnt                                   0                   0.0\n",
       "calculatedfinishedsquarefeet                 0                   0.0\n",
       "fips                                         0                   0.0\n",
       "latitude                                     0                   0.0\n",
       "longitude                                    0                   0.0\n",
       "lotsizesquarefeet                            0                   0.0\n",
       "propertycountylandusecode                    0                   0.0\n",
       "propertyzoningdesc                           0                   0.0\n",
       "rawcensustractandblock                       0                   0.0\n",
       "regionidcity                                 0                   0.0\n",
       "regionidcounty                               0                   0.0\n",
       "regionidzip                                  0                   0.0\n",
       "roomcnt                                      0                   0.0\n",
       "unitcnt                                      0                   0.0\n",
       "yearbuilt                                    0                   0.0\n",
       "structuretaxvaluedollarcnt                   0                   0.0\n",
       "taxvaluedollarcnt                            0                   0.0\n",
       "assessmentyear                               0                   0.0\n",
       "landtaxvaluedollarcnt                        0                   0.0\n",
       "taxamount                                    0                   0.0\n",
       "censustractandblock                          0                   0.0\n",
       "logerror                                     0                   0.0\n",
       "heatingorsystemdesc                          0                   0.0\n",
       "propertylandusedesc                          0                   0.0"
      ]
     },
     "execution_count": 64,
     "metadata": {},
     "output_type": "execute_result"
    }
   ],
   "source": [
    "nulls_by_col(df)"
   ]
  },
  {
   "cell_type": "code",
   "execution_count": 65,
   "id": "89c7f28e-ada1-4ac8-89f3-3f6e4f780fc2",
   "metadata": {},
   "outputs": [
    {
     "data": {
      "text/html": [
       "<div>\n",
       "<style scoped>\n",
       "    .dataframe tbody tr th:only-of-type {\n",
       "        vertical-align: middle;\n",
       "    }\n",
       "\n",
       "    .dataframe tbody tr th {\n",
       "        vertical-align: top;\n",
       "    }\n",
       "\n",
       "    .dataframe thead th {\n",
       "        text-align: right;\n",
       "    }\n",
       "</style>\n",
       "<table border=\"1\" class=\"dataframe\">\n",
       "  <thead>\n",
       "    <tr style=\"text-align: right;\">\n",
       "      <th></th>\n",
       "      <th>num_cols_missing</th>\n",
       "      <th>percent_cols_missing</th>\n",
       "      <th>num_rows</th>\n",
       "    </tr>\n",
       "  </thead>\n",
       "  <tbody>\n",
       "    <tr>\n",
       "      <th>0</th>\n",
       "      <td>0</td>\n",
       "      <td>0.0</td>\n",
       "      <td>51900</td>\n",
       "    </tr>\n",
       "  </tbody>\n",
       "</table>\n",
       "</div>"
      ],
      "text/plain": [
       "   num_cols_missing  percent_cols_missing  num_rows\n",
       "0                 0                   0.0     51900"
      ]
     },
     "execution_count": 65,
     "metadata": {},
     "output_type": "execute_result"
    }
   ],
   "source": [
    "nulls_by_row(df)"
   ]
  },
  {
   "cell_type": "code",
   "execution_count": 66,
   "id": "013a7eef-3635-4b57-b2df-c28a358d0ea4",
   "metadata": {},
   "outputs": [
    {
     "data": {
      "text/plain": [
       "(51900, 26)"
      ]
     },
     "execution_count": 66,
     "metadata": {},
     "output_type": "execute_result"
    }
   ],
   "source": [
    "df.shape"
   ]
  },
  {
   "cell_type": "code",
   "execution_count": 67,
   "id": "1e867757-1c60-4bae-94ab-ccdeb07010ff",
   "metadata": {},
   "outputs": [],
   "source": [
    "# remove outliers\n",
    "def remove_outliers(df):\n",
    "    num_cols = df.select_dtypes('number').columns.tolist()\n",
    "    for col in num_cols:\n",
    "        Q1, Q3 = df[col].quantile([.25, 0.75])\n",
    "        IQR = Q3 - Q1\n",
    "        UB = Q3 + (1.5 * IQR)\n",
    "        LB = Q1 - (1.5 * IQR)\n",
    "        df = df[(df[col] < UB) & (df[col] > LB)]\n",
    "    return df"
   ]
  },
  {
   "cell_type": "code",
   "execution_count": 71,
   "id": "39b36797-8d8b-4f63-b7db-c8d15bb43616",
   "metadata": {},
   "outputs": [],
   "source": [
    "def remove_outliers(df):\n",
    "    num_cols = df.select_dtypes('number').columns.tolist()\n",
    "    for col in num_cols:\n",
    "        Q1 = np.percentile(df[col], 25, interpolation='midpoint')\n",
    "        Q3 = np.percentile(df[col], 75, interpolation='midpoint')\n",
    "        IQR = Q3 - Q1\n",
    "        UB = Q3 + (1.5 * IQR)\n",
    "        LB = Q1 - (1.5 * IQR)\n",
    "        df = df[(df[col] < UB) & (df[col] > LB)]\n",
    "    return df"
   ]
  },
  {
   "cell_type": "code",
   "execution_count": 74,
   "id": "b61f1f3e-c240-4e58-bcaa-a0d269d25abc",
   "metadata": {},
   "outputs": [],
   "source": [
    "# df = remove_outliers(df)"
   ]
  },
  {
   "cell_type": "code",
   "execution_count": 73,
   "id": "0f42cbbf-3696-4ac9-89aa-404daf7ed65f",
   "metadata": {},
   "outputs": [
    {
     "data": {
      "text/plain": [
       "(51900, 26)"
      ]
     },
     "execution_count": 73,
     "metadata": {},
     "output_type": "execute_result"
    }
   ],
   "source": [
    "df.shape"
   ]
  },
  {
   "cell_type": "code",
   "execution_count": 70,
   "id": "cf52dca6-9e62-4d80-a93b-fc2ec2a435b2",
   "metadata": {},
   "outputs": [
    {
     "data": {
      "text/html": [
       "<div>\n",
       "<style scoped>\n",
       "    .dataframe tbody tr th:only-of-type {\n",
       "        vertical-align: middle;\n",
       "    }\n",
       "\n",
       "    .dataframe tbody tr th {\n",
       "        vertical-align: top;\n",
       "    }\n",
       "\n",
       "    .dataframe thead th {\n",
       "        text-align: right;\n",
       "    }\n",
       "</style>\n",
       "<table border=\"1\" class=\"dataframe\">\n",
       "  <thead>\n",
       "    <tr style=\"text-align: right;\">\n",
       "      <th></th>\n",
       "      <th>transactiondate</th>\n",
       "      <th>bathroomcnt</th>\n",
       "      <th>bedroomcnt</th>\n",
       "      <th>calculatedfinishedsquarefeet</th>\n",
       "      <th>fips</th>\n",
       "      <th>latitude</th>\n",
       "      <th>longitude</th>\n",
       "      <th>lotsizesquarefeet</th>\n",
       "      <th>propertycountylandusecode</th>\n",
       "      <th>propertyzoningdesc</th>\n",
       "      <th>...</th>\n",
       "      <th>yearbuilt</th>\n",
       "      <th>structuretaxvaluedollarcnt</th>\n",
       "      <th>taxvaluedollarcnt</th>\n",
       "      <th>assessmentyear</th>\n",
       "      <th>landtaxvaluedollarcnt</th>\n",
       "      <th>taxamount</th>\n",
       "      <th>censustractandblock</th>\n",
       "      <th>logerror</th>\n",
       "      <th>heatingorsystemdesc</th>\n",
       "      <th>propertylandusedesc</th>\n",
       "    </tr>\n",
       "  </thead>\n",
       "  <tbody>\n",
       "    <tr>\n",
       "      <th>0</th>\n",
       "      <td>2017-01-01</td>\n",
       "      <td>3.5</td>\n",
       "      <td>4.0</td>\n",
       "      <td>3100.0</td>\n",
       "      <td>6059.0</td>\n",
       "      <td>33634931.0</td>\n",
       "      <td>-117869207.0</td>\n",
       "      <td>4506.0</td>\n",
       "      <td>122</td>\n",
       "      <td>LAR1</td>\n",
       "      <td>...</td>\n",
       "      <td>1998.0</td>\n",
       "      <td>485713.0</td>\n",
       "      <td>1023282.0</td>\n",
       "      <td>2016.0</td>\n",
       "      <td>537569.0</td>\n",
       "      <td>11013.72</td>\n",
       "      <td>6.059063e+13</td>\n",
       "      <td>0.025595</td>\n",
       "      <td>Central</td>\n",
       "      <td>Single Family Residential</td>\n",
       "    </tr>\n",
       "    <tr>\n",
       "      <th>1</th>\n",
       "      <td>2017-01-01</td>\n",
       "      <td>1.0</td>\n",
       "      <td>2.0</td>\n",
       "      <td>1465.0</td>\n",
       "      <td>6111.0</td>\n",
       "      <td>34449266.0</td>\n",
       "      <td>-119281531.0</td>\n",
       "      <td>12647.0</td>\n",
       "      <td>1110</td>\n",
       "      <td>LAR1</td>\n",
       "      <td>...</td>\n",
       "      <td>1967.0</td>\n",
       "      <td>88000.0</td>\n",
       "      <td>464000.0</td>\n",
       "      <td>2016.0</td>\n",
       "      <td>376000.0</td>\n",
       "      <td>5672.48</td>\n",
       "      <td>6.111001e+13</td>\n",
       "      <td>0.055619</td>\n",
       "      <td>Central</td>\n",
       "      <td>Single Family Residential</td>\n",
       "    </tr>\n",
       "    <tr>\n",
       "      <th>2</th>\n",
       "      <td>2017-01-01</td>\n",
       "      <td>2.0</td>\n",
       "      <td>3.0</td>\n",
       "      <td>1243.0</td>\n",
       "      <td>6059.0</td>\n",
       "      <td>33886168.0</td>\n",
       "      <td>-117823170.0</td>\n",
       "      <td>8432.0</td>\n",
       "      <td>122</td>\n",
       "      <td>LAR1</td>\n",
       "      <td>...</td>\n",
       "      <td>1962.0</td>\n",
       "      <td>85289.0</td>\n",
       "      <td>564778.0</td>\n",
       "      <td>2016.0</td>\n",
       "      <td>479489.0</td>\n",
       "      <td>6488.30</td>\n",
       "      <td>6.059022e+13</td>\n",
       "      <td>0.005383</td>\n",
       "      <td>Central</td>\n",
       "      <td>Single Family Residential</td>\n",
       "    </tr>\n",
       "    <tr>\n",
       "      <th>3</th>\n",
       "      <td>2017-01-01</td>\n",
       "      <td>3.0</td>\n",
       "      <td>4.0</td>\n",
       "      <td>2376.0</td>\n",
       "      <td>6037.0</td>\n",
       "      <td>34245180.0</td>\n",
       "      <td>-118240722.0</td>\n",
       "      <td>13038.0</td>\n",
       "      <td>0101</td>\n",
       "      <td>LCR110000*</td>\n",
       "      <td>...</td>\n",
       "      <td>1970.0</td>\n",
       "      <td>108918.0</td>\n",
       "      <td>145143.0</td>\n",
       "      <td>2016.0</td>\n",
       "      <td>36225.0</td>\n",
       "      <td>1777.51</td>\n",
       "      <td>6.037300e+13</td>\n",
       "      <td>-0.103410</td>\n",
       "      <td>Central</td>\n",
       "      <td>Single Family Residential</td>\n",
       "    </tr>\n",
       "    <tr>\n",
       "      <th>6</th>\n",
       "      <td>2017-01-01</td>\n",
       "      <td>3.0</td>\n",
       "      <td>4.0</td>\n",
       "      <td>2962.0</td>\n",
       "      <td>6037.0</td>\n",
       "      <td>34145202.0</td>\n",
       "      <td>-118179824.0</td>\n",
       "      <td>63000.0</td>\n",
       "      <td>0101</td>\n",
       "      <td>PSR2</td>\n",
       "      <td>...</td>\n",
       "      <td>1950.0</td>\n",
       "      <td>276684.0</td>\n",
       "      <td>773303.0</td>\n",
       "      <td>2016.0</td>\n",
       "      <td>496619.0</td>\n",
       "      <td>9516.26</td>\n",
       "      <td>6.037461e+13</td>\n",
       "      <td>-0.001011</td>\n",
       "      <td>Central</td>\n",
       "      <td>Single Family Residential</td>\n",
       "    </tr>\n",
       "  </tbody>\n",
       "</table>\n",
       "<p>5 rows × 26 columns</p>\n",
       "</div>"
      ],
      "text/plain": [
       "  transactiondate  bathroomcnt  bedroomcnt  calculatedfinishedsquarefeet  \\\n",
       "0      2017-01-01          3.5         4.0                        3100.0   \n",
       "1      2017-01-01          1.0         2.0                        1465.0   \n",
       "2      2017-01-01          2.0         3.0                        1243.0   \n",
       "3      2017-01-01          3.0         4.0                        2376.0   \n",
       "6      2017-01-01          3.0         4.0                        2962.0   \n",
       "\n",
       "     fips    latitude    longitude  lotsizesquarefeet  \\\n",
       "0  6059.0  33634931.0 -117869207.0             4506.0   \n",
       "1  6111.0  34449266.0 -119281531.0            12647.0   \n",
       "2  6059.0  33886168.0 -117823170.0             8432.0   \n",
       "3  6037.0  34245180.0 -118240722.0            13038.0   \n",
       "6  6037.0  34145202.0 -118179824.0            63000.0   \n",
       "\n",
       "  propertycountylandusecode propertyzoningdesc  ...  yearbuilt  \\\n",
       "0                       122               LAR1  ...     1998.0   \n",
       "1                      1110               LAR1  ...     1967.0   \n",
       "2                       122               LAR1  ...     1962.0   \n",
       "3                      0101         LCR110000*  ...     1970.0   \n",
       "6                      0101               PSR2  ...     1950.0   \n",
       "\n",
       "   structuretaxvaluedollarcnt  taxvaluedollarcnt  assessmentyear  \\\n",
       "0                    485713.0          1023282.0          2016.0   \n",
       "1                     88000.0           464000.0          2016.0   \n",
       "2                     85289.0           564778.0          2016.0   \n",
       "3                    108918.0           145143.0          2016.0   \n",
       "6                    276684.0           773303.0          2016.0   \n",
       "\n",
       "   landtaxvaluedollarcnt  taxamount  censustractandblock  logerror  \\\n",
       "0               537569.0   11013.72         6.059063e+13  0.025595   \n",
       "1               376000.0    5672.48         6.111001e+13  0.055619   \n",
       "2               479489.0    6488.30         6.059022e+13  0.005383   \n",
       "3                36225.0    1777.51         6.037300e+13 -0.103410   \n",
       "6               496619.0    9516.26         6.037461e+13 -0.001011   \n",
       "\n",
       "   heatingorsystemdesc        propertylandusedesc  \n",
       "0              Central  Single Family Residential  \n",
       "1              Central  Single Family Residential  \n",
       "2              Central  Single Family Residential  \n",
       "3              Central  Single Family Residential  \n",
       "6              Central  Single Family Residential  \n",
       "\n",
       "[5 rows x 26 columns]"
      ]
     },
     "execution_count": 70,
     "metadata": {},
     "output_type": "execute_result"
    }
   ],
   "source": [
    "df.head()"
   ]
  },
  {
   "cell_type": "code",
   "execution_count": null,
   "id": "2ddfd438-e2f2-490d-b772-ba88a7a798b9",
   "metadata": {},
   "outputs": [],
   "source": []
  }
 ],
 "metadata": {
  "kernelspec": {
   "display_name": "Python 3",
   "language": "python",
   "name": "python3"
  },
  "language_info": {
   "codemirror_mode": {
    "name": "ipython",
    "version": 3
   },
   "file_extension": ".py",
   "mimetype": "text/x-python",
   "name": "python",
   "nbconvert_exporter": "python",
   "pygments_lexer": "ipython3",
   "version": "3.8.8"
  }
 },
 "nbformat": 4,
 "nbformat_minor": 5
}
