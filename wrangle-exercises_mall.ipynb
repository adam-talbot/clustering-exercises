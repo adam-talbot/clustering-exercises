{
 "cells": [
  {
   "cell_type": "markdown",
   "id": "564989e9-9124-4ce0-9d78-d61b3babbbf6",
   "metadata": {},
   "source": [
    "# Mall Customers"
   ]
  },
  {
   "cell_type": "code",
   "execution_count": 1,
   "id": "426911a3-caca-4d25-8dd6-b7f5f7d1cab3",
   "metadata": {
    "jupyter": {
     "source_hidden": true
    },
    "tags": []
   },
   "outputs": [],
   "source": [
    "# standard imports\n",
    "import pandas as pd\n",
    "import numpy as np\n",
    "import seaborn as sns\n",
    "import matplotlib.pyplot as plt\n",
    "\n",
    "import os\n",
    "\n",
    "import sklearn\n",
    "from sklearn.model_selection import train_test_split\n",
    "from sklearn.preprocessing import MinMaxScaler\n",
    "\n",
    "# ignore warnings\n",
    "import warnings\n",
    "warnings.filterwarnings(\"ignore\")\n",
    "\n",
    "# custom imports\n",
    "from env import host, user, password"
   ]
  },
  {
   "cell_type": "markdown",
   "id": "34f79979-e1fa-4004-8f96-0b093db77984",
   "metadata": {},
   "source": [
    "## 1."
   ]
  },
  {
   "cell_type": "markdown",
   "id": "5d7d8318-3d14-4faf-9d8d-94399740f487",
   "metadata": {},
   "source": [
    "Acquire data from mall_customers.customers in mysql database."
   ]
  },
  {
   "cell_type": "code",
   "execution_count": 2,
   "id": "4f27ff4e-b17f-4991-beb5-083c28c0ba94",
   "metadata": {
    "jupyter": {
     "source_hidden": true
    },
    "tags": []
   },
   "outputs": [],
   "source": [
    "def get_connection(db, user=user, host=host, password=password):\n",
    "    '''\n",
    "    This function uses my info from my env file to\n",
    "    create a connection url to access the Codeup db.\n",
    "    It takes in a string name of a database as an argument.\n",
    "    '''\n",
    "    return f'mysql+pymysql://{user}:{password}@{host}/{db}'\n",
    "\n",
    "    \n",
    "def new_mall_data():\n",
    "    '''\n",
    "    This function reads the data from the Codeup db into a df and returns the df.\n",
    "    '''\n",
    "    # Create SQL query.\n",
    "    sql_query = \"\"\"\n",
    "    select * from customers;\n",
    "    \"\"\"\n",
    "    \n",
    "    # Read in DataFrame from Codeup db.\n",
    "    df = pd.read_sql(sql_query, get_connection('mall_customers'))\n",
    "    \n",
    "    return df.set_index('customer_id')\n",
    "\n",
    "def get_mall_data():\n",
    "    '''\n",
    "    This function reads in data from Codeup database, writes data to\n",
    "    a csv file if a local file does not exist, and returns a df.\n",
    "    '''\n",
    "    if os.path.isfile('mall_customers_df.csv'):\n",
    "        \n",
    "        # If csv file exists, read in data from csv file.\n",
    "        df = pd.read_csv('mall_customers_df.csv', index_col=0)\n",
    "        \n",
    "    else:\n",
    "        \n",
    "        # Read fresh data from db into a DataFrame.\n",
    "        df = new_mall_data()\n",
    "        \n",
    "        # Write DataFrame to a csv file.\n",
    "        df.to_csv('mall_customers_df.csv')\n",
    "        \n",
    "    return df"
   ]
  },
  {
   "cell_type": "code",
   "execution_count": 3,
   "id": "00e6c251-4c0d-41b3-a5e2-024d2f3eb2c1",
   "metadata": {},
   "outputs": [],
   "source": [
    "df = get_mall_data()"
   ]
  },
  {
   "cell_type": "markdown",
   "id": "45011f73-2e63-4cd8-9973-9be7e8cf0a8a",
   "metadata": {},
   "source": [
    "## 2."
   ]
  },
  {
   "cell_type": "markdown",
   "id": "fdd5a4ad-6aa3-4f80-b840-8492b5cf2820",
   "metadata": {},
   "source": [
    "Summarize data (include distributions and descriptive statistics)."
   ]
  },
  {
   "cell_type": "code",
   "execution_count": 4,
   "id": "fe76dd65-d47f-467b-be8e-21f364922a45",
   "metadata": {},
   "outputs": [
    {
     "data": {
      "text/plain": [
       "(200, 4)"
      ]
     },
     "execution_count": 4,
     "metadata": {},
     "output_type": "execute_result"
    }
   ],
   "source": [
    "df.shape"
   ]
  },
  {
   "cell_type": "code",
   "execution_count": 5,
   "id": "93309bc2-bf7c-42c6-bb42-025e999d4cbe",
   "metadata": {},
   "outputs": [
    {
     "data": {
      "text/html": [
       "<div>\n",
       "<style scoped>\n",
       "    .dataframe tbody tr th:only-of-type {\n",
       "        vertical-align: middle;\n",
       "    }\n",
       "\n",
       "    .dataframe tbody tr th {\n",
       "        vertical-align: top;\n",
       "    }\n",
       "\n",
       "    .dataframe thead th {\n",
       "        text-align: right;\n",
       "    }\n",
       "</style>\n",
       "<table border=\"1\" class=\"dataframe\">\n",
       "  <thead>\n",
       "    <tr style=\"text-align: right;\">\n",
       "      <th></th>\n",
       "      <th>gender</th>\n",
       "      <th>age</th>\n",
       "      <th>annual_income</th>\n",
       "      <th>spending_score</th>\n",
       "    </tr>\n",
       "    <tr>\n",
       "      <th>customer_id</th>\n",
       "      <th></th>\n",
       "      <th></th>\n",
       "      <th></th>\n",
       "      <th></th>\n",
       "    </tr>\n",
       "  </thead>\n",
       "  <tbody>\n",
       "    <tr>\n",
       "      <th>1</th>\n",
       "      <td>Male</td>\n",
       "      <td>19</td>\n",
       "      <td>15</td>\n",
       "      <td>39</td>\n",
       "    </tr>\n",
       "    <tr>\n",
       "      <th>2</th>\n",
       "      <td>Male</td>\n",
       "      <td>21</td>\n",
       "      <td>15</td>\n",
       "      <td>81</td>\n",
       "    </tr>\n",
       "    <tr>\n",
       "      <th>3</th>\n",
       "      <td>Female</td>\n",
       "      <td>20</td>\n",
       "      <td>16</td>\n",
       "      <td>6</td>\n",
       "    </tr>\n",
       "    <tr>\n",
       "      <th>4</th>\n",
       "      <td>Female</td>\n",
       "      <td>23</td>\n",
       "      <td>16</td>\n",
       "      <td>77</td>\n",
       "    </tr>\n",
       "    <tr>\n",
       "      <th>5</th>\n",
       "      <td>Female</td>\n",
       "      <td>31</td>\n",
       "      <td>17</td>\n",
       "      <td>40</td>\n",
       "    </tr>\n",
       "  </tbody>\n",
       "</table>\n",
       "</div>"
      ],
      "text/plain": [
       "             gender  age  annual_income  spending_score\n",
       "customer_id                                            \n",
       "1              Male   19             15              39\n",
       "2              Male   21             15              81\n",
       "3            Female   20             16               6\n",
       "4            Female   23             16              77\n",
       "5            Female   31             17              40"
      ]
     },
     "execution_count": 5,
     "metadata": {},
     "output_type": "execute_result"
    }
   ],
   "source": [
    "df.head()"
   ]
  },
  {
   "cell_type": "code",
   "execution_count": 6,
   "id": "f31d722c-f735-401e-9571-942f8b94dc99",
   "metadata": {},
   "outputs": [
    {
     "name": "stdout",
     "output_type": "stream",
     "text": [
      "<class 'pandas.core.frame.DataFrame'>\n",
      "Int64Index: 200 entries, 1 to 200\n",
      "Data columns (total 4 columns):\n",
      " #   Column          Non-Null Count  Dtype \n",
      "---  ------          --------------  ----- \n",
      " 0   gender          200 non-null    object\n",
      " 1   age             200 non-null    int64 \n",
      " 2   annual_income   200 non-null    int64 \n",
      " 3   spending_score  200 non-null    int64 \n",
      "dtypes: int64(3), object(1)\n",
      "memory usage: 7.8+ KB\n"
     ]
    }
   ],
   "source": [
    "df.info()"
   ]
  },
  {
   "cell_type": "code",
   "execution_count": 7,
   "id": "c382ed3a-aed2-4bb1-9605-85ac551e2b56",
   "metadata": {},
   "outputs": [
    {
     "data": {
      "text/html": [
       "<div>\n",
       "<style scoped>\n",
       "    .dataframe tbody tr th:only-of-type {\n",
       "        vertical-align: middle;\n",
       "    }\n",
       "\n",
       "    .dataframe tbody tr th {\n",
       "        vertical-align: top;\n",
       "    }\n",
       "\n",
       "    .dataframe thead th {\n",
       "        text-align: right;\n",
       "    }\n",
       "</style>\n",
       "<table border=\"1\" class=\"dataframe\">\n",
       "  <thead>\n",
       "    <tr style=\"text-align: right;\">\n",
       "      <th></th>\n",
       "      <th>age</th>\n",
       "      <th>annual_income</th>\n",
       "      <th>spending_score</th>\n",
       "    </tr>\n",
       "  </thead>\n",
       "  <tbody>\n",
       "    <tr>\n",
       "      <th>count</th>\n",
       "      <td>200.000000</td>\n",
       "      <td>200.000000</td>\n",
       "      <td>200.000000</td>\n",
       "    </tr>\n",
       "    <tr>\n",
       "      <th>mean</th>\n",
       "      <td>38.850000</td>\n",
       "      <td>60.560000</td>\n",
       "      <td>50.200000</td>\n",
       "    </tr>\n",
       "    <tr>\n",
       "      <th>std</th>\n",
       "      <td>13.969007</td>\n",
       "      <td>26.264721</td>\n",
       "      <td>25.823522</td>\n",
       "    </tr>\n",
       "    <tr>\n",
       "      <th>min</th>\n",
       "      <td>18.000000</td>\n",
       "      <td>15.000000</td>\n",
       "      <td>1.000000</td>\n",
       "    </tr>\n",
       "    <tr>\n",
       "      <th>25%</th>\n",
       "      <td>28.750000</td>\n",
       "      <td>41.500000</td>\n",
       "      <td>34.750000</td>\n",
       "    </tr>\n",
       "    <tr>\n",
       "      <th>50%</th>\n",
       "      <td>36.000000</td>\n",
       "      <td>61.500000</td>\n",
       "      <td>50.000000</td>\n",
       "    </tr>\n",
       "    <tr>\n",
       "      <th>75%</th>\n",
       "      <td>49.000000</td>\n",
       "      <td>78.000000</td>\n",
       "      <td>73.000000</td>\n",
       "    </tr>\n",
       "    <tr>\n",
       "      <th>max</th>\n",
       "      <td>70.000000</td>\n",
       "      <td>137.000000</td>\n",
       "      <td>99.000000</td>\n",
       "    </tr>\n",
       "  </tbody>\n",
       "</table>\n",
       "</div>"
      ],
      "text/plain": [
       "              age  annual_income  spending_score\n",
       "count  200.000000     200.000000      200.000000\n",
       "mean    38.850000      60.560000       50.200000\n",
       "std     13.969007      26.264721       25.823522\n",
       "min     18.000000      15.000000        1.000000\n",
       "25%     28.750000      41.500000       34.750000\n",
       "50%     36.000000      61.500000       50.000000\n",
       "75%     49.000000      78.000000       73.000000\n",
       "max     70.000000     137.000000       99.000000"
      ]
     },
     "execution_count": 7,
     "metadata": {},
     "output_type": "execute_result"
    }
   ],
   "source": [
    "df.describe()"
   ]
  },
  {
   "cell_type": "code",
   "execution_count": 8,
   "id": "aa5d487e-7f67-48ea-a7c2-2bc39bb0bfeb",
   "metadata": {
    "jupyter": {
     "source_hidden": true
    },
    "tags": []
   },
   "outputs": [],
   "source": [
    "def plot_distributions(df):\n",
    "    '''\n",
    "    This function creates frequency distributions for each numerical column in the df\n",
    "    '''\n",
    "    plt.figure(figsize=(15, 3))\n",
    "    \n",
    "    # List of columns\n",
    "    cols = df.select_dtypes('number').columns.tolist()\n",
    "    \n",
    "    for i, col in enumerate(cols):\n",
    "        \n",
    "        # i starts at 0, but plot nos should start at 1\n",
    "        plot_number = i + 1 \n",
    "        \n",
    "        # Create subplot.\n",
    "        plt.subplot(1,len(cols), plot_number)\n",
    "        \n",
    "        # Axis labels\n",
    "        plt.xlabel(col)\n",
    "        plt.ylabel('count')\n",
    "        \n",
    "        # Display histogram for column.\n",
    "        df[col].hist(edgecolor='black', color='green')\n",
    "        \n",
    "        # Hide gridlines.\n",
    "        plt.grid(False)"
   ]
  },
  {
   "cell_type": "code",
   "execution_count": 9,
   "id": "85b0a5a8-efe4-4516-8975-39f52df52f24",
   "metadata": {},
   "outputs": [
    {
     "data": {
      "image/png": "[encoded data removed]",
      "text/plain": [
       "<Figure size 1080x216 with 3 Axes>"
      ]
     },
     "metadata": {
      "needs_background": "light"
     },
     "output_type": "display_data"
    }
   ],
   "source": [
    "plot_distributions(df)"
   ]
  },
  {
   "cell_type": "markdown",
   "id": "12289896-d42e-4468-aa04-3396930971e5",
   "metadata": {},
   "source": [
    "***Might be some outliers with annual income, everything else looks good***"
   ]
  },
  {
   "cell_type": "code",
   "execution_count": 10,
   "id": "785a51d9-223c-4ac5-9f06-f22f5be85acb",
   "metadata": {
    "jupyter": {
     "source_hidden": true
    },
    "tags": []
   },
   "outputs": [],
   "source": [
    "def plot_boxplots(df):\n",
    "    '''\n",
    "    This function creates boxplots for each numerical column in the df\n",
    "    '''\n",
    "    plt.figure(figsize=(12, 4))\n",
    "\n",
    "    # List of columns\n",
    "    cols = df.select_dtypes('number').columns.tolist()\n",
    "    \n",
    "    for i, col in enumerate(cols):\n",
    "        \n",
    "        # i starts at 0, but plot nos should start at 1\n",
    "        plot_number = i + 1 \n",
    "        \n",
    "        # Create subplot.\n",
    "        plt.subplot(1,len(cols), plot_number)\n",
    "        \n",
    "        # Title with column name.\n",
    "        #plt.title(col)\n",
    "        \n",
    "        # Display boxplot for column.\n",
    "        sns.boxplot(y=col, data=df, color='green')\n",
    "        plt.tight_layout()"
   ]
  },
  {
   "cell_type": "code",
   "execution_count": 11,
   "id": "20606ce0-63df-4918-82a4-963c1a1a8616",
   "metadata": {},
   "outputs": [
    {
     "data": {
      "image/png": "[encoded data removed]",
      "text/plain": [
       "<Figure size 864x288 with 3 Axes>"
      ]
     },
     "metadata": {
      "needs_background": "light"
     },
     "output_type": "display_data"
    }
   ],
   "source": [
    "plot_boxplots(df)"
   ]
  },
  {
   "cell_type": "markdown",
   "id": "92a86b62-3fb3-4f6e-877a-b9037aa9f18b",
   "metadata": {},
   "source": [
    "***Are outliers present with annual income***"
   ]
  },
  {
   "cell_type": "markdown",
   "id": "a4601ecc-8770-4aad-950a-18c4c6980398",
   "metadata": {},
   "source": [
    "## 3."
   ]
  },
  {
   "cell_type": "markdown",
   "id": "6c71ea19-48cb-4e6e-9c63-bd05a4c98469",
   "metadata": {},
   "source": [
    "Detect outliers using IQR."
   ]
  },
  {
   "cell_type": "code",
   "execution_count": 12,
   "id": "efe99df5-9d89-4bab-a960-fd1a96b0246d",
   "metadata": {
    "jupyter": {
     "source_hidden": true
    },
    "tags": []
   },
   "outputs": [],
   "source": [
    "def remove_outliers(df):\n",
    "    num_cols = df.select_dtypes('number').columns.tolist()\n",
    "    for col in num_cols:\n",
    "        Q1 = np.percentile(df[col], 25, interpolation='midpoint')\n",
    "        Q3 = np.percentile(df[col], 75, interpolation='midpoint')\n",
    "        IQR = Q3 - Q1\n",
    "        UB = Q3 + (1.5 * IQR)\n",
    "        LB = Q1 - (1.5 * IQR)\n",
    "        df = df[(df[col] < UB) & (df[col] > LB)]\n",
    "    return df"
   ]
  },
  {
   "cell_type": "code",
   "execution_count": 13,
   "id": "ce499849-a98a-4140-a5f6-64a2e82968de",
   "metadata": {},
   "outputs": [],
   "source": [
    "df = remove_outliers(df)"
   ]
  },
  {
   "cell_type": "code",
   "execution_count": 14,
   "id": "8b439c01-c657-495c-915d-e67358c8ef77",
   "metadata": {},
   "outputs": [
    {
     "data": {
      "text/plain": [
       "(198, 4)"
      ]
     },
     "execution_count": 14,
     "metadata": {},
     "output_type": "execute_result"
    }
   ],
   "source": [
    "df.shape"
   ]
  },
  {
   "cell_type": "code",
   "execution_count": 15,
   "id": "29c484a1-ceef-49b3-8555-f454d01d0fc6",
   "metadata": {},
   "outputs": [
    {
     "data": {
      "image/png": "[encoded data removed]",
      "text/plain": [
       "<Figure size 1080x216 with 3 Axes>"
      ]
     },
     "metadata": {
      "needs_background": "light"
     },
     "output_type": "display_data"
    }
   ],
   "source": [
    "plot_distributions(df)"
   ]
  },
  {
   "cell_type": "code",
   "execution_count": 16,
   "id": "415c3e68-a046-4e1a-b4c9-0a431ff73cbf",
   "metadata": {},
   "outputs": [
    {
     "data": {
      "image/png": "[encoded data removed]",
      "text/plain": [
       "<Figure size 864x288 with 3 Axes>"
      ]
     },
     "metadata": {
      "needs_background": "light"
     },
     "output_type": "display_data"
    }
   ],
   "source": [
    "plot_boxplots(df)"
   ]
  },
  {
   "cell_type": "markdown",
   "id": "f6695aac-ab88-4fbe-ba73-545b41b2bf63",
   "metadata": {},
   "source": [
    "***Outliers have been handled***"
   ]
  },
  {
   "cell_type": "markdown",
   "id": "ed517a2b-69f6-4ddd-b9f3-77ea7b68366a",
   "metadata": {},
   "source": [
    "## 6."
   ]
  },
  {
   "cell_type": "markdown",
   "id": "cd403671-1a22-4737-80a2-8e8f248899bc",
   "metadata": {},
   "source": [
    "Handles missing values."
   ]
  },
  {
   "cell_type": "code",
   "execution_count": 17,
   "id": "3f96f0ee-48b6-484f-ba31-fe0cceb33c59",
   "metadata": {},
   "outputs": [
    {
     "data": {
      "text/plain": [
       "gender            0\n",
       "age               0\n",
       "annual_income     0\n",
       "spending_score    0\n",
       "dtype: int64"
      ]
     },
     "execution_count": 17,
     "metadata": {},
     "output_type": "execute_result"
    }
   ],
   "source": [
    "df.isnull().sum()"
   ]
  },
  {
   "cell_type": "markdown",
   "id": "dd8c3f25-9997-4307-b42c-39ccf31397e4",
   "metadata": {},
   "source": [
    "***There are no nulls to handle***"
   ]
  },
  {
   "cell_type": "markdown",
   "id": "24b8442e-4e21-4ef1-b45a-c83db80decca",
   "metadata": {},
   "source": [
    "## 5."
   ]
  },
  {
   "cell_type": "markdown",
   "id": "5cc95e7c-6229-4210-adad-63b4e237ed19",
   "metadata": {},
   "source": [
    "Encode categorical columns using a one hot encoder (pd.get_dummies)."
   ]
  },
  {
   "cell_type": "code",
   "execution_count": 18,
   "id": "40092827-d91c-444b-950f-0fcd46518c89",
   "metadata": {},
   "outputs": [
    {
     "data": {
      "text/html": [
       "<div>\n",
       "<style scoped>\n",
       "    .dataframe tbody tr th:only-of-type {\n",
       "        vertical-align: middle;\n",
       "    }\n",
       "\n",
       "    .dataframe tbody tr th {\n",
       "        vertical-align: top;\n",
       "    }\n",
       "\n",
       "    .dataframe thead th {\n",
       "        text-align: right;\n",
       "    }\n",
       "</style>\n",
       "<table border=\"1\" class=\"dataframe\">\n",
       "  <thead>\n",
       "    <tr style=\"text-align: right;\">\n",
       "      <th></th>\n",
       "      <th>age</th>\n",
       "      <th>annual_income</th>\n",
       "      <th>spending_score</th>\n",
       "      <th>gender_Female</th>\n",
       "      <th>gender_Male</th>\n",
       "    </tr>\n",
       "    <tr>\n",
       "      <th>customer_id</th>\n",
       "      <th></th>\n",
       "      <th></th>\n",
       "      <th></th>\n",
       "      <th></th>\n",
       "      <th></th>\n",
       "    </tr>\n",
       "  </thead>\n",
       "  <tbody>\n",
       "    <tr>\n",
       "      <th>1</th>\n",
       "      <td>19</td>\n",
       "      <td>15</td>\n",
       "      <td>39</td>\n",
       "      <td>0</td>\n",
       "      <td>1</td>\n",
       "    </tr>\n",
       "    <tr>\n",
       "      <th>2</th>\n",
       "      <td>21</td>\n",
       "      <td>15</td>\n",
       "      <td>81</td>\n",
       "      <td>0</td>\n",
       "      <td>1</td>\n",
       "    </tr>\n",
       "    <tr>\n",
       "      <th>3</th>\n",
       "      <td>20</td>\n",
       "      <td>16</td>\n",
       "      <td>6</td>\n",
       "      <td>1</td>\n",
       "      <td>0</td>\n",
       "    </tr>\n",
       "    <tr>\n",
       "      <th>4</th>\n",
       "      <td>23</td>\n",
       "      <td>16</td>\n",
       "      <td>77</td>\n",
       "      <td>1</td>\n",
       "      <td>0</td>\n",
       "    </tr>\n",
       "    <tr>\n",
       "      <th>5</th>\n",
       "      <td>31</td>\n",
       "      <td>17</td>\n",
       "      <td>40</td>\n",
       "      <td>1</td>\n",
       "      <td>0</td>\n",
       "    </tr>\n",
       "  </tbody>\n",
       "</table>\n",
       "</div>"
      ],
      "text/plain": [
       "             age  annual_income  spending_score  gender_Female  gender_Male\n",
       "customer_id                                                                \n",
       "1             19             15              39              0            1\n",
       "2             21             15              81              0            1\n",
       "3             20             16               6              1            0\n",
       "4             23             16              77              1            0\n",
       "5             31             17              40              1            0"
      ]
     },
     "execution_count": 18,
     "metadata": {},
     "output_type": "execute_result"
    }
   ],
   "source": [
    "df_encoded = pd.get_dummies(data=df, columns=['gender'])\n",
    "df_encoded.head()"
   ]
  },
  {
   "cell_type": "code",
   "execution_count": 19,
   "id": "0749bf35-b590-4adc-9827-d53ca135547b",
   "metadata": {},
   "outputs": [
    {
     "name": "stdout",
     "output_type": "stream",
     "text": [
      "<class 'pandas.core.frame.DataFrame'>\n",
      "Int64Index: 198 entries, 1 to 198\n",
      "Data columns (total 5 columns):\n",
      " #   Column          Non-Null Count  Dtype\n",
      "---  ------          --------------  -----\n",
      " 0   age             198 non-null    int64\n",
      " 1   annual_income   198 non-null    int64\n",
      " 2   spending_score  198 non-null    int64\n",
      " 3   gender_Female   198 non-null    uint8\n",
      " 4   gender_Male     198 non-null    uint8\n",
      "dtypes: int64(3), uint8(2)\n",
      "memory usage: 6.6 KB\n"
     ]
    }
   ],
   "source": [
    "df_encoded.info()"
   ]
  },
  {
   "cell_type": "markdown",
   "id": "d2522828-ba58-4bfb-9771-28db693d130f",
   "metadata": {},
   "source": [
    "## 4."
   ]
  },
  {
   "cell_type": "markdown",
   "id": "920ddbec-e019-448d-9102-ff41011ba3a4",
   "metadata": {},
   "source": [
    "Split data (train, validate, and test split)."
   ]
  },
  {
   "cell_type": "code",
   "execution_count": 20,
   "id": "2f7a2bb8-a7d0-477f-97a7-fc7d6291f312",
   "metadata": {
    "jupyter": {
     "source_hidden": true
    },
    "tags": []
   },
   "outputs": [],
   "source": [
    "def split(df):\n",
    "    '''\n",
    "    This function takes in a df and splits it into train, validate, and test dfs\n",
    "    final proportions will be 60/20/20 for train/validate/test\n",
    "    '''\n",
    "    train_validate, test = train_test_split(df, test_size=0.2, random_state=527)\n",
    "    train, validate = train_test_split(train_validate, test_size=.25, random_state=527)\n",
    "    return train, validate, test"
   ]
  },
  {
   "cell_type": "code",
   "execution_count": 21,
   "id": "709df959-7c5b-4091-9d2d-08b4691d858c",
   "metadata": {},
   "outputs": [
    {
     "data": {
      "text/plain": [
       "(0.5959595959595959, 0.20202020202020202, 0.20202020202020202)"
      ]
     },
     "execution_count": 21,
     "metadata": {},
     "output_type": "execute_result"
    }
   ],
   "source": [
    "train_exp, validate_exp, test_exp = split(df)\n",
    "train_exp.shape[0] / df.shape[0], validate_exp.shape[0] / df.shape[0], test_exp.shape[0] / df.shape[0]"
   ]
  },
  {
   "cell_type": "code",
   "execution_count": 22,
   "id": "6966b3bc-0d44-4770-9757-1bb4f86f8dcb",
   "metadata": {},
   "outputs": [
    {
     "data": {
      "text/html": [
       "<div>\n",
       "<style scoped>\n",
       "    .dataframe tbody tr th:only-of-type {\n",
       "        vertical-align: middle;\n",
       "    }\n",
       "\n",
       "    .dataframe tbody tr th {\n",
       "        vertical-align: top;\n",
       "    }\n",
       "\n",
       "    .dataframe thead th {\n",
       "        text-align: right;\n",
       "    }\n",
       "</style>\n",
       "<table border=\"1\" class=\"dataframe\">\n",
       "  <thead>\n",
       "    <tr style=\"text-align: right;\">\n",
       "      <th></th>\n",
       "      <th>gender</th>\n",
       "      <th>age</th>\n",
       "      <th>annual_income</th>\n",
       "      <th>spending_score</th>\n",
       "    </tr>\n",
       "    <tr>\n",
       "      <th>customer_id</th>\n",
       "      <th></th>\n",
       "      <th></th>\n",
       "      <th></th>\n",
       "      <th></th>\n",
       "    </tr>\n",
       "  </thead>\n",
       "  <tbody>\n",
       "    <tr>\n",
       "      <th>44</th>\n",
       "      <td>Female</td>\n",
       "      <td>31</td>\n",
       "      <td>39</td>\n",
       "      <td>61</td>\n",
       "    </tr>\n",
       "    <tr>\n",
       "      <th>74</th>\n",
       "      <td>Female</td>\n",
       "      <td>60</td>\n",
       "      <td>50</td>\n",
       "      <td>56</td>\n",
       "    </tr>\n",
       "    <tr>\n",
       "      <th>119</th>\n",
       "      <td>Female</td>\n",
       "      <td>51</td>\n",
       "      <td>67</td>\n",
       "      <td>43</td>\n",
       "    </tr>\n",
       "    <tr>\n",
       "      <th>130</th>\n",
       "      <td>Male</td>\n",
       "      <td>38</td>\n",
       "      <td>71</td>\n",
       "      <td>75</td>\n",
       "    </tr>\n",
       "    <tr>\n",
       "      <th>169</th>\n",
       "      <td>Female</td>\n",
       "      <td>36</td>\n",
       "      <td>87</td>\n",
       "      <td>27</td>\n",
       "    </tr>\n",
       "  </tbody>\n",
       "</table>\n",
       "</div>"
      ],
      "text/plain": [
       "             gender  age  annual_income  spending_score\n",
       "customer_id                                            \n",
       "44           Female   31             39              61\n",
       "74           Female   60             50              56\n",
       "119          Female   51             67              43\n",
       "130            Male   38             71              75\n",
       "169          Female   36             87              27"
      ]
     },
     "execution_count": 22,
     "metadata": {},
     "output_type": "execute_result"
    }
   ],
   "source": [
    "train_exp.head()"
   ]
  },
  {
   "cell_type": "code",
   "execution_count": 23,
   "id": "cda7c2bb-1e3d-4c44-a0b2-ac5cc39cdfd5",
   "metadata": {},
   "outputs": [
    {
     "data": {
      "text/plain": [
       "(0.5959595959595959, 0.20202020202020202, 0.20202020202020202)"
      ]
     },
     "execution_count": 23,
     "metadata": {},
     "output_type": "execute_result"
    }
   ],
   "source": [
    "train_mod, validate_mod, test_mod = split(df_encoded)\n",
    "train_mod.shape[0] / df.shape[0], validate_mod.shape[0] / df.shape[0], test_mod.shape[0] / df.shape[0]"
   ]
  },
  {
   "cell_type": "code",
   "execution_count": 24,
   "id": "bf7c970d-96f9-4745-b126-599e62dd417a",
   "metadata": {},
   "outputs": [
    {
     "data": {
      "text/html": [
       "<div>\n",
       "<style scoped>\n",
       "    .dataframe tbody tr th:only-of-type {\n",
       "        vertical-align: middle;\n",
       "    }\n",
       "\n",
       "    .dataframe tbody tr th {\n",
       "        vertical-align: top;\n",
       "    }\n",
       "\n",
       "    .dataframe thead th {\n",
       "        text-align: right;\n",
       "    }\n",
       "</style>\n",
       "<table border=\"1\" class=\"dataframe\">\n",
       "  <thead>\n",
       "    <tr style=\"text-align: right;\">\n",
       "      <th></th>\n",
       "      <th>age</th>\n",
       "      <th>annual_income</th>\n",
       "      <th>spending_score</th>\n",
       "      <th>gender_Female</th>\n",
       "      <th>gender_Male</th>\n",
       "    </tr>\n",
       "    <tr>\n",
       "      <th>customer_id</th>\n",
       "      <th></th>\n",
       "      <th></th>\n",
       "      <th></th>\n",
       "      <th></th>\n",
       "      <th></th>\n",
       "    </tr>\n",
       "  </thead>\n",
       "  <tbody>\n",
       "    <tr>\n",
       "      <th>44</th>\n",
       "      <td>31</td>\n",
       "      <td>39</td>\n",
       "      <td>61</td>\n",
       "      <td>1</td>\n",
       "      <td>0</td>\n",
       "    </tr>\n",
       "    <tr>\n",
       "      <th>74</th>\n",
       "      <td>60</td>\n",
       "      <td>50</td>\n",
       "      <td>56</td>\n",
       "      <td>1</td>\n",
       "      <td>0</td>\n",
       "    </tr>\n",
       "    <tr>\n",
       "      <th>119</th>\n",
       "      <td>51</td>\n",
       "      <td>67</td>\n",
       "      <td>43</td>\n",
       "      <td>1</td>\n",
       "      <td>0</td>\n",
       "    </tr>\n",
       "    <tr>\n",
       "      <th>130</th>\n",
       "      <td>38</td>\n",
       "      <td>71</td>\n",
       "      <td>75</td>\n",
       "      <td>0</td>\n",
       "      <td>1</td>\n",
       "    </tr>\n",
       "    <tr>\n",
       "      <th>169</th>\n",
       "      <td>36</td>\n",
       "      <td>87</td>\n",
       "      <td>27</td>\n",
       "      <td>1</td>\n",
       "      <td>0</td>\n",
       "    </tr>\n",
       "  </tbody>\n",
       "</table>\n",
       "</div>"
      ],
      "text/plain": [
       "             age  annual_income  spending_score  gender_Female  gender_Male\n",
       "customer_id                                                                \n",
       "44            31             39              61              1            0\n",
       "74            60             50              56              1            0\n",
       "119           51             67              43              1            0\n",
       "130           38             71              75              0            1\n",
       "169           36             87              27              1            0"
      ]
     },
     "execution_count": 24,
     "metadata": {},
     "output_type": "execute_result"
    }
   ],
   "source": [
    "train_mod.head()"
   ]
  },
  {
   "cell_type": "markdown",
   "id": "16054321-0376-4500-9126-516aed342cce",
   "metadata": {},
   "source": [
    "## 7."
   ]
  },
  {
   "cell_type": "markdown",
   "id": "3183786d-f2f9-4b01-a496-0fcd524a60ff",
   "metadata": {},
   "source": [
    "Scaling"
   ]
  },
  {
   "cell_type": "code",
   "execution_count": 25,
   "id": "b76420a8-5d00-4e61-b860-f88017f0ffd3",
   "metadata": {
    "jupyter": {
     "source_hidden": true
    },
    "tags": []
   },
   "outputs": [],
   "source": [
    "def add_scaled_columns(train, validate, test, scaler, columns_to_scale):\n",
    "    '''\n",
    "    Add scaled copies of columns to train, validate, and split\n",
    "    '''\n",
    "    # new column names\n",
    "    new_column_names = [c + '_scaled' for c in columns_to_scale]\n",
    "    \n",
    "    # Fit the scaler on the train\n",
    "    scaler.fit(train[columns_to_scale])\n",
    "    \n",
    "    # transform train validate and test\n",
    "    train = pd.concat([\n",
    "        train,\n",
    "        pd.DataFrame(scaler.transform(train[columns_to_scale]), columns=new_column_names, index=train.index),\n",
    "    ], axis=1)\n",
    "    \n",
    "    validate = pd.concat([\n",
    "        validate,\n",
    "        pd.DataFrame(scaler.transform(validate[columns_to_scale]), columns=new_column_names, index=validate.index),\n",
    "    ], axis=1)\n",
    "    \n",
    "    \n",
    "    test = pd.concat([\n",
    "        test,\n",
    "        pd.DataFrame(scaler.transform(test[columns_to_scale]), columns=new_column_names, index=test.index),\n",
    "    ], axis=1)\n",
    "    \n",
    "    # drop scaled columns\n",
    "    train = train.drop(columns=columns_to_scale)\n",
    "    validate = validate.drop(columns=columns_to_scale)\n",
    "    test = test.drop(columns=columns_to_scale)\n",
    "    \n",
    "    return train, validate, test"
   ]
  },
  {
   "cell_type": "code",
   "execution_count": 26,
   "id": "c9544b1d-46df-4675-a78c-b8262a005eae",
   "metadata": {},
   "outputs": [
    {
     "data": {
      "text/html": [
       "<div>\n",
       "<style scoped>\n",
       "    .dataframe tbody tr th:only-of-type {\n",
       "        vertical-align: middle;\n",
       "    }\n",
       "\n",
       "    .dataframe tbody tr th {\n",
       "        vertical-align: top;\n",
       "    }\n",
       "\n",
       "    .dataframe thead th {\n",
       "        text-align: right;\n",
       "    }\n",
       "</style>\n",
       "<table border=\"1\" class=\"dataframe\">\n",
       "  <thead>\n",
       "    <tr style=\"text-align: right;\">\n",
       "      <th></th>\n",
       "      <th>gender_Female</th>\n",
       "      <th>gender_Male</th>\n",
       "      <th>age_scaled</th>\n",
       "      <th>annual_income_scaled</th>\n",
       "      <th>spending_score_scaled</th>\n",
       "    </tr>\n",
       "    <tr>\n",
       "      <th>customer_id</th>\n",
       "      <th></th>\n",
       "      <th></th>\n",
       "      <th></th>\n",
       "      <th></th>\n",
       "      <th></th>\n",
       "    </tr>\n",
       "  </thead>\n",
       "  <tbody>\n",
       "    <tr>\n",
       "      <th>44</th>\n",
       "      <td>1</td>\n",
       "      <td>0</td>\n",
       "      <td>0.250000</td>\n",
       "      <td>0.216216</td>\n",
       "      <td>0.612245</td>\n",
       "    </tr>\n",
       "    <tr>\n",
       "      <th>74</th>\n",
       "      <td>1</td>\n",
       "      <td>0</td>\n",
       "      <td>0.807692</td>\n",
       "      <td>0.315315</td>\n",
       "      <td>0.561224</td>\n",
       "    </tr>\n",
       "    <tr>\n",
       "      <th>119</th>\n",
       "      <td>1</td>\n",
       "      <td>0</td>\n",
       "      <td>0.634615</td>\n",
       "      <td>0.468468</td>\n",
       "      <td>0.428571</td>\n",
       "    </tr>\n",
       "    <tr>\n",
       "      <th>130</th>\n",
       "      <td>0</td>\n",
       "      <td>1</td>\n",
       "      <td>0.384615</td>\n",
       "      <td>0.504505</td>\n",
       "      <td>0.755102</td>\n",
       "    </tr>\n",
       "    <tr>\n",
       "      <th>169</th>\n",
       "      <td>1</td>\n",
       "      <td>0</td>\n",
       "      <td>0.346154</td>\n",
       "      <td>0.648649</td>\n",
       "      <td>0.265306</td>\n",
       "    </tr>\n",
       "  </tbody>\n",
       "</table>\n",
       "</div>"
      ],
      "text/plain": [
       "             gender_Female  gender_Male  age_scaled  annual_income_scaled  \\\n",
       "customer_id                                                                 \n",
       "44                       1            0    0.250000              0.216216   \n",
       "74                       1            0    0.807692              0.315315   \n",
       "119                      1            0    0.634615              0.468468   \n",
       "130                      0            1    0.384615              0.504505   \n",
       "169                      1            0    0.346154              0.648649   \n",
       "\n",
       "             spending_score_scaled  \n",
       "customer_id                         \n",
       "44                        0.612245  \n",
       "74                        0.561224  \n",
       "119                       0.428571  \n",
       "130                       0.755102  \n",
       "169                       0.265306  "
      ]
     },
     "execution_count": 26,
     "metadata": {},
     "output_type": "execute_result"
    }
   ],
   "source": [
    "num_cols = df.select_dtypes('number').columns.tolist()\n",
    "train_mod, validate_mod, test_mod = add_scaled_columns(train_mod, validate_mod, test_mod, MinMaxScaler(), num_cols)\n",
    "train_mod.head()"
   ]
  },
  {
   "cell_type": "code",
   "execution_count": 27,
   "id": "2197f7dc-46e6-4548-907c-fcc901c8359b",
   "metadata": {
    "jupyter": {
     "source_hidden": true
    },
    "tags": []
   },
   "outputs": [],
   "source": [
    "def encode_scale(df, scaler):\n",
    "    cat_cols = df.select_dtypes('object').columns.tolist()\n",
    "    df = pd.get_dummies(data=df, columns=cat_cols)\n",
    "    train, validate, test = split(df)\n",
    "    num_cols = df.select_dtypes('int64').columns.tolist()\n",
    "    new_column_names = [c + '_scaled' for c in num_cols]\n",
    "    \n",
    "    # Fit the scaler on the train\n",
    "    scaler.fit(train[num_cols])\n",
    "    \n",
    "    # transform train validate and test\n",
    "    train = pd.concat([\n",
    "        train,\n",
    "        pd.DataFrame(scaler.transform(train[num_cols]), columns=new_column_names, index=train.index),\n",
    "    ], axis=1)\n",
    "    \n",
    "    validate = pd.concat([\n",
    "        validate,\n",
    "        pd.DataFrame(scaler.transform(validate[num_cols]), columns=new_column_names, index=validate.index),\n",
    "    ], axis=1)\n",
    "    \n",
    "    \n",
    "    test = pd.concat([\n",
    "        test,\n",
    "        pd.DataFrame(scaler.transform(test[num_cols]), columns=new_column_names, index=test.index),\n",
    "    ], axis=1)\n",
    "    \n",
    "    # drop scaled columns\n",
    "    train = train.drop(columns=num_cols)\n",
    "    validate = validate.drop(columns=num_cols)\n",
    "    test = test.drop(columns=num_cols)\n",
    "    \n",
    "    return train, validate, test"
   ]
  },
  {
   "cell_type": "code",
   "execution_count": 28,
   "id": "d80feb8c-57c3-4a11-97f5-d22a10c170eb",
   "metadata": {},
   "outputs": [
    {
     "data": {
      "text/html": [
       "<div>\n",
       "<style scoped>\n",
       "    .dataframe tbody tr th:only-of-type {\n",
       "        vertical-align: middle;\n",
       "    }\n",
       "\n",
       "    .dataframe tbody tr th {\n",
       "        vertical-align: top;\n",
       "    }\n",
       "\n",
       "    .dataframe thead th {\n",
       "        text-align: right;\n",
       "    }\n",
       "</style>\n",
       "<table border=\"1\" class=\"dataframe\">\n",
       "  <thead>\n",
       "    <tr style=\"text-align: right;\">\n",
       "      <th></th>\n",
       "      <th>gender_Female</th>\n",
       "      <th>gender_Male</th>\n",
       "      <th>age_scaled</th>\n",
       "      <th>annual_income_scaled</th>\n",
       "      <th>spending_score_scaled</th>\n",
       "    </tr>\n",
       "    <tr>\n",
       "      <th>customer_id</th>\n",
       "      <th></th>\n",
       "      <th></th>\n",
       "      <th></th>\n",
       "      <th></th>\n",
       "      <th></th>\n",
       "    </tr>\n",
       "  </thead>\n",
       "  <tbody>\n",
       "    <tr>\n",
       "      <th>44</th>\n",
       "      <td>1</td>\n",
       "      <td>0</td>\n",
       "      <td>0.250000</td>\n",
       "      <td>0.216216</td>\n",
       "      <td>0.612245</td>\n",
       "    </tr>\n",
       "    <tr>\n",
       "      <th>74</th>\n",
       "      <td>1</td>\n",
       "      <td>0</td>\n",
       "      <td>0.807692</td>\n",
       "      <td>0.315315</td>\n",
       "      <td>0.561224</td>\n",
       "    </tr>\n",
       "    <tr>\n",
       "      <th>119</th>\n",
       "      <td>1</td>\n",
       "      <td>0</td>\n",
       "      <td>0.634615</td>\n",
       "      <td>0.468468</td>\n",
       "      <td>0.428571</td>\n",
       "    </tr>\n",
       "    <tr>\n",
       "      <th>130</th>\n",
       "      <td>0</td>\n",
       "      <td>1</td>\n",
       "      <td>0.384615</td>\n",
       "      <td>0.504505</td>\n",
       "      <td>0.755102</td>\n",
       "    </tr>\n",
       "    <tr>\n",
       "      <th>169</th>\n",
       "      <td>1</td>\n",
       "      <td>0</td>\n",
       "      <td>0.346154</td>\n",
       "      <td>0.648649</td>\n",
       "      <td>0.265306</td>\n",
       "    </tr>\n",
       "  </tbody>\n",
       "</table>\n",
       "</div>"
      ],
      "text/plain": [
       "             gender_Female  gender_Male  age_scaled  annual_income_scaled  \\\n",
       "customer_id                                                                 \n",
       "44                       1            0    0.250000              0.216216   \n",
       "74                       1            0    0.807692              0.315315   \n",
       "119                      1            0    0.634615              0.468468   \n",
       "130                      0            1    0.384615              0.504505   \n",
       "169                      1            0    0.346154              0.648649   \n",
       "\n",
       "             spending_score_scaled  \n",
       "customer_id                         \n",
       "44                        0.612245  \n",
       "74                        0.561224  \n",
       "119                       0.428571  \n",
       "130                       0.755102  \n",
       "169                       0.265306  "
      ]
     },
     "execution_count": 28,
     "metadata": {},
     "output_type": "execute_result"
    }
   ],
   "source": [
    "train_mod, validate_mod, test_mod = encode_scale(df, MinMaxScaler())\n",
    "train_mod.head()"
   ]
  }
 ],
 "metadata": {
  "kernelspec": {
   "display_name": "Python 3",
   "language": "python",
   "name": "python3"
  },
  "language_info": {
   "codemirror_mode": {
    "name": "ipython",
    "version": 3
   },
   "file_extension": ".py",
   "mimetype": "text/x-python",
   "name": "python",
   "nbconvert_exporter": "python",
   "pygments_lexer": "ipython3",
   "version": "3.8.8"
  }
 },
 "nbformat": 4,
 "nbformat_minor": 5
}
